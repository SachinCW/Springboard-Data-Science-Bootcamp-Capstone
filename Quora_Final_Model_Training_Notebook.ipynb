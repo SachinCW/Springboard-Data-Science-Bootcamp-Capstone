{
  "nbformat": 4,
  "nbformat_minor": 0,
  "metadata": {
    "colab": {
      "name": "Quora Final Model Training Notebook.ipynb",
      "provenance": [],
      "collapsed_sections": []
    },
    "kernelspec": {
      "name": "python3",
      "display_name": "Python 3"
    }
  },
  "cells": [
    {
      "cell_type": "markdown",
      "metadata": {
        "id": "RbKfaCHz5ckS",
        "colab_type": "text"
      },
      "source": [
        "**This is the finalized model training notebook for the Quora Insincere Questions Classification project which is also my Springboard ML Course's Capstone Project**"
      ]
    },
    {
      "cell_type": "markdown",
      "metadata": {
        "id": "tCGsSaLn50Dt",
        "colab_type": "text"
      },
      "source": [
        "*Import all the dependencies and mount the Google Drive to access the training file*"
      ]
    },
    {
      "cell_type": "code",
      "metadata": {
        "id": "Zuz4hgJzZw7v",
        "colab_type": "code",
        "outputId": "66081421-9edf-41a9-f7d1-e438292d8f4d",
        "colab": {
          "base_uri": "https://localhost:8080/",
          "height": 462
        }
      },
      "source": [
        "import re\n",
        "import os\n",
        "\n",
        "import unicodedata\n",
        "\n",
        "import nltk\n",
        "nltk.download('punkt')\n",
        "from nltk.stem import PorterStemmer\n",
        "from nltk.corpus import stopwords\n",
        "\n",
        "\n",
        "import matplotlib.pyplot as plt\n",
        "from mpl_toolkits.mplot3d import Axes3D\n",
        "import seaborn as sns\n",
        "%matplotlib inline\n",
        "import numpy as np\n",
        "import pandas as pd\n",
        "\n",
        "from datetime import datetime\n",
        "from pytz import timezone\n",
        "import time\n",
        "\n",
        "from sklearn.model_selection import train_test_split\n",
        "\n",
        "# You will have to download the set of stop words the first time\n",
        "import nltk\n",
        "nltk.download('stopwords')\n",
        "\n",
        "# Load stop words\n",
        "stop_words = stopwords.words('english')\n",
        "stop_words.remove('no')\n",
        "stop_words.remove('not')\n",
        "\n",
        "\n",
        "from google.colab import drive\n",
        "drive.mount('/content/gdrive')\n",
        "os.chdir('gdrive/My Drive/kaggle/quora')\n",
        "!ls -ltr"
      ],
      "execution_count": 0,
      "outputs": [
        {
          "output_type": "stream",
          "text": [
            "[nltk_data] Downloading package punkt to /root/nltk_data...\n",
            "[nltk_data]   Unzipping tokenizers/punkt.zip.\n",
            "[nltk_data] Downloading package stopwords to /root/nltk_data...\n",
            "[nltk_data]   Unzipping corpora/stopwords.zip.\n",
            "Go to this URL in a browser: https://accounts.google.com/o/oauth2/auth?client_id=947318989803-6bn6qk8qdgf4n4g3pfee6491hc0brc4i.apps.googleusercontent.com&redirect_uri=urn%3Aietf%3Awg%3Aoauth%3A2.0%3Aoob&scope=email%20https%3A%2F%2Fwww.googleapis.com%2Fauth%2Fdocs.test%20https%3A%2F%2Fwww.googleapis.com%2Fauth%2Fdrive%20https%3A%2F%2Fwww.googleapis.com%2Fauth%2Fdrive.photos.readonly%20https%3A%2F%2Fwww.googleapis.com%2Fauth%2Fpeopleapi.readonly&response_type=code\n",
            "\n",
            "Enter your authorization code:\n",
            "··········\n",
            "Mounted at /content/gdrive\n",
            "total 12041214\n",
            "-rw------- 1 root root 5646236541 Oct 24  2015 glove.840B.300d.txt\n",
            "-rw------- 1 root root 2259088777 Mar 14  2018 wiki-news-300d-1M.vec\n",
            "-rw------- 1 root root 3644258522 Oct 31  2018 GoogleNews-vectors-negative300.bin\n",
            "drwx------ 2 root root       4096 Aug 25 19:03 paragram_300_sl999\n",
            "-rw------- 1 root root   35011536 Aug 25 19:25 test.csv\n",
            "-rw------- 1 root root  124206772 Aug 25 19:25 train.csv\n",
            "-rw------- 1 root root    8643553 Aug 25 19:26 sample_submission.csv\n",
            "-rw------- 1 root root    6617121 Aug 28 11:36 big.txt\n",
            "drwx------ 2 root root       4096 Sep  2 19:02 catboost_info\n",
            "-rw------- 1 root root    8643553 Sep  7 22:19 submission.csv\n",
            "-rw------- 1 root root  186744887 Sep  8 17:28 quora.csv\n",
            "-rw------- 1 root root  177407020 Sep 21 18:00 quora_preprocessed_stemmed.csv\n",
            "-rw------- 1 root root  116664448 Oct 10 19:29 weights.hdf5\n",
            "-rw------- 1 root root  116664480 Oct 10 20:02 treated_weights.hdf5\n",
            "drwx------ 2 root root       4096 Oct 10 21:03 models\n"
          ],
          "name": "stdout"
        }
      ]
    },
    {
      "cell_type": "markdown",
      "metadata": {
        "id": "Q0kHHViE6EG_",
        "colab_type": "text"
      },
      "source": [
        "*Build a contraction map for expanding contractions to be used in preprocessing step*"
      ]
    },
    {
      "cell_type": "code",
      "metadata": {
        "id": "NoUgBf9raYPF",
        "colab_type": "code",
        "colab": {}
      },
      "source": [
        "CONTRACTION_MAP = {\n",
        "\"ain't\": \"is not\",\n",
        "\"aren't\": \"are not\",\n",
        "\"can't\": \"cannot\",\n",
        "\"can't've\": \"cannot have\",\n",
        "\"'cause\": \"because\",\n",
        "\"could've\": \"could have\",\n",
        "\"couldn't\": \"could not\",\n",
        "\"couldn't've\": \"could not have\",\n",
        "\"didn't\": \"did not\",\n",
        "\"doesn't\": \"does not\",\n",
        "\"don't\": \"do not\",\n",
        "\"hadn't\": \"had not\",\n",
        "\"hadn't've\": \"had not have\",\n",
        "\"hasn't\": \"has not\",\n",
        "\"haven't\": \"have not\",\n",
        "\"he'd\": \"he would\",\n",
        "\"he'd've\": \"he would have\",\n",
        "\"he'll\": \"he will\",\n",
        "\"he'll've\": \"he he will have\",\n",
        "\"he's\": \"he is\",\n",
        "\"how'd\": \"how did\",\n",
        "\"how'd'y\": \"how do you\",\n",
        "\"how'll\": \"how will\",\n",
        "\"how's\": \"how is\",\n",
        "\"I'd\": \"I would\",\n",
        "\"I'd've\": \"I would have\",\n",
        "\"I'll\": \"I will\",\n",
        "\"I'll've\": \"I will have\",\n",
        "\"I'm\": \"I am\",\n",
        "\"I've\": \"I have\",\n",
        "\"i'd\": \"i would\",\n",
        "\"i'd've\": \"i would have\",\n",
        "\"i'll\": \"i will\",\n",
        "\"i'll've\": \"i will have\",\n",
        "\"i'm\": \"i am\",\n",
        "\"i've\": \"i have\",\n",
        "\"isn't\": \"is not\",\n",
        "\"it'd\": \"it would\",\n",
        "\"it'd've\": \"it would have\",\n",
        "\"it'll\": \"it will\",\n",
        "\"it'll've\": \"it will have\",\n",
        "\"it's\": \"it is\",\n",
        "\"let's\": \"let us\",\n",
        "\"ma'am\": \"madam\",\n",
        "\"mayn't\": \"may not\",\n",
        "\"might've\": \"might have\",\n",
        "\"mightn't\": \"might not\",\n",
        "\"mightn't've\": \"might not have\",\n",
        "\"must've\": \"must have\",\n",
        "\"mustn't\": \"must not\",\n",
        "\"mustn't've\": \"must not have\",\n",
        "\"needn't\": \"need not\",\n",
        "\"needn't've\": \"need not have\",\n",
        "\"o'clock\": \"of the clock\",\n",
        "\"oughtn't\": \"ought not\",\n",
        "\"oughtn't've\": \"ought not have\",\n",
        "\"shan't\": \"shall not\",\n",
        "\"sha'n't\": \"shall not\",\n",
        "\"shan't've\": \"shall not have\",\n",
        "\"she'd\": \"she would\",\n",
        "\"she'd've\": \"she would have\",\n",
        "\"she'll\": \"she will\",\n",
        "\"she'll've\": \"she will have\",\n",
        "\"she's\": \"she is\",\n",
        "\"should've\": \"should have\",\n",
        "\"shouldn't\": \"should not\",\n",
        "\"shouldn't've\": \"should not have\",\n",
        "\"so've\": \"so have\",\n",
        "\"so's\": \"so as\",\n",
        "\"that'd\": \"that would\",\n",
        "\"that'd've\": \"that would have\",\n",
        "\"that's\": \"that is\",\n",
        "\"there'd\": \"there would\",\n",
        "\"there'd've\": \"there would have\",\n",
        "\"there's\": \"there is\",\n",
        "\"they'd\": \"they would\",\n",
        "\"they'd've\": \"they would have\",\n",
        "\"they'll\": \"they will\",\n",
        "\"they'll've\": \"they will have\",\n",
        "\"they're\": \"they are\",\n",
        "\"they've\": \"they have\",\n",
        "\"to've\": \"to have\",\n",
        "\"wasn't\": \"was not\",\n",
        "\"we'd\": \"we would\",\n",
        "\"we'd've\": \"we would have\",\n",
        "\"we'll\": \"we will\",\n",
        "\"we'll've\": \"we will have\",\n",
        "\"we're\": \"we are\",\n",
        "\"we've\": \"we have\",\n",
        "\"weren't\": \"were not\",\n",
        "\"what'll\": \"what will\",\n",
        "\"what'll've\": \"what will have\",\n",
        "\"what're\": \"what are\",\n",
        "\"what's\": \"what is\",\n",
        "\"what've\": \"what have\",\n",
        "\"when's\": \"when is\",\n",
        "\"when've\": \"when have\",\n",
        "\"where'd\": \"where did\",\n",
        "\"where's\": \"where is\",\n",
        "\"where've\": \"where have\",\n",
        "\"who'll\": \"who will\",\n",
        "\"who'll've\": \"who will have\",\n",
        "\"who's\": \"who is\",\n",
        "\"who've\": \"who have\",\n",
        "\"why's\": \"why is\",\n",
        "\"why've\": \"why have\",\n",
        "\"will've\": \"will have\",\n",
        "\"won't\": \"will not\",\n",
        "\"won't've\": \"will not have\",\n",
        "\"would've\": \"would have\",\n",
        "\"wouldn't\": \"would not\",\n",
        "\"wouldn't've\": \"would not have\",\n",
        "\"y'all\": \"you all\",\n",
        "\"y'all'd\": \"you all would\",\n",
        "\"y'all'd've\": \"you all would have\",\n",
        "\"y'all're\": \"you all are\",\n",
        "\"y'all've\": \"you all have\",\n",
        "\"you'd\": \"you would\",\n",
        "\"you'd've\": \"you would have\",\n",
        "\"you'll\": \"you will\",\n",
        "\"you'll've\": \"you will have\",\n",
        "\"you're\": \"you are\",\n",
        "\"you've\": \"you have\"\n",
        "}"
      ],
      "execution_count": 0,
      "outputs": []
    },
    {
      "cell_type": "markdown",
      "metadata": {
        "id": "TMsxh3M66NGT",
        "colab_type": "text"
      },
      "source": [
        "*Define all the functions for preprocessing the data, plotting the confusion matrix and printing the scores of classification task*"
      ]
    },
    {
      "cell_type": "code",
      "metadata": {
        "id": "c7VE47BTaY57",
        "colab_type": "code",
        "colab": {}
      },
      "source": [
        "\n",
        "\n",
        "from sklearn.utils.multiclass import unique_labels\n",
        "def plot_confusion_matrix(y_true, y_pred, classes,\n",
        "                          normalize=False,\n",
        "                          title=None,\n",
        "                          cmap=plt.cm.Blues):\n",
        "    \"\"\"\n",
        "    This function prints and plots the confusion matrix.\n",
        "    Normalization can be applied by setting `normalize=True`.\n",
        "    \"\"\"\n",
        "    if not title:\n",
        "        if normalize:\n",
        "            title = 'Normalized confusion matrix'\n",
        "        else:\n",
        "            title = 'Confusion matrix, without normalization'\n",
        "\n",
        "    # Compute confusion matrix\n",
        "    cm = confusion_matrix(y_true, y_pred)\n",
        "    # Only use the labels that appear in the data\n",
        "  #  classes = classes[unique_labels(y_true, y_pred)]\n",
        "    if normalize:\n",
        "        cm = cm.astype('float') / cm.sum(axis=1)[:, np.newaxis]\n",
        "        print(\"Normalized confusion matrix\")\n",
        "    else:\n",
        "        print('Confusion matrix, without normalization')\n",
        "\n",
        "    print(cm)\n",
        "\n",
        "    fig, ax = plt.subplots()\n",
        "    im = ax.imshow(cm, interpolation='nearest', cmap=cmap)\n",
        "    ax.figure.colorbar(im, ax=ax)\n",
        "    # We want to show all ticks...\n",
        "    ax.set(xticks=np.arange(cm.shape[1]),\n",
        "           yticks=np.arange(cm.shape[0]),\n",
        "           # ... and label them with the respective list entries\n",
        "           xticklabels=classes, yticklabels=classes,\n",
        "           title=title,\n",
        "           ylabel='True label',\n",
        "           xlabel='Predicted label')\n",
        "\n",
        "    # Rotate the tick labels and set their alignment.\n",
        "    plt.setp(ax.get_xticklabels(), rotation=45, ha=\"right\",\n",
        "             rotation_mode=\"anchor\")\n",
        "\n",
        "    # Loop over data dimensions and create text annotations.\n",
        "    fmt = '.2f' if normalize else 'd'\n",
        "    thresh = cm.max() / 2.\n",
        "    for i in range(cm.shape[0]):\n",
        "        for j in range(cm.shape[1]):\n",
        "            ax.text(j, i, format(cm[i, j], fmt),\n",
        "                    ha=\"center\", va=\"center\",\n",
        "                    color=\"white\" if cm[i, j] > thresh else \"black\")\n",
        "    fig.tight_layout()\n",
        "    return ax\n",
        "\n",
        "\n",
        "  \n",
        "  \n",
        "\n",
        "\n",
        "def remove_special_chars(text):\n",
        "  return re.sub(r'[^a-zA-Z0-9 \\']', '', text)\n",
        "\n",
        "def expand_contractions(text, contraction_mapping=CONTRACTION_MAP):\n",
        "    \n",
        "    contractions_pattern = re.compile('({})'.format('|'.join(contraction_mapping.keys())), \n",
        "                                      flags=re.IGNORECASE|re.DOTALL)\n",
        "    def expand_match(contraction):\n",
        "        match = contraction.group(0)\n",
        "        first_char = match[0]\n",
        "        expanded_contraction = contraction_mapping.get(match)\\\n",
        "                                if contraction_mapping.get(match)\\\n",
        "                                else contraction_mapping.get(match.lower())                       \n",
        "        expanded_contraction = first_char+expanded_contraction[1:]\n",
        "        return expanded_contraction\n",
        "        \n",
        "    expanded_text = contractions_pattern.sub(expand_match, text)\n",
        "    expanded_text = re.sub(\"'\", \"\", expanded_text)\n",
        "    return expanded_text\n",
        "\n",
        "def remove_accented_chars(text):\n",
        "  text = unicodedata.normalize('NFKD', text).encode('ascii', 'ignore').decode('utf-8', 'ignore')\n",
        "  return text\n",
        "\n",
        "def tokenize_text(text):\n",
        "  tokens = nltk.word_tokenize(text)\n",
        "  tokens = [token.strip() for token in tokens]\n",
        "  return tokens\n",
        "\n",
        "def normalize_text(text):\n",
        "  text=remove_special_chars(text)\n",
        "  text=expand_contractions(text)\n",
        "  text=text.lower()\n",
        "  text=remove_accented_chars(text)\n",
        "  return text\n",
        "\n",
        "def remove_stopwords_nltk(tokens):\n",
        "  filtered_tokens = [token for token in tokens if token not in stop_words]\n",
        "  filtered_text = ' '.join(filtered_tokens)    \n",
        "  return filtered_text\n",
        "\n",
        "\n",
        "\n",
        "\n",
        "def stem_sentences_nltk(sentence):\n",
        "  ps = PorterStemmer()\n",
        "  tokens = sentence.split()\n",
        "  stemmed_tokens = [ps.stem(token) for token in tokens]\n",
        "  return ' '.join(stemmed_tokens)\n",
        "\n",
        "\n",
        "\n",
        " \n",
        "def tfidf_vectorize_get_array(series):\n",
        "  vectorizer = TfidfVectorizer(min_df=1,norm='l2',smooth_idf=True,use_idf=True,ngram_range=(1,1))\n",
        "  return np.array(vectorizer.fit_transform(series).todense(), dtype=np.float16)\n",
        "\n",
        "def tfidf_vectorize(series):\n",
        "  vectorizer = TfidfVectorizer(min_df=1,norm='l2',smooth_idf=True,use_idf=True,ngram_range=(1,1))\n",
        "  return vectorizer.fit_transform(series)\n",
        "\n",
        "def preprocess_text(df,stem=False):\n",
        "  if stem:\n",
        "    df['word_tokens_stemmed']=df['question_text'].apply(normalize_text).apply(tokenize_text).apply(remove_stopwords_nltk).apply(stem_sentences_nltk)\n",
        "  else:\n",
        "    df['word_tokens_stemmed']=df['question_text'].apply(normalize_text).apply(tokenize_text).apply(remove_stopwords_nltk)\n",
        "  \n",
        "  return df\n",
        "\n",
        "\n",
        "\n",
        "\n",
        "def split_train_test(df):\n",
        "  x_train,x_test,y_train,y_test = train_test_split(df['word_tokens_stemmed'],df['target'], random_state=1,stratify=df['target'])\n",
        "  return x_train,x_test,y_train,y_test\n",
        "\n",
        "def classifier_reports(y_test, y_pred):\n",
        "  print()\n",
        "  class_names = ['class0', 'class1']\n",
        "  print(classification_report(y_test, y_pred, target_names=class_names))\n",
        "  # Plot non-normalized confusion matrix\n",
        "  plot_confusion_matrix(y_test, y_pred, classes=class_names,title='Confusion matrix, without normalization')\n",
        "  # Plot normalized confusion matrix\n",
        "  plot_confusion_matrix(y_test, y_pred, classes=class_names, normalize=True, title='Normalized confusion matrix')\n",
        "  plt.show()"
      ],
      "execution_count": 0,
      "outputs": []
    },
    {
      "cell_type": "markdown",
      "metadata": {
        "id": "qFoMjhiH6rV2",
        "colab_type": "text"
      },
      "source": [
        "*Read the training file, perform preprocessing and split the dataset into training and test set*"
      ]
    },
    {
      "cell_type": "code",
      "metadata": {
        "id": "t3FtTBoHa0p8",
        "colab_type": "code",
        "outputId": "bdae6935-a47d-4128-85d6-edd5ad5b2968",
        "colab": {
          "base_uri": "https://localhost:8080/",
          "height": 221
        }
      },
      "source": [
        "\n",
        "\n",
        "\n",
        "df=pd.read_csv('train.csv')\n",
        "\n",
        "pd.options.display.max_colwidth = 500\n",
        "print('Number rows and columns:',df.shape)\n",
        "\n",
        "df=preprocess_text(df,True) \n",
        "\n",
        "x_train,x_test,y_train,y_test=split_train_test(df)\n",
        "\n",
        "\n",
        "\n",
        "df.head()"
      ],
      "execution_count": 0,
      "outputs": [
        {
          "output_type": "stream",
          "text": [
            "Number rows and columns: (1306122, 3)\n"
          ],
          "name": "stdout"
        },
        {
          "output_type": "execute_result",
          "data": {
            "text/html": [
              "<div>\n",
              "<style scoped>\n",
              "    .dataframe tbody tr th:only-of-type {\n",
              "        vertical-align: middle;\n",
              "    }\n",
              "\n",
              "    .dataframe tbody tr th {\n",
              "        vertical-align: top;\n",
              "    }\n",
              "\n",
              "    .dataframe thead th {\n",
              "        text-align: right;\n",
              "    }\n",
              "</style>\n",
              "<table border=\"1\" class=\"dataframe\">\n",
              "  <thead>\n",
              "    <tr style=\"text-align: right;\">\n",
              "      <th></th>\n",
              "      <th>qid</th>\n",
              "      <th>question_text</th>\n",
              "      <th>target</th>\n",
              "      <th>word_tokens_stemmed</th>\n",
              "    </tr>\n",
              "  </thead>\n",
              "  <tbody>\n",
              "    <tr>\n",
              "      <th>0</th>\n",
              "      <td>00002165364db923c7e6</td>\n",
              "      <td>How did Quebec nationalists see their province as a nation in the 1960s?</td>\n",
              "      <td>0</td>\n",
              "      <td>quebec nationalist see provinc nation 1960</td>\n",
              "    </tr>\n",
              "    <tr>\n",
              "      <th>1</th>\n",
              "      <td>000032939017120e6e44</td>\n",
              "      <td>Do you have an adopted dog, how would you encourage people to adopt and not shop?</td>\n",
              "      <td>0</td>\n",
              "      <td>adopt dog would encourag peopl adopt not shop</td>\n",
              "    </tr>\n",
              "    <tr>\n",
              "      <th>2</th>\n",
              "      <td>0000412ca6e4628ce2cf</td>\n",
              "      <td>Why does velocity affect time? Does velocity affect space geometry?</td>\n",
              "      <td>0</td>\n",
              "      <td>veloc affect time veloc affect space geometri</td>\n",
              "    </tr>\n",
              "    <tr>\n",
              "      <th>3</th>\n",
              "      <td>000042bf85aa498cd78e</td>\n",
              "      <td>How did Otto von Guericke used the Magdeburg hemispheres?</td>\n",
              "      <td>0</td>\n",
              "      <td>otto von guerick use magdeburg hemispher</td>\n",
              "    </tr>\n",
              "    <tr>\n",
              "      <th>4</th>\n",
              "      <td>0000455dfa3e01eae3af</td>\n",
              "      <td>Can I convert montra helicon D to a mountain bike by just changing the tyres?</td>\n",
              "      <td>0</td>\n",
              "      <td>convert montra helicon mountain bike chang tyre</td>\n",
              "    </tr>\n",
              "  </tbody>\n",
              "</table>\n",
              "</div>"
            ],
            "text/plain": [
              "                    qid  ...                              word_tokens_stemmed\n",
              "0  00002165364db923c7e6  ...       quebec nationalist see provinc nation 1960\n",
              "1  000032939017120e6e44  ...    adopt dog would encourag peopl adopt not shop\n",
              "2  0000412ca6e4628ce2cf  ...    veloc affect time veloc affect space geometri\n",
              "3  000042bf85aa498cd78e  ...         otto von guerick use magdeburg hemispher\n",
              "4  0000455dfa3e01eae3af  ...  convert montra helicon mountain bike chang tyre\n",
              "\n",
              "[5 rows x 4 columns]"
            ]
          },
          "metadata": {
            "tags": []
          },
          "execution_count": 6
        }
      ]
    },
    {
      "cell_type": "markdown",
      "metadata": {
        "id": "VBZl98T06_CB",
        "colab_type": "text"
      },
      "source": [
        "*Train the model using the best parameters of logistic regression found by Grid search and print the score and plot the confusion matrix*"
      ]
    },
    {
      "cell_type": "code",
      "metadata": {
        "id": "N525Ru1GDsjG",
        "colab_type": "code",
        "outputId": "c30853b0-a79f-43c5-bacd-d98478b8def3",
        "colab": {
          "base_uri": "https://localhost:8080/",
          "height": 968
        }
      },
      "source": [
        "from sklearn.linear_model import LogisticRegression\n",
        "from sklearn.feature_extraction.text import TfidfVectorizer\n",
        "from sklearn.pipeline import Pipeline\n",
        "from sklearn import metrics\n",
        "from sklearn.metrics import classification_report,confusion_matrix,roc_curve,roc_auc_score,precision_recall_curve,precision_recall_fscore_support\n",
        "\n",
        "clf = LogisticRegression(class_weight='balanced',C=1,penalty='l2',random_state=42,solver='liblinear')\n",
        "     \n",
        "name = clf.__class__.__name__\n",
        "print(name)\n",
        "text_clf = Pipeline([('vect', TfidfVectorizer(min_df=1,norm='l2',smooth_idf=True,use_idf=True,ngram_range=(1,1))),('clf', clf)])\n",
        "text_clf.fit(x_train, y_train)\n",
        "\n",
        "\n",
        "pred_proba_df = pd.DataFrame(text_clf.predict_proba(x_test))\n",
        "y_pred = pred_proba_df.applymap(lambda x: 1 if x>0.4 else 0)\n",
        "classifier_reports(y_test.as_matrix().reshape(y_test.as_matrix().size,1),\n",
        "                           y_pred.iloc[:,1].as_matrix().reshape(y_pred.iloc[:,1].as_matrix().size,1))   \n",
        "acc = metrics.accuracy_score(y_test.as_matrix().reshape(y_test.as_matrix().size,1),\n",
        "                           y_pred.iloc[:,1].as_matrix().reshape(y_pred.iloc[:,1].as_matrix().size,1))\n",
        "    \n",
        "\n",
        "    \n",
        "print()\n",
        "EST = timezone('US/Eastern')\n",
        "EST_Time = datetime.now(EST)\n",
        "print(EST_Time.strftime(\"%a, %d %B %Y %H:%M:%S\"))\n",
        "    \n",
        "   \n",
        "    \n",
        "\n",
        "plt.show()\n",
        "\n",
        "\n",
        "\n"
      ],
      "execution_count": 0,
      "outputs": [
        {
          "output_type": "stream",
          "text": [
            "LogisticRegression\n"
          ],
          "name": "stdout"
        },
        {
          "output_type": "stream",
          "text": [
            "/usr/local/lib/python3.6/dist-packages/ipykernel_launcher.py:17: FutureWarning: Method .as_matrix will be removed in a future version. Use .values instead.\n",
            "/usr/local/lib/python3.6/dist-packages/ipykernel_launcher.py:18: FutureWarning: Method .as_matrix will be removed in a future version. Use .values instead.\n"
          ],
          "name": "stderr"
        },
        {
          "output_type": "stream",
          "text": [
            "\n",
            "              precision    recall  f1-score   support\n",
            "\n",
            "      class0       0.99      0.87      0.92    306328\n",
            "      class1       0.31      0.89      0.46     20203\n",
            "\n",
            "    accuracy                           0.87    326531\n",
            "   macro avg       0.65      0.88      0.69    326531\n",
            "weighted avg       0.95      0.87      0.90    326531\n",
            "\n",
            "Confusion matrix, without normalization\n",
            "[[265398  40930]\n",
            " [  2148  18055]]\n",
            "Normalized confusion matrix\n",
            "[[0.86638505 0.13361495]\n",
            " [0.10632084 0.89367916]]\n"
          ],
          "name": "stdout"
        },
        {
          "output_type": "display_data",
          "data": {
            "image/png": "[encoded data removed]",
            "text/plain": [
              "<Figure size 432x288 with 2 Axes>"
            ]
          },
          "metadata": {
            "tags": []
          }
        },
        {
          "output_type": "display_data",
          "data": {
            "image/png": "[encoded data removed]",
            "text/plain": [
              "<Figure size 432x288 with 2 Axes>"
            ]
          },
          "metadata": {
            "tags": []
          }
        },
        {
          "output_type": "stream",
          "text": [
            "\n",
            "Wed, 23 October 2019 16:29:57\n"
          ],
          "name": "stdout"
        },
        {
          "output_type": "stream",
          "text": [
            "/usr/local/lib/python3.6/dist-packages/ipykernel_launcher.py:19: FutureWarning: Method .as_matrix will be removed in a future version. Use .values instead.\n",
            "/usr/local/lib/python3.6/dist-packages/ipykernel_launcher.py:20: FutureWarning: Method .as_matrix will be removed in a future version. Use .values instead.\n"
          ],
          "name": "stderr"
        }
      ]
    },
    {
      "cell_type": "markdown",
      "metadata": {
        "id": "x9XGhHfb7U9m",
        "colab_type": "text"
      },
      "source": [
        "*Save the model in a file to be loaded into memory later for model inference*"
      ]
    },
    {
      "cell_type": "code",
      "metadata": {
        "id": "e1MCRrRTZt9n",
        "colab_type": "code",
        "colab": {}
      },
      "source": [
        "import pickle\n",
        "\n",
        "filename='quora_classification_model.sav'\n",
        "\n",
        "pickle.dump(text_clf, open(filename, 'wb'))\n"
      ],
      "execution_count": 0,
      "outputs": []
    },
    {
      "cell_type": "markdown",
      "metadata": {
        "id": "ivthPdmL7hWC",
        "colab_type": "text"
      },
      "source": [
        "*Test the saved model by loading into memory and performing prediction using the loaded model*"
      ]
    },
    {
      "cell_type": "code",
      "metadata": {
        "id": "tnoioN1TvTkR",
        "colab_type": "code",
        "outputId": "76f1874a-f481-4252-9cd0-bfa9f0606de9",
        "colab": {
          "base_uri": "https://localhost:8080/",
          "height": 1000
        }
      },
      "source": [
        "load_clf_model =pickle.load(open(filename, 'rb'))\n",
        "\n",
        "y_load_predit=load_clf_model.predict_proba(x_test)\n",
        "\n",
        "\n",
        "pred_proba_df = pd.DataFrame(load_clf_model.predict_proba(x_test))\n",
        "y_pred = pred_proba_df.applymap(lambda x: 1 if x>0.4 else 0)\n",
        "classifier_reports(y_test.as_matrix().reshape(y_test.as_matrix().size,1),\n",
        "                           y_pred.iloc[:,1].as_matrix().reshape(y_pred.iloc[:,1].as_matrix().size,1))   \n",
        "acc = metrics.accuracy_score(y_test.as_matrix().reshape(y_test.as_matrix().size,1),\n",
        "                           y_pred.iloc[:,1].as_matrix().reshape(y_pred.iloc[:,1].as_matrix().size,1))\n",
        "    \n",
        "\n",
        "    \n",
        "print()\n",
        "EST = timezone('US/Eastern')\n",
        "EST_Time = datetime.now(EST)\n",
        "print(EST_Time.strftime(\"%a, %d %B %Y %H:%M:%S\"))\n",
        "    \n",
        "   \n",
        "    \n",
        "\n",
        "plt.show()\n",
        "\n",
        "\n",
        "\n",
        "\n"
      ],
      "execution_count": 0,
      "outputs": [
        {
          "output_type": "stream",
          "text": [
            "/usr/local/lib/python3.6/dist-packages/ipykernel_launcher.py:8: FutureWarning: Method .as_matrix will be removed in a future version. Use .values instead.\n",
            "  \n",
            "/usr/local/lib/python3.6/dist-packages/ipykernel_launcher.py:9: FutureWarning: Method .as_matrix will be removed in a future version. Use .values instead.\n",
            "  if __name__ == '__main__':\n"
          ],
          "name": "stderr"
        },
        {
          "output_type": "stream",
          "text": [
            "\n",
            "              precision    recall  f1-score   support\n",
            "\n",
            "      class0       0.99      0.87      0.92    306328\n",
            "      class1       0.31      0.89      0.46     20203\n",
            "\n",
            "    accuracy                           0.87    326531\n",
            "   macro avg       0.65      0.88      0.69    326531\n",
            "weighted avg       0.95      0.87      0.90    326531\n",
            "\n",
            "Confusion matrix, without normalization\n",
            "[[265398  40930]\n",
            " [  2148  18055]]\n",
            "Normalized confusion matrix\n",
            "[[0.86638505 0.13361495]\n",
            " [0.10632084 0.89367916]]\n"
          ],
          "name": "stdout"
        },
        {
          "output_type": "display_data",
          "data": {
            "image/png": "[encoded data removed]",
            "text/plain": [
              "<Figure size 432x288 with 2 Axes>"
            ]
          },
          "metadata": {
            "tags": []
          }
        },
        {
          "output_type": "display_data",
          "data": {
            "image/png": "[encoded data removed]",
            "text/plain": [
              "<Figure size 432x288 with 2 Axes>"
            ]
          },
          "metadata": {
            "tags": []
          }
        },
        {
          "output_type": "stream",
          "text": [
            "\n",
            "Wed, 23 October 2019 18:33:05\n"
          ],
          "name": "stdout"
        },
        {
          "output_type": "stream",
          "text": [
            "/usr/local/lib/python3.6/dist-packages/ipykernel_launcher.py:10: FutureWarning: Method .as_matrix will be removed in a future version. Use .values instead.\n",
            "  # Remove the CWD from sys.path while we load stuff.\n",
            "/usr/local/lib/python3.6/dist-packages/ipykernel_launcher.py:11: FutureWarning: Method .as_matrix will be removed in a future version. Use .values instead.\n",
            "  # This is added back by InteractiveShellApp.init_path()\n"
          ],
          "name": "stderr"
        }
      ]
    }
  ]
}