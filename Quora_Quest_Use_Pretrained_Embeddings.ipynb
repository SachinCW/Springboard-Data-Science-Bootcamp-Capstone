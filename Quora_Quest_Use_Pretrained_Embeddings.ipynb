{
  "nbformat": 4,
  "nbformat_minor": 0,
  "metadata": {
    "colab": {
      "name": "Quora Quest Use Pretrained  Embeddings.ipynb",
      "provenance": [],
      "collapsed_sections": [],
      "machine_shape": "hm",
      "include_colab_link": true
    },
    "kernelspec": {
      "name": "python3",
      "display_name": "Python 3"
    }
  },
  "cells": [
    {
      "cell_type": "markdown",
      "metadata": {
        "id": "view-in-github",
        "colab_type": "text"
      },
      "source": [
        "<a href=\"https://colab.research.google.com/github/sachin-cw/Springboard-Capstone/blob/master/Quora_Quest_Use_Pretrained_Embeddings.ipynb\" target=\"_parent\"><img src=\"https://colab.research.google.com/assets/colab-badge.svg\" alt=\"Open In Colab\"/></a>"
      ]
    },
    {
      "cell_type": "markdown",
      "metadata": {
        "id": "aYe_ZDLxC0eJ",
        "colab_type": "text"
      },
      "source": [
        "# Experiments using word embeddings obtained by Gensim's word2vec implementation.  "
      ]
    },
    {
      "cell_type": "markdown",
      "metadata": {
        "id": "ioh-WL4agOHd",
        "colab_type": "text"
      },
      "source": [
        "Load all the dependencies and mount the Google drive to load the training file."
      ]
    },
    {
      "cell_type": "code",
      "metadata": {
        "id": "t6T-uoK_57cB",
        "colab_type": "code",
        "outputId": "ae609c4c-c5cb-41c0-80c8-414f73a3df35",
        "colab": {
          "base_uri": "https://localhost:8080/",
          "height": 564
        }
      },
      "source": [
        "!pip install ipython-autotime\n",
        "%load_ext autotime\n",
        "# above lines get me the cell execution time.\n",
        "\n",
        "def warn(*args, **kwargs):\n",
        "    pass\n",
        "import warnings\n",
        "warnings.warn = warn\n",
        "#above lines help me avoid warnings thrown by sklearn\n",
        "\n",
        "\n",
        "import re\n",
        "import os\n",
        "\n",
        "import unicodedata\n",
        "\n",
        "import nltk\n",
        "nltk.download('punkt')\n",
        "from nltk.stem import PorterStemmer\n",
        "from nltk.corpus import stopwords\n",
        "\n",
        "\n",
        "import matplotlib.pyplot as plt\n",
        "from mpl_toolkits.mplot3d import Axes3D\n",
        "import seaborn as sns\n",
        "%matplotlib inline\n",
        "import numpy as np\n",
        "import pandas as pd\n",
        "\n",
        "from datetime import datetime\n",
        "from pytz import timezone\n",
        "import time\n",
        "\n",
        "from sklearn.model_selection import train_test_split\n",
        "\n",
        "# You will have to download the set of stop words the first time\n",
        "import nltk\n",
        "nltk.download('stopwords')\n",
        "\n",
        "# Load stop words\n",
        "stop_words = stopwords.words('english')\n",
        "stop_words.remove('no')\n",
        "stop_words.remove('not')\n",
        "\n",
        "\n",
        "from google.colab import drive\n",
        "drive.mount('/content/gdrive')\n",
        "os.chdir('gdrive/My Drive/kaggle/quora')\n",
        "!ls -ltr\n"
      ],
      "execution_count": 0,
      "outputs": [
        {
          "output_type": "stream",
          "text": [
            "Collecting ipython-autotime\n",
            "  Downloading https://files.pythonhosted.org/packages/e6/f9/0626bbdb322e3a078d968e87e3b01341e7890544de891d0cb613641220e6/ipython-autotime-0.1.tar.bz2\n",
            "Building wheels for collected packages: ipython-autotime\n",
            "  Building wheel for ipython-autotime (setup.py) ... \u001b[?25l\u001b[?25hdone\n",
            "  Created wheel for ipython-autotime: filename=ipython_autotime-0.1-cp36-none-any.whl size=1832 sha256=e12a789005c5b75f054d7e2f7583a0807333f98db26301187b54568b77e3821d\n",
            "  Stored in directory: /root/.cache/pip/wheels/d2/df/81/2db1e54bc91002cec40334629bc39cfa86dff540b304ebcd6e\n",
            "Successfully built ipython-autotime\n",
            "Installing collected packages: ipython-autotime\n",
            "Successfully installed ipython-autotime-0.1\n",
            "[nltk_data] Downloading package punkt to /root/nltk_data...\n",
            "[nltk_data]   Unzipping tokenizers/punkt.zip.\n",
            "[nltk_data] Downloading package stopwords to /root/nltk_data...\n",
            "[nltk_data]   Unzipping corpora/stopwords.zip.\n",
            "Go to this URL in a browser: https://accounts.google.com/o/oauth2/auth?client_id=947318989803-6bn6qk8qdgf4n4g3pfee6491hc0brc4i.apps.googleusercontent.com&redirect_uri=urn%3Aietf%3Awg%3Aoauth%3A2.0%3Aoob&scope=email%20https%3A%2F%2Fwww.googleapis.com%2Fauth%2Fdocs.test%20https%3A%2F%2Fwww.googleapis.com%2Fauth%2Fdrive%20https%3A%2F%2Fwww.googleapis.com%2Fauth%2Fdrive.photos.readonly%20https%3A%2F%2Fwww.googleapis.com%2Fauth%2Fpeopleapi.readonly&response_type=code\n",
            "\n",
            "Enter your authorization code:\n",
            "··········\n",
            "Mounted at /content/gdrive\n",
            "total 4093312\n",
            "-rw------- 1 root root 3644258522 Oct 31  2018 GoogleNews-vectors-negative300.bin\n",
            "drwx------ 2 root root       4096 Aug 25 19:03 wiki-news-300d-1M\n",
            "drwx------ 2 root root       4096 Aug 25 19:03 paragram_300_sl999\n",
            "drwx------ 2 root root       4096 Aug 25 19:03 glove.840B.300d\n",
            "-rw------- 1 root root   35011536 Aug 25 19:25 test.csv\n",
            "-rw------- 1 root root  124206772 Aug 25 19:25 train.csv\n",
            "-rw------- 1 root root    8643553 Aug 25 19:26 sample_submission.csv\n",
            "-rw------- 1 root root    6617121 Aug 28 11:36 big.txt\n",
            "drwx------ 2 root root       4096 Sep  2 19:02 catboost_info\n",
            "-rw------- 1 root root    8643553 Sep  7 22:19 submission.csv\n",
            "-rw------- 1 root root  186744887 Sep  8 17:28 quora.csv\n",
            "-rw------- 1 root root  177407020 Sep 21 18:00 quora_preprocessed_stemmed.csv\n"
          ],
          "name": "stdout"
        }
      ]
    },
    {
      "cell_type": "markdown",
      "metadata": {
        "id": "J7DQIEFYggZ-",
        "colab_type": "text"
      },
      "source": [
        "Map below will be used to expand the contractions"
      ]
    },
    {
      "cell_type": "code",
      "metadata": {
        "id": "2CW6oj0w7dml",
        "colab_type": "code",
        "outputId": "a8f0c0b6-a00d-4375-fa48-ba797aafb4fc",
        "colab": {
          "base_uri": "https://localhost:8080/",
          "height": 34
        }
      },
      "source": [
        "CONTRACTION_MAP = {\n",
        "\"ain't\": \"is not\",\n",
        "\"aren't\": \"are not\",\n",
        "\"can't\": \"cannot\",\n",
        "\"can't've\": \"cannot have\",\n",
        "\"'cause\": \"because\",\n",
        "\"could've\": \"could have\",\n",
        "\"couldn't\": \"could not\",\n",
        "\"couldn't've\": \"could not have\",\n",
        "\"didn't\": \"did not\",\n",
        "\"doesn't\": \"does not\",\n",
        "\"don't\": \"do not\",\n",
        "\"hadn't\": \"had not\",\n",
        "\"hadn't've\": \"had not have\",\n",
        "\"hasn't\": \"has not\",\n",
        "\"haven't\": \"have not\",\n",
        "\"he'd\": \"he would\",\n",
        "\"he'd've\": \"he would have\",\n",
        "\"he'll\": \"he will\",\n",
        "\"he'll've\": \"he he will have\",\n",
        "\"he's\": \"he is\",\n",
        "\"how'd\": \"how did\",\n",
        "\"how'd'y\": \"how do you\",\n",
        "\"how'll\": \"how will\",\n",
        "\"how's\": \"how is\",\n",
        "\"I'd\": \"I would\",\n",
        "\"I'd've\": \"I would have\",\n",
        "\"I'll\": \"I will\",\n",
        "\"I'll've\": \"I will have\",\n",
        "\"I'm\": \"I am\",\n",
        "\"I've\": \"I have\",\n",
        "\"i'd\": \"i would\",\n",
        "\"i'd've\": \"i would have\",\n",
        "\"i'll\": \"i will\",\n",
        "\"i'll've\": \"i will have\",\n",
        "\"i'm\": \"i am\",\n",
        "\"i've\": \"i have\",\n",
        "\"isn't\": \"is not\",\n",
        "\"it'd\": \"it would\",\n",
        "\"it'd've\": \"it would have\",\n",
        "\"it'll\": \"it will\",\n",
        "\"it'll've\": \"it will have\",\n",
        "\"it's\": \"it is\",\n",
        "\"let's\": \"let us\",\n",
        "\"ma'am\": \"madam\",\n",
        "\"mayn't\": \"may not\",\n",
        "\"might've\": \"might have\",\n",
        "\"mightn't\": \"might not\",\n",
        "\"mightn't've\": \"might not have\",\n",
        "\"must've\": \"must have\",\n",
        "\"mustn't\": \"must not\",\n",
        "\"mustn't've\": \"must not have\",\n",
        "\"needn't\": \"need not\",\n",
        "\"needn't've\": \"need not have\",\n",
        "\"o'clock\": \"of the clock\",\n",
        "\"oughtn't\": \"ought not\",\n",
        "\"oughtn't've\": \"ought not have\",\n",
        "\"shan't\": \"shall not\",\n",
        "\"sha'n't\": \"shall not\",\n",
        "\"shan't've\": \"shall not have\",\n",
        "\"she'd\": \"she would\",\n",
        "\"she'd've\": \"she would have\",\n",
        "\"she'll\": \"she will\",\n",
        "\"she'll've\": \"she will have\",\n",
        "\"she's\": \"she is\",\n",
        "\"should've\": \"should have\",\n",
        "\"shouldn't\": \"should not\",\n",
        "\"shouldn't've\": \"should not have\",\n",
        "\"so've\": \"so have\",\n",
        "\"so's\": \"so as\",\n",
        "\"that'd\": \"that would\",\n",
        "\"that'd've\": \"that would have\",\n",
        "\"that's\": \"that is\",\n",
        "\"there'd\": \"there would\",\n",
        "\"there'd've\": \"there would have\",\n",
        "\"there's\": \"there is\",\n",
        "\"they'd\": \"they would\",\n",
        "\"they'd've\": \"they would have\",\n",
        "\"they'll\": \"they will\",\n",
        "\"they'll've\": \"they will have\",\n",
        "\"they're\": \"they are\",\n",
        "\"they've\": \"they have\",\n",
        "\"to've\": \"to have\",\n",
        "\"wasn't\": \"was not\",\n",
        "\"we'd\": \"we would\",\n",
        "\"we'd've\": \"we would have\",\n",
        "\"we'll\": \"we will\",\n",
        "\"we'll've\": \"we will have\",\n",
        "\"we're\": \"we are\",\n",
        "\"we've\": \"we have\",\n",
        "\"weren't\": \"were not\",\n",
        "\"what'll\": \"what will\",\n",
        "\"what'll've\": \"what will have\",\n",
        "\"what're\": \"what are\",\n",
        "\"what's\": \"what is\",\n",
        "\"what've\": \"what have\",\n",
        "\"when's\": \"when is\",\n",
        "\"when've\": \"when have\",\n",
        "\"where'd\": \"where did\",\n",
        "\"where's\": \"where is\",\n",
        "\"where've\": \"where have\",\n",
        "\"who'll\": \"who will\",\n",
        "\"who'll've\": \"who will have\",\n",
        "\"who's\": \"who is\",\n",
        "\"who've\": \"who have\",\n",
        "\"why's\": \"why is\",\n",
        "\"why've\": \"why have\",\n",
        "\"will've\": \"will have\",\n",
        "\"won't\": \"will not\",\n",
        "\"won't've\": \"will not have\",\n",
        "\"would've\": \"would have\",\n",
        "\"wouldn't\": \"would not\",\n",
        "\"wouldn't've\": \"would not have\",\n",
        "\"y'all\": \"you all\",\n",
        "\"y'all'd\": \"you all would\",\n",
        "\"y'all'd've\": \"you all would have\",\n",
        "\"y'all're\": \"you all are\",\n",
        "\"y'all've\": \"you all have\",\n",
        "\"you'd\": \"you would\",\n",
        "\"you'd've\": \"you would have\",\n",
        "\"you'll\": \"you will\",\n",
        "\"you'll've\": \"you will have\",\n",
        "\"you're\": \"you are\",\n",
        "\"you've\": \"you have\"\n",
        "}"
      ],
      "execution_count": 0,
      "outputs": [
        {
          "output_type": "stream",
          "text": [
            "time: 122 ms\n"
          ],
          "name": "stdout"
        }
      ]
    },
    {
      "cell_type": "markdown",
      "metadata": {
        "id": "YjNVz_5WhEjz",
        "colab_type": "text"
      },
      "source": [
        "Next up are functions."
      ]
    },
    {
      "cell_type": "code",
      "metadata": {
        "id": "Bj_lq3CL7eVV",
        "colab_type": "code",
        "outputId": "45b574ae-a7f9-40d3-eab9-d8af289848cc",
        "colab": {
          "base_uri": "https://localhost:8080/",
          "height": 34
        }
      },
      "source": [
        "\n",
        "from sklearn.utils.multiclass import unique_labels\n",
        "def plot_confusion_matrix(y_true, y_pred, classes,\n",
        "                          normalize=False,\n",
        "                          title=None,\n",
        "                          cmap=plt.cm.Blues):\n",
        "    \"\"\"\n",
        "    This function prints and plots the confusion matrix.\n",
        "    Normalization can be applied by setting `normalize=True`.\n",
        "    \"\"\"\n",
        "    if not title:\n",
        "        if normalize:\n",
        "            title = 'Normalized confusion matrix'\n",
        "        else:\n",
        "            title = 'Confusion matrix, without normalization'\n",
        "\n",
        "    # Compute confusion matrix\n",
        "    cm = confusion_matrix(y_true, y_pred)\n",
        "    # Only use the labels that appear in the data\n",
        "  #  classes = classes[unique_labels(y_true, y_pred)]\n",
        "    if normalize:\n",
        "        cm = cm.astype('float') / cm.sum(axis=1)[:, np.newaxis]\n",
        "        print(\"Normalized confusion matrix\")\n",
        "    else:\n",
        "        print('Confusion matrix, without normalization')\n",
        "\n",
        "    print(cm)\n",
        "\n",
        "    fig, ax = plt.subplots()\n",
        "    im = ax.imshow(cm, interpolation='nearest', cmap=cmap)\n",
        "    ax.figure.colorbar(im, ax=ax)\n",
        "    # We want to show all ticks...\n",
        "    ax.set(xticks=np.arange(cm.shape[1]),\n",
        "           yticks=np.arange(cm.shape[0]),\n",
        "           # ... and label them with the respective list entries\n",
        "           xticklabels=classes, yticklabels=classes,\n",
        "           title=title,\n",
        "           ylabel='True label',\n",
        "           xlabel='Predicted label')\n",
        "\n",
        "    # Rotate the tick labels and set their alignment.\n",
        "    plt.setp(ax.get_xticklabels(), rotation=45, ha=\"right\",\n",
        "             rotation_mode=\"anchor\")\n",
        "\n",
        "    # Loop over data dimensions and create text annotations.\n",
        "    fmt = '.2f' if normalize else 'd'\n",
        "    thresh = cm.max() / 2.\n",
        "    for i in range(cm.shape[0]):\n",
        "        for j in range(cm.shape[1]):\n",
        "            ax.text(j, i, format(cm[i, j], fmt),\n",
        "                    ha=\"center\", va=\"center\",\n",
        "                    color=\"white\" if cm[i, j] > thresh else \"black\")\n",
        "    fig.tight_layout()\n",
        "    return ax\n",
        "\n",
        "\n",
        "def remove_special_chars(text):\n",
        "  return re.sub(r'[^a-zA-Z0-9 \\']', '', text)\n",
        "\n",
        "def expand_contractions(text, contraction_mapping=CONTRACTION_MAP):\n",
        "    \n",
        "    contractions_pattern = re.compile('({})'.format('|'.join(contraction_mapping.keys())), \n",
        "                                      flags=re.IGNORECASE|re.DOTALL)\n",
        "    def expand_match(contraction):\n",
        "        match = contraction.group(0)\n",
        "        first_char = match[0]\n",
        "        expanded_contraction = contraction_mapping.get(match)\\\n",
        "                                if contraction_mapping.get(match)\\\n",
        "                                else contraction_mapping.get(match.lower())                       \n",
        "        expanded_contraction = first_char+expanded_contraction[1:]\n",
        "        return expanded_contraction\n",
        "        \n",
        "    expanded_text = contractions_pattern.sub(expand_match, text)\n",
        "    expanded_text = re.sub(\"'\", \"\", expanded_text)\n",
        "    return expanded_text\n",
        "\n",
        "def remove_accented_chars(text):\n",
        "  text = unicodedata.normalize('NFKD', text).encode('ascii', 'ignore').decode('utf-8', 'ignore')\n",
        "  return text\n",
        "\n",
        "def tokenize_text(text):\n",
        "  tokens = nltk.word_tokenize(text)\n",
        "  tokens = [token.strip() for token in tokens]\n",
        "  return tokens\n",
        "\n",
        "def normalize_text(text):\n",
        "  text=remove_special_chars(text)\n",
        "  text=expand_contractions(text)\n",
        "  text=text.lower()\n",
        "  text=remove_accented_chars(text)\n",
        "  #text=tokenize_text(text)\n",
        "  return text\n",
        "\n",
        "def remove_stopwords_nltk(tokens):\n",
        "  filtered_tokens = [token for token in tokens if token not in stop_words]\n",
        "  filtered_text = ' '.join(filtered_tokens)    \n",
        "  return filtered_text\n",
        "\n",
        "\n",
        "\n",
        "\n",
        "def stem_sentences_nltk(sentence):\n",
        "  ps = PorterStemmer()\n",
        "  tokens = sentence.split()\n",
        "  stemmed_tokens = [ps.stem(token) for token in tokens]\n",
        "  return ' '.join(stemmed_tokens)\n",
        "\n",
        "\n",
        "  \n",
        "  \n",
        "def stem_sentences_list(sentence):\n",
        "  ps = PorterStemmer()\n",
        "  tokens = sentence.split()\n",
        "  stemmed_tokens = [ps.stem(token) for token in tokens]\n",
        "  return stemmed_tokens\n",
        "\n",
        "\n",
        "def preprocess_text(df,stem=False):\n",
        "  if stem:\n",
        "    df['word_tokens_stemmed']=df['question_text'].apply(normalize_text).apply(tokenize_text).apply(remove_stopwords_nltk).apply(stem_sentences_nltk)\n",
        "  else:\n",
        "    df['word_tokens_preprocessed']=df['question_text'].apply(normalize_text).apply(tokenize_text).apply(remove_stopwords_nltk)\n",
        "  \n",
        "  return df\n",
        "\n",
        "\n",
        "\n",
        "\n",
        "def split_train_test(df,stem=False):\n",
        "  if stem:\n",
        "    x_train,x_test,y_train,y_test = train_test_split(df['word_tokens_stemmed'],df['target'], random_state=1,stratify=df['target'])\n",
        "  else:\n",
        "    x_train,x_test,y_train,y_test = train_test_split(df['word_tokens_preprocessed'],df['target'], random_state=1,stratify=df['target'])\n",
        "  return x_train,x_test,y_train,y_test\n",
        "\n",
        "def classifier_reports(y_test, y_pred):\n",
        "  print()\n",
        "  class_names = ['class0', 'class1']\n",
        "  print(classification_report(y_test, y_pred, target_names=class_names))\n",
        "  # Plot non-normalized confusion matrix\n",
        "  plot_confusion_matrix(y_test, y_pred, classes=class_names,title='Confusion matrix, without normalization')\n",
        "  # Plot normalized confusion matrix\n",
        "  plot_confusion_matrix(y_test, y_pred, classes=class_names, normalize=True, title='Normalized confusion matrix')\n",
        "  plt.show()"
      ],
      "execution_count": 0,
      "outputs": [
        {
          "output_type": "stream",
          "text": [
            "time: 222 ms\n"
          ],
          "name": "stdout"
        }
      ]
    },
    {
      "cell_type": "markdown",
      "metadata": {
        "id": "07rnDtyUhQsF",
        "colab_type": "text"
      },
      "source": [
        "Load the training file and preprocess it."
      ]
    },
    {
      "cell_type": "code",
      "metadata": {
        "id": "_FnbhhF_7g_T",
        "colab_type": "code",
        "outputId": "1cf3cc3c-70e3-4111-853f-95f8874529c3",
        "colab": {
          "base_uri": "https://localhost:8080/",
          "height": 238
        }
      },
      "source": [
        "\n",
        "df=pd.read_csv('train.csv')\n",
        "\n",
        "pd.options.display.max_colwidth = 500\n",
        "print('Number rows and columns:',df.shape)\n",
        "df=preprocess_text(df,stem=False)  \n",
        "df.head()"
      ],
      "execution_count": 0,
      "outputs": [
        {
          "output_type": "stream",
          "text": [
            "Number rows and columns: (1306122, 3)\n"
          ],
          "name": "stdout"
        },
        {
          "output_type": "execute_result",
          "data": {
            "text/html": [
              "<div>\n",
              "<style scoped>\n",
              "    .dataframe tbody tr th:only-of-type {\n",
              "        vertical-align: middle;\n",
              "    }\n",
              "\n",
              "    .dataframe tbody tr th {\n",
              "        vertical-align: top;\n",
              "    }\n",
              "\n",
              "    .dataframe thead th {\n",
              "        text-align: right;\n",
              "    }\n",
              "</style>\n",
              "<table border=\"1\" class=\"dataframe\">\n",
              "  <thead>\n",
              "    <tr style=\"text-align: right;\">\n",
              "      <th></th>\n",
              "      <th>qid</th>\n",
              "      <th>question_text</th>\n",
              "      <th>target</th>\n",
              "      <th>word_tokens_preprocessed</th>\n",
              "    </tr>\n",
              "  </thead>\n",
              "  <tbody>\n",
              "    <tr>\n",
              "      <th>0</th>\n",
              "      <td>00002165364db923c7e6</td>\n",
              "      <td>How did Quebec nationalists see their province as a nation in the 1960s?</td>\n",
              "      <td>0</td>\n",
              "      <td>quebec nationalists see province nation 1960s</td>\n",
              "    </tr>\n",
              "    <tr>\n",
              "      <th>1</th>\n",
              "      <td>000032939017120e6e44</td>\n",
              "      <td>Do you have an adopted dog, how would you encourage people to adopt and not shop?</td>\n",
              "      <td>0</td>\n",
              "      <td>adopted dog would encourage people adopt not shop</td>\n",
              "    </tr>\n",
              "    <tr>\n",
              "      <th>2</th>\n",
              "      <td>0000412ca6e4628ce2cf</td>\n",
              "      <td>Why does velocity affect time? Does velocity affect space geometry?</td>\n",
              "      <td>0</td>\n",
              "      <td>velocity affect time velocity affect space geometry</td>\n",
              "    </tr>\n",
              "    <tr>\n",
              "      <th>3</th>\n",
              "      <td>000042bf85aa498cd78e</td>\n",
              "      <td>How did Otto von Guericke used the Magdeburg hemispheres?</td>\n",
              "      <td>0</td>\n",
              "      <td>otto von guericke used magdeburg hemispheres</td>\n",
              "    </tr>\n",
              "    <tr>\n",
              "      <th>4</th>\n",
              "      <td>0000455dfa3e01eae3af</td>\n",
              "      <td>Can I convert montra helicon D to a mountain bike by just changing the tyres?</td>\n",
              "      <td>0</td>\n",
              "      <td>convert montra helicon mountain bike changing tyres</td>\n",
              "    </tr>\n",
              "  </tbody>\n",
              "</table>\n",
              "</div>"
            ],
            "text/plain": [
              "                    qid  ...                             word_tokens_preprocessed\n",
              "0  00002165364db923c7e6  ...        quebec nationalists see province nation 1960s\n",
              "1  000032939017120e6e44  ...    adopted dog would encourage people adopt not shop\n",
              "2  0000412ca6e4628ce2cf  ...  velocity affect time velocity affect space geometry\n",
              "3  000042bf85aa498cd78e  ...         otto von guericke used magdeburg hemispheres\n",
              "4  0000455dfa3e01eae3af  ...  convert montra helicon mountain bike changing tyres\n",
              "\n",
              "[5 rows x 4 columns]"
            ]
          },
          "metadata": {
            "tags": []
          },
          "execution_count": 4
        },
        {
          "output_type": "stream",
          "text": [
            "time: 6min 21s\n"
          ],
          "name": "stdout"
        }
      ]
    },
    {
      "cell_type": "markdown",
      "metadata": {
        "id": "ZYgGya3Cga8_",
        "colab_type": "text"
      },
      "source": [
        "We are going to use google’s pre-trained model. It contains word vectors for a vocabulary of 3 million words trained on around 100 billion words from the google news dataset."
      ]
    },
    {
      "cell_type": "code",
      "metadata": {
        "id": "5bXdipSO9DsD",
        "colab_type": "code",
        "outputId": "2f6d9c3a-0611-4951-c820-ec5baecad1bf",
        "colab": {
          "base_uri": "https://localhost:8080/",
          "height": 34
        }
      },
      "source": [
        "# needs ~ 2 mins \n",
        "\n",
        "import gensim.models\n",
        "from gensim.models import Word2Vec\n",
        "wv = gensim.models.KeyedVectors.load_word2vec_format(\"GoogleNews-vectors-negative300.bin\", binary=True)\n",
        "wv.init_sims(replace=True)\n",
        "\n",
        "# Quick test\n",
        "#wv.most_similar('Dhoni', topn = 5)\n",
        "#wv.doesnt_match(['apple','banana','flower'])\n",
        "#wv.most_similar(positive = ['king','woman'], negative = ['man'])\n"
      ],
      "execution_count": 0,
      "outputs": [
        {
          "output_type": "stream",
          "text": [
            "time: 1min 48s\n"
          ],
          "name": "stdout"
        }
      ]
    },
    {
      "cell_type": "markdown",
      "metadata": {
        "id": "9jNBsORKBqfg",
        "colab_type": "text"
      },
      "source": [
        "\n",
        " The below code which is just included here for reference gets the average of 300 dimensions word vectors created for every word in the question. So, the averaged word vector is a word vector for the question as a whole.\n",
        " \n",
        " This piece of code takes a crazy amount of time since the calculations are all on pandas. The next piece of code below the one below uses numpy and is many times faster. "
      ]
    },
    {
      "cell_type": "code",
      "metadata": {
        "id": "YZ_HlgICYBk7",
        "colab_type": "code",
        "outputId": "1dd65951-3015-40cd-c892-1d2623fc2ac1",
        "colab": {
          "base_uri": "https://localhost:8080/",
          "height": 54
        }
      },
      "source": [
        "\n",
        "\n",
        "'''\n",
        "docs_vectors = pd.DataFrame()  # creating empty final dataframe\n",
        "for doc in df['word_tokens_preprocessed'].head(10): # looping through each document \n",
        "    temp = pd.DataFrame()  # creating a temporary dataframe(store value for 1st doc & for 2nd doc remove the details of 1st & proced through 2nd and so on..)\n",
        "    for word in doc.split(' '): # looping through each word of a single document and spliting through space\n",
        "      try:\n",
        "        word_vec = wv[word] # if word is present in embeddings(goole provides weights associate with words(300)) then proceed\n",
        "        temp = temp.append(pd.Series(word_vec), ignore_index = True) # if word is present then append it to temporary dataframe\n",
        "      except:\n",
        "        pass\n",
        "    doc_vector = temp.mean() # take the average of each column(w0, w1, w2,........w300)\n",
        "    docs_vectors = docs_vectors.append(doc_vector, ignore_index = True) # append each document value to the final dataframe\n",
        "docs_vectors.shape\n",
        "docs_vectors\n",
        "\n",
        "'''"
      ],
      "execution_count": 0,
      "outputs": [
        {
          "output_type": "execute_result",
          "data": {
            "text/plain": [
              "\"\\ndocs_vectors = pd.DataFrame()  # creating empty final dataframe\\nfor doc in df['word_tokens_preprocessed'].head(10): # looping through each document \\n    temp = pd.DataFrame()  # creating a temporary dataframe(store value for 1st doc & for 2nd doc remove the details of 1st & proced through 2nd and so on..)\\n    for word in doc.split(' '): # looping through each word of a single document and spliting through space\\n      try:\\n        word_vec = wv[word] # if word is present in embeddings(goole provides weights associate with words(300)) then proceed\\n        temp = temp.append(pd.Series(word_vec), ignore_index = True) # if word is present then append it to temporary dataframe\\n      except:\\n        pass\\n    doc_vector = temp.mean() # take the average of each column(w0, w1, w2,........w300)\\n    docs_vectors = docs_vectors.append(doc_vector, ignore_index = True) # append each document value to the final dataframe\\ndocs_vectors.shape\\ndocs_vectors\\n\\n\""
            ]
          },
          "metadata": {
            "tags": []
          },
          "execution_count": 6
        },
        {
          "output_type": "stream",
          "text": [
            "time: 4.86 ms\n"
          ],
          "name": "stdout"
        }
      ]
    },
    {
      "cell_type": "markdown",
      "metadata": {
        "id": "wQ5gpVSKhiva",
        "colab_type": "text"
      },
      "source": [
        "The code below does what the above code does - gets the average of 300 dimension word vectors for every word in the question. So, the averaged word vector is a word vector for the question as a whole. This code is highly efficient since it's all on numpy."
      ]
    },
    {
      "cell_type": "code",
      "metadata": {
        "id": "9qGbSLF_rTv1",
        "colab_type": "code",
        "outputId": "d9c60df1-8322-493e-cd0f-5625f4c717e4",
        "colab": {
          "base_uri": "https://localhost:8080/",
          "height": 34
        }
      },
      "source": [
        "#below code takes ~ 3 mins for the entire dataset.\n",
        "def average_word_vectors(words, model, vocabulary, num_features):\n",
        "    \n",
        "    feature_vector = np.zeros((num_features,),dtype=\"float64\")\n",
        "    nwords = 0.\n",
        "    \n",
        "    for word in words.split(' '):\n",
        "        if word in vocabulary: \n",
        "            nwords = nwords + 1.\n",
        "            feature_vector = np.add(feature_vector, model[word])\n",
        "    \n",
        "    if nwords:\n",
        "        feature_vector = np.divide(feature_vector, nwords)\n",
        "        \n",
        "    return feature_vector\n",
        "    \n",
        "   \n",
        "def averaged_word_vectorizer(corpus, model, num_features):\n",
        "    vocabulary = set(model.wv.index2word)\n",
        "    features = [average_word_vectors(tokenized_sentence, model, vocabulary, num_features)\n",
        "                    for tokenized_sentence in corpus]\n",
        "    return np.array(features)\n",
        "\n",
        "\n",
        "# get document level embeddings\n",
        "w2v_feature_array = averaged_word_vectorizer(corpus=df['word_tokens_preprocessed'], model=wv,\n",
        "                                             num_features=300)\n",
        "question_vectors=pd.DataFrame(w2v_feature_array)"
      ],
      "execution_count": 0,
      "outputs": [
        {
          "output_type": "stream",
          "text": [
            "time: 2min 7s\n"
          ],
          "name": "stdout"
        }
      ]
    },
    {
      "cell_type": "code",
      "metadata": {
        "id": "WQqASCqNbHV2",
        "colab_type": "code",
        "outputId": "85f5d0a8-d7a7-47c5-e300-306762672d89",
        "colab": {
          "base_uri": "https://localhost:8080/",
          "height": 146
        }
      },
      "source": [
        "question_vectors.head(1)"
      ],
      "execution_count": 0,
      "outputs": [
        {
          "output_type": "execute_result",
          "data": {
            "text/html": [
              "<div>\n",
              "<style scoped>\n",
              "    .dataframe tbody tr th:only-of-type {\n",
              "        vertical-align: middle;\n",
              "    }\n",
              "\n",
              "    .dataframe tbody tr th {\n",
              "        vertical-align: top;\n",
              "    }\n",
              "\n",
              "    .dataframe thead th {\n",
              "        text-align: right;\n",
              "    }\n",
              "</style>\n",
              "<table border=\"1\" class=\"dataframe\">\n",
              "  <thead>\n",
              "    <tr style=\"text-align: right;\">\n",
              "      <th></th>\n",
              "      <th>0</th>\n",
              "      <th>1</th>\n",
              "      <th>2</th>\n",
              "      <th>3</th>\n",
              "      <th>4</th>\n",
              "      <th>5</th>\n",
              "      <th>6</th>\n",
              "      <th>7</th>\n",
              "      <th>8</th>\n",
              "      <th>9</th>\n",
              "      <th>10</th>\n",
              "      <th>11</th>\n",
              "      <th>12</th>\n",
              "      <th>13</th>\n",
              "      <th>14</th>\n",
              "      <th>15</th>\n",
              "      <th>16</th>\n",
              "      <th>17</th>\n",
              "      <th>18</th>\n",
              "      <th>19</th>\n",
              "      <th>20</th>\n",
              "      <th>21</th>\n",
              "      <th>22</th>\n",
              "      <th>23</th>\n",
              "      <th>24</th>\n",
              "      <th>25</th>\n",
              "      <th>26</th>\n",
              "      <th>27</th>\n",
              "      <th>28</th>\n",
              "      <th>29</th>\n",
              "      <th>30</th>\n",
              "      <th>31</th>\n",
              "      <th>32</th>\n",
              "      <th>33</th>\n",
              "      <th>34</th>\n",
              "      <th>35</th>\n",
              "      <th>36</th>\n",
              "      <th>37</th>\n",
              "      <th>38</th>\n",
              "      <th>39</th>\n",
              "      <th>...</th>\n",
              "      <th>260</th>\n",
              "      <th>261</th>\n",
              "      <th>262</th>\n",
              "      <th>263</th>\n",
              "      <th>264</th>\n",
              "      <th>265</th>\n",
              "      <th>266</th>\n",
              "      <th>267</th>\n",
              "      <th>268</th>\n",
              "      <th>269</th>\n",
              "      <th>270</th>\n",
              "      <th>271</th>\n",
              "      <th>272</th>\n",
              "      <th>273</th>\n",
              "      <th>274</th>\n",
              "      <th>275</th>\n",
              "      <th>276</th>\n",
              "      <th>277</th>\n",
              "      <th>278</th>\n",
              "      <th>279</th>\n",
              "      <th>280</th>\n",
              "      <th>281</th>\n",
              "      <th>282</th>\n",
              "      <th>283</th>\n",
              "      <th>284</th>\n",
              "      <th>285</th>\n",
              "      <th>286</th>\n",
              "      <th>287</th>\n",
              "      <th>288</th>\n",
              "      <th>289</th>\n",
              "      <th>290</th>\n",
              "      <th>291</th>\n",
              "      <th>292</th>\n",
              "      <th>293</th>\n",
              "      <th>294</th>\n",
              "      <th>295</th>\n",
              "      <th>296</th>\n",
              "      <th>297</th>\n",
              "      <th>298</th>\n",
              "      <th>299</th>\n",
              "    </tr>\n",
              "  </thead>\n",
              "  <tbody>\n",
              "    <tr>\n",
              "      <th>0</th>\n",
              "      <td>-0.018067</td>\n",
              "      <td>-0.008654</td>\n",
              "      <td>0.033949</td>\n",
              "      <td>0.104407</td>\n",
              "      <td>0.015154</td>\n",
              "      <td>-0.022662</td>\n",
              "      <td>0.011199</td>\n",
              "      <td>-0.01703</td>\n",
              "      <td>0.029094</td>\n",
              "      <td>0.022753</td>\n",
              "      <td>-0.028494</td>\n",
              "      <td>-0.007509</td>\n",
              "      <td>-0.018233</td>\n",
              "      <td>-0.014963</td>\n",
              "      <td>-0.050197</td>\n",
              "      <td>0.050271</td>\n",
              "      <td>-0.016033</td>\n",
              "      <td>0.041003</td>\n",
              "      <td>0.01635</td>\n",
              "      <td>-0.018886</td>\n",
              "      <td>0.014617</td>\n",
              "      <td>0.004689</td>\n",
              "      <td>0.021522</td>\n",
              "      <td>0.001047</td>\n",
              "      <td>-0.008804</td>\n",
              "      <td>0.003395</td>\n",
              "      <td>-0.036444</td>\n",
              "      <td>0.005319</td>\n",
              "      <td>0.038285</td>\n",
              "      <td>0.007919</td>\n",
              "      <td>0.003856</td>\n",
              "      <td>0.003547</td>\n",
              "      <td>-0.058357</td>\n",
              "      <td>0.042682</td>\n",
              "      <td>0.011816</td>\n",
              "      <td>-0.000766</td>\n",
              "      <td>-0.013933</td>\n",
              "      <td>0.050724</td>\n",
              "      <td>0.070337</td>\n",
              "      <td>0.013558</td>\n",
              "      <td>...</td>\n",
              "      <td>0.009237</td>\n",
              "      <td>0.006099</td>\n",
              "      <td>0.038406</td>\n",
              "      <td>0.006643</td>\n",
              "      <td>0.007258</td>\n",
              "      <td>0.022556</td>\n",
              "      <td>-0.002776</td>\n",
              "      <td>-0.006169</td>\n",
              "      <td>-0.037602</td>\n",
              "      <td>-0.026262</td>\n",
              "      <td>0.00407</td>\n",
              "      <td>0.008282</td>\n",
              "      <td>0.050315</td>\n",
              "      <td>0.027158</td>\n",
              "      <td>-0.006079</td>\n",
              "      <td>0.001142</td>\n",
              "      <td>-0.010015</td>\n",
              "      <td>-0.047221</td>\n",
              "      <td>-0.027837</td>\n",
              "      <td>0.040603</td>\n",
              "      <td>-0.043587</td>\n",
              "      <td>-0.005792</td>\n",
              "      <td>0.044552</td>\n",
              "      <td>-0.013637</td>\n",
              "      <td>-0.003773</td>\n",
              "      <td>-0.029622</td>\n",
              "      <td>-0.067217</td>\n",
              "      <td>0.000026</td>\n",
              "      <td>0.011591</td>\n",
              "      <td>0.004024</td>\n",
              "      <td>-0.018583</td>\n",
              "      <td>-0.014137</td>\n",
              "      <td>-0.024467</td>\n",
              "      <td>0.015231</td>\n",
              "      <td>-0.016778</td>\n",
              "      <td>0.001638</td>\n",
              "      <td>-0.039175</td>\n",
              "      <td>-0.002906</td>\n",
              "      <td>0.086741</td>\n",
              "      <td>0.006184</td>\n",
              "    </tr>\n",
              "  </tbody>\n",
              "</table>\n",
              "<p>1 rows × 300 columns</p>\n",
              "</div>"
            ],
            "text/plain": [
              "        0         1         2    ...       297       298       299\n",
              "0 -0.018067 -0.008654  0.033949  ... -0.002906  0.086741  0.006184\n",
              "\n",
              "[1 rows x 300 columns]"
            ]
          },
          "metadata": {
            "tags": []
          },
          "execution_count": 8
        },
        {
          "output_type": "stream",
          "text": [
            "time: 158 ms\n"
          ],
          "name": "stdout"
        }
      ]
    },
    {
      "cell_type": "markdown",
      "metadata": {
        "id": "hg5qnFmLiHiq",
        "colab_type": "text"
      },
      "source": [
        "Verify the embeddings are generated for every sample in the dataset. Split up  the dataset into training and testing dataset."
      ]
    },
    {
      "cell_type": "code",
      "metadata": {
        "id": "0dKbgws9agmo",
        "colab_type": "code",
        "outputId": "548e051b-8dee-4e65-f94a-8da6fa0a9bc1",
        "colab": {
          "base_uri": "https://localhost:8080/",
          "height": 34
        }
      },
      "source": [
        "assert len(question_vectors)==len(df)\n",
        "\n",
        "question_vectors['target']=df['target']\n",
        "\n",
        "x_train,x_test,y_train,y_test = train_test_split(question_vectors.drop('target',axis=1),question_vectors['target'], random_state=42,stratify=df['target'])\n",
        "x_train.shape, y_train.shape, x_test.shape, y_test.shape"
      ],
      "execution_count": 0,
      "outputs": [
        {
          "output_type": "stream",
          "text": [
            "time: 10.3 s\n"
          ],
          "name": "stdout"
        }
      ]
    },
    {
      "cell_type": "code",
      "metadata": {
        "id": "-M1ytIczfdzw",
        "colab_type": "code",
        "outputId": "aba9dc80-92a3-4d05-9c1d-ae855c36746e",
        "colab": {
          "base_uri": "https://localhost:8080/",
          "height": 1000
        }
      },
      "source": [
        "# ~ 4 mins. Bare version of Logistic Regression\n",
        "\n",
        "from sklearn.pipeline import Pipeline\n",
        "from sklearn import metrics\n",
        "from sklearn.metrics import classification_report,confusion_matrix,roc_curve,auc,precision_recall_curve,roc_curve,precision_recall_fscore_support\n",
        "\n",
        "\n",
        "# load the packages as needed\n",
        "'''\n",
        "from sklearn.neighbors import KNeighborsClassifier\n",
        "from sklearn.svm import SVC, NuSVC\n",
        "from sklearn.tree import DecisionTreeClassifier\n",
        "from sklearn.ensemble import RandomForestClassifier, AdaBoostClassifier, GradientBoostingClassifier\n",
        "from sklearn.naive_bayes import MultinomialNB\n",
        "from xgboost import XGBClassifier\n",
        "from lightgbm import LGBMClassifier\n",
        "'''\n",
        "from sklearn.linear_model import LogisticRegression\n",
        "\n",
        "\n",
        "\n",
        "\n",
        "EST = timezone('US/Eastern')\n",
        "\n",
        "\n",
        "\n",
        "\n",
        "result_cols = [\"Classifier\", \"Accuracy\"]\n",
        "result_frame = pd.DataFrame(columns=result_cols)\n",
        "\n",
        "\n",
        "classifiers = [\n",
        "   # KNeighborsClassifier(2), #not so impressive performance, takes 90 mins   \n",
        "   # RandomForestClassifier(), #performance not good.\n",
        "   # GradientBoostingClassifier(), #performance not good\n",
        "   #MultinomialNB() #performance not good.\n",
        "   # XGBClassifier(), #performance not good.\n",
        "   #LGBMClassifier(), #performance not good.\n",
        "   #DecisionTreeClassifier(),# best so far excluding logistic regression ( balanced weights) but .40 is the accuracy on the second label.\n",
        "   LogisticRegression()\n",
        "]\n",
        "\n",
        " \n",
        "for clf in classifiers:\n",
        "    \n",
        "    \n",
        "    name = clf.__class__.__name__\n",
        "    print(name)\n",
        "    text_clf = Pipeline([('clf', clf)])\n",
        "    text_clf.fit(x_train, y_train)\n",
        "    y_pred = text_clf.predict(x_test)\n",
        "    classifier_reports(y_test, y_pred)\n",
        "    \n",
        "    acc = metrics.accuracy_score(y_test,y_pred)\n",
        "    \n",
        "      \n",
        "    print()\n",
        "    EST_Time = datetime.now(EST)\n",
        "    print(EST_Time.strftime(\"%a, %d %B %Y %H:%M:%S\"))\n",
        "    \n",
        "   \n",
        "    \n",
        "    acc_field = pd.DataFrame([[name, np.round(acc*100,2)]], columns=result_cols)\n",
        "    result_frame = result_frame.append(acc_field)  \n",
        "    \n",
        "    np.set_printoptions(precision=2)\n",
        "\n",
        "    \n",
        "    \n",
        "    \n",
        "    \n",
        "    \n",
        "sns.set_color_codes(\"muted\")\n",
        "sns.barplot(x='Accuracy', y='Classifier', data=result_frame, color=\"r\")\n",
        "\n",
        "plt.xlabel('Accuracy %')\n",
        "plt.title('Classifier Accuracy')\n",
        "plt.show()\n",
        "\n",
        "\n",
        "\n"
      ],
      "execution_count": 0,
      "outputs": [
        {
          "output_type": "stream",
          "text": [
            "LogisticRegression\n",
            "\n",
            "              precision    recall  f1-score   support\n",
            "\n",
            "      class0       0.95      0.99      0.97    306328\n",
            "      class1       0.55      0.19      0.29     20203\n",
            "\n",
            "    accuracy                           0.94    326531\n",
            "   macro avg       0.75      0.59      0.63    326531\n",
            "weighted avg       0.92      0.94      0.93    326531\n",
            "\n",
            "Confusion matrix, without normalization\n",
            "[[303103   3225]\n",
            " [ 16290   3913]]\n",
            "Normalized confusion matrix\n",
            "[[0.98947207 0.01052793]\n",
            " [0.80631589 0.19368411]]\n"
          ],
          "name": "stdout"
        },
        {
          "output_type": "display_data",
          "data": {
            "image/png": "[encoded data removed]",
            "text/plain": [
              "<Figure size 432x288 with 2 Axes>"
            ]
          },
          "metadata": {
            "tags": []
          }
        },
        {
          "output_type": "display_data",
          "data": {
            "image/png": "[encoded data removed]",
            "text/plain": [
              "<Figure size 432x288 with 2 Axes>"
            ]
          },
          "metadata": {
            "tags": []
          }
        },
        {
          "output_type": "stream",
          "text": [
            "\n",
            "Tue, 24 September 2019 14:45:48\n"
          ],
          "name": "stdout"
        },
        {
          "output_type": "display_data",
          "data": {
            "image/png": "[encoded data removed]",
            "text/plain": [
              "<Figure size 432x288 with 1 Axes>"
            ]
          },
          "metadata": {
            "tags": []
          }
        },
        {
          "output_type": "stream",
          "text": [
            "time: 4min 23s\n"
          ],
          "name": "stdout"
        }
      ]
    },
    {
      "cell_type": "code",
      "metadata": {
        "id": "5a9tzVlumYdH",
        "colab_type": "code",
        "outputId": "5cac6dd1-92a8-4deb-b556-48597eabe254",
        "colab": {
          "base_uri": "https://localhost:8080/",
          "height": 1000
        }
      },
      "source": [
        "# ~ 4 mins. Bare version of Logistic Regression\n",
        "\n",
        "from sklearn.pipeline import Pipeline\n",
        "from sklearn import metrics\n",
        "from sklearn.metrics import classification_report,confusion_matrix,roc_curve,auc,precision_recall_curve,roc_curve,precision_recall_fscore_support\n",
        "\n",
        "\n",
        "# load the packages as needed\n",
        "'''\n",
        "from sklearn.neighbors import KNeighborsClassifier\n",
        "from sklearn.svm import SVC, NuSVC\n",
        "from sklearn.tree import DecisionTreeClassifier\n",
        "from sklearn.ensemble import RandomForestClassifier, AdaBoostClassifier, GradientBoostingClassifier\n",
        "from sklearn.naive_bayes import MultinomialNB\n",
        "from xgboost import XGBClassifier\n",
        "from lightgbm import LGBMClassifier\n",
        "'''\n",
        "from sklearn.linear_model import LogisticRegression\n",
        "\n",
        "\n",
        "\n",
        "\n",
        "EST = timezone('US/Eastern')\n",
        "\n",
        "\n",
        "\n",
        "\n",
        "result_cols = [\"Classifier\", \"Accuracy\"]\n",
        "result_frame = pd.DataFrame(columns=result_cols)\n",
        "\n",
        "\n",
        "classifiers = [\n",
        "   # KNeighborsClassifier(2), #not so impressive performance, takes 90 mins   \n",
        "   # RandomForestClassifier(), #performance not good.\n",
        "   # GradientBoostingClassifier(), #performance not good\n",
        "   #MultinomialNB() #performance not good.\n",
        "   # XGBClassifier(), #performance not good.\n",
        "   #LGBMClassifier(), #performance not good.\n",
        "   #DecisionTreeClassifier(),# best so far excluding logistic regression ( balanced weights) but .40 is the accuracy on the second label.\n",
        "   LogisticRegression(class_weight='balanced')\n",
        "]\n",
        "\n",
        " \n",
        "for clf in classifiers:\n",
        "    \n",
        "    \n",
        "    name = clf.__class__.__name__\n",
        "    print(name)\n",
        "    text_clf = Pipeline([('clf', clf)])\n",
        "    text_clf.fit(x_train, y_train)\n",
        "    y_pred = text_clf.predict(x_test)\n",
        "    classifier_reports(y_test, y_pred)\n",
        "    \n",
        "    acc = metrics.accuracy_score(y_test,y_pred)\n",
        "    \n",
        "      \n",
        "    print()\n",
        "    EST_Time = datetime.now(EST)\n",
        "    print(EST_Time.strftime(\"%a, %d %B %Y %H:%M:%S\"))\n",
        "    \n",
        "   \n",
        "    \n",
        "    acc_field = pd.DataFrame([[name, np.round(acc*100,2)]], columns=result_cols)\n",
        "    result_frame = result_frame.append(acc_field)  \n",
        "    \n",
        "    np.set_printoptions(precision=2)\n",
        "\n",
        "    \n",
        "    \n",
        "    \n",
        "    \n",
        "    \n",
        "sns.set_color_codes(\"muted\")\n",
        "sns.barplot(x='Accuracy', y='Classifier', data=result_frame, color=\"r\")\n",
        "\n",
        "plt.xlabel('Accuracy %')\n",
        "plt.title('Classifier Accuracy')\n",
        "plt.show()\n",
        "\n",
        "\n",
        "\n"
      ],
      "execution_count": 0,
      "outputs": [
        {
          "output_type": "stream",
          "text": [
            "LogisticRegression\n",
            "\n",
            "              precision    recall  f1-score   support\n",
            "\n",
            "      class0       0.99      0.83      0.90    306328\n",
            "      class1       0.25      0.84      0.39     20203\n",
            "\n",
            "    accuracy                           0.84    326531\n",
            "   macro avg       0.62      0.84      0.65    326531\n",
            "weighted avg       0.94      0.84      0.87    326531\n",
            "\n",
            "Confusion matrix, without normalization\n",
            "[[255650  50678]\n",
            " [  3191  17012]]\n",
            "Normalized confusion matrix\n",
            "[[0.83 0.17]\n",
            " [0.16 0.84]]\n"
          ],
          "name": "stdout"
        },
        {
          "output_type": "display_data",
          "data": {
            "image/png": "[encoded data removed]",
            "text/plain": [
              "<Figure size 432x288 with 2 Axes>"
            ]
          },
          "metadata": {
            "tags": []
          }
        },
        {
          "output_type": "display_data",
          "data": {
            "image/png": "[encoded data removed]",
            "text/plain": [
              "<Figure size 432x288 with 2 Axes>"
            ]
          },
          "metadata": {
            "tags": []
          }
        },
        {
          "output_type": "stream",
          "text": [
            "\n",
            "Tue, 24 September 2019 14:51:41\n"
          ],
          "name": "stdout"
        },
        {
          "output_type": "display_data",
          "data": {
            "image/png": "[encoded data removed]",
            "text/plain": [
              "<Figure size 432x288 with 1 Axes>"
            ]
          },
          "metadata": {
            "tags": []
          }
        },
        {
          "output_type": "stream",
          "text": [
            "time: 3min 28s\n"
          ],
          "name": "stdout"
        }
      ]
    }
  ]
}