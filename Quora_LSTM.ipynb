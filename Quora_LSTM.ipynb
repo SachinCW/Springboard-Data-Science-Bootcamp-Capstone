{
  "nbformat": 4,
  "nbformat_minor": 0,
  "metadata": {
    "colab": {
      "name": "Quora LSTM.ipynb",
      "provenance": [],
      "collapsed_sections": [],
      "machine_shape": "hm",
      "include_colab_link": true
    },
    "kernelspec": {
      "name": "python3",
      "display_name": "Python 3"
    },
    "accelerator": "GPU"
  },
  "cells": [
    {
      "cell_type": "markdown",
      "metadata": {
        "id": "view-in-github",
        "colab_type": "text"
      },
      "source": [
        "<a href=\"https://colab.research.google.com/github/sachin-cw/Springboard-Capstone/blob/master/Quora_LSTM.ipynb\" target=\"_parent\"><img src=\"https://colab.research.google.com/assets/colab-badge.svg\" alt=\"Open In Colab\"/></a>"
      ]
    },
    {
      "cell_type": "markdown",
      "metadata": {
        "id": "_0nEqquevw2W",
        "colab_type": "text"
      },
      "source": [
        "# Experiment using Long Short Term Neural Network on Quora Sincere-Insincere Questions Classification."
      ]
    },
    {
      "cell_type": "markdown",
      "metadata": {
        "id": "f084ZP-8v4Oj",
        "colab_type": "text"
      },
      "source": [
        "Load all the dependencies, create a dictionary for expanding Contractions and have all the functions created."
      ]
    },
    {
      "cell_type": "code",
      "metadata": {
        "id": "6LtMNZyTsIKM",
        "colab_type": "code",
        "outputId": "f6e99cc7-9a4b-4b5f-c81e-754050278878",
        "colab": {
          "base_uri": "https://localhost:8080/",
          "height": 275
        }
      },
      "source": [
        "!pip install ipython-autotime\n",
        "%load_ext autotime\n",
        "# above lines get me the cell execution time.\n",
        "\n",
        "def warn(*args, **kwargs):\n",
        "    pass\n",
        "import warnings\n",
        "warnings.warn = warn\n",
        "#above lines help me avoid warnings thrown by sklearn\n",
        "\n",
        "\n",
        "import re\n",
        "import os\n",
        "\n",
        "import unicodedata\n",
        "\n",
        "import nltk\n",
        "nltk.download('punkt')\n",
        "from nltk.stem import PorterStemmer\n",
        "from nltk.corpus import stopwords\n",
        "\n",
        "\n",
        "import matplotlib.pyplot as plt\n",
        "from mpl_toolkits.mplot3d import Axes3D\n",
        "import seaborn as sns\n",
        "%matplotlib inline\n",
        "import numpy as np\n",
        "import pandas as pd\n",
        "\n",
        "from datetime import datetime\n",
        "from pytz import timezone\n",
        "import time\n",
        "\n",
        "from sklearn.model_selection import train_test_split\n",
        "\n",
        "import sys\n",
        "\n",
        "import keras\n",
        "from keras.preprocessing.text import Tokenizer\n",
        "from keras.utils import to_categorical\n",
        "from keras.preprocessing.sequence import pad_sequences\n",
        "from keras.layers import Activation, Conv2D, Input, Embedding, Reshape, MaxPool2D, Concatenate, Flatten, Dropout, Dense, Conv1D\n",
        "from keras.layers import MaxPool1D\n",
        "from keras.models import Model\n",
        "from keras.callbacks import ModelCheckpoint\n",
        "from keras.optimizers import Adam\n",
        "\n",
        "from sklearn import metrics\n",
        "from sklearn.metrics import classification_report,confusion_matrix,roc_curve,auc,precision_recall_curve,roc_curve,precision_recall_fscore_support\n",
        "\n",
        "nltk.download('stopwords')\n",
        "\n",
        "# Load stop words\n",
        "stop_words = stopwords.words('english')\n",
        "stop_words.remove('no')\n",
        "stop_words.remove('not')\n",
        "\n",
        "\n",
        "\n",
        "CONTRACTION_MAP = {\n",
        "\"ain't\": \"is not\",\n",
        "\"aren't\": \"are not\",\n",
        "\"can't\": \"cannot\",\n",
        "\"can't've\": \"cannot have\",\n",
        "\"'cause\": \"because\",\n",
        "\"could've\": \"could have\",\n",
        "\"couldn't\": \"could not\",\n",
        "\"couldn't've\": \"could not have\",\n",
        "\"didn't\": \"did not\",\n",
        "\"doesn't\": \"does not\",\n",
        "\"don't\": \"do not\",\n",
        "\"hadn't\": \"had not\",\n",
        "\"hadn't've\": \"had not have\",\n",
        "\"hasn't\": \"has not\",\n",
        "\"haven't\": \"have not\",\n",
        "\"he'd\": \"he would\",\n",
        "\"he'd've\": \"he would have\",\n",
        "\"he'll\": \"he will\",\n",
        "\"he'll've\": \"he he will have\",\n",
        "\"he's\": \"he is\",\n",
        "\"how'd\": \"how did\",\n",
        "\"how'd'y\": \"how do you\",\n",
        "\"how'll\": \"how will\",\n",
        "\"how's\": \"how is\",\n",
        "\"I'd\": \"I would\",\n",
        "\"I'd've\": \"I would have\",\n",
        "\"I'll\": \"I will\",\n",
        "\"I'll've\": \"I will have\",\n",
        "\"I'm\": \"I am\",\n",
        "\"I've\": \"I have\",\n",
        "\"i'd\": \"i would\",\n",
        "\"i'd've\": \"i would have\",\n",
        "\"i'll\": \"i will\",\n",
        "\"i'll've\": \"i will have\",\n",
        "\"i'm\": \"i am\",\n",
        "\"i've\": \"i have\",\n",
        "\"isn't\": \"is not\",\n",
        "\"it'd\": \"it would\",\n",
        "\"it'd've\": \"it would have\",\n",
        "\"it'll\": \"it will\",\n",
        "\"it'll've\": \"it will have\",\n",
        "\"it's\": \"it is\",\n",
        "\"let's\": \"let us\",\n",
        "\"ma'am\": \"madam\",\n",
        "\"mayn't\": \"may not\",\n",
        "\"might've\": \"might have\",\n",
        "\"mightn't\": \"might not\",\n",
        "\"mightn't've\": \"might not have\",\n",
        "\"must've\": \"must have\",\n",
        "\"mustn't\": \"must not\",\n",
        "\"mustn't've\": \"must not have\",\n",
        "\"needn't\": \"need not\",\n",
        "\"needn't've\": \"need not have\",\n",
        "\"o'clock\": \"of the clock\",\n",
        "\"oughtn't\": \"ought not\",\n",
        "\"oughtn't've\": \"ought not have\",\n",
        "\"shan't\": \"shall not\",\n",
        "\"sha'n't\": \"shall not\",\n",
        "\"shan't've\": \"shall not have\",\n",
        "\"she'd\": \"she would\",\n",
        "\"she'd've\": \"she would have\",\n",
        "\"she'll\": \"she will\",\n",
        "\"she'll've\": \"she will have\",\n",
        "\"she's\": \"she is\",\n",
        "\"should've\": \"should have\",\n",
        "\"shouldn't\": \"should not\",\n",
        "\"shouldn't've\": \"should not have\",\n",
        "\"so've\": \"so have\",\n",
        "\"so's\": \"so as\",\n",
        "\"that'd\": \"that would\",\n",
        "\"that'd've\": \"that would have\",\n",
        "\"that's\": \"that is\",\n",
        "\"there'd\": \"there would\",\n",
        "\"there'd've\": \"there would have\",\n",
        "\"there's\": \"there is\",\n",
        "\"they'd\": \"they would\",\n",
        "\"they'd've\": \"they would have\",\n",
        "\"they'll\": \"they will\",\n",
        "\"they'll've\": \"they will have\",\n",
        "\"they're\": \"they are\",\n",
        "\"they've\": \"they have\",\n",
        "\"to've\": \"to have\",\n",
        "\"wasn't\": \"was not\",\n",
        "\"we'd\": \"we would\",\n",
        "\"we'd've\": \"we would have\",\n",
        "\"we'll\": \"we will\",\n",
        "\"we'll've\": \"we will have\",\n",
        "\"we're\": \"we are\",\n",
        "\"we've\": \"we have\",\n",
        "\"weren't\": \"were not\",\n",
        "\"what'll\": \"what will\",\n",
        "\"what'll've\": \"what will have\",\n",
        "\"what're\": \"what are\",\n",
        "\"what's\": \"what is\",\n",
        "\"what've\": \"what have\",\n",
        "\"when's\": \"when is\",\n",
        "\"when've\": \"when have\",\n",
        "\"where'd\": \"where did\",\n",
        "\"where's\": \"where is\",\n",
        "\"where've\": \"where have\",\n",
        "\"who'll\": \"who will\",\n",
        "\"who'll've\": \"who will have\",\n",
        "\"who's\": \"who is\",\n",
        "\"who've\": \"who have\",\n",
        "\"why's\": \"why is\",\n",
        "\"why've\": \"why have\",\n",
        "\"will've\": \"will have\",\n",
        "\"won't\": \"will not\",\n",
        "\"won't've\": \"will not have\",\n",
        "\"would've\": \"would have\",\n",
        "\"wouldn't\": \"would not\",\n",
        "\"wouldn't've\": \"would not have\",\n",
        "\"y'all\": \"you all\",\n",
        "\"y'all'd\": \"you all would\",\n",
        "\"y'all'd've\": \"you all would have\",\n",
        "\"y'all're\": \"you all are\",\n",
        "\"y'all've\": \"you all have\",\n",
        "\"you'd\": \"you would\",\n",
        "\"you'd've\": \"you would have\",\n",
        "\"you'll\": \"you will\",\n",
        "\"you'll've\": \"you will have\",\n",
        "\"you're\": \"you are\",\n",
        "\"you've\": \"you have\"\n",
        "}\n",
        "\n",
        "\n",
        "\n",
        "\n",
        "\n",
        "\n",
        "from sklearn.utils.multiclass import unique_labels\n",
        "def plot_confusion_matrix(y_true, y_pred, classes,\n",
        "                          normalize=False,\n",
        "                          title=None,\n",
        "                          cmap=plt.cm.Blues):\n",
        "    \"\"\"\n",
        "    This function prints and plots the confusion matrix.\n",
        "    Normalization can be applied by setting `normalize=True`.\n",
        "    \"\"\"\n",
        "    if not title:\n",
        "        if normalize:\n",
        "            title = 'Normalized confusion matrix'\n",
        "        else:\n",
        "            title = 'Confusion matrix, without normalization'\n",
        "\n",
        "    # Compute confusion matrix\n",
        "    cm = confusion_matrix(y_true, y_pred)\n",
        "    # Only use the labels that appear in the data\n",
        "  #  classes = classes[unique_labels(y_true, y_pred)]\n",
        "    if normalize:\n",
        "        cm = cm.astype('float') / cm.sum(axis=1)[:, np.newaxis]\n",
        "        print(\"Normalized confusion matrix\")\n",
        "    else:\n",
        "        print('Confusion matrix, without normalization')\n",
        "\n",
        "    print(cm)\n",
        "\n",
        "    fig, ax = plt.subplots()\n",
        "    im = ax.imshow(cm, interpolation='nearest', cmap=cmap)\n",
        "    ax.figure.colorbar(im, ax=ax)\n",
        "    # We want to show all ticks...\n",
        "    ax.set(xticks=np.arange(cm.shape[1]),\n",
        "           yticks=np.arange(cm.shape[0]),\n",
        "           # ... and label them with the respective list entries\n",
        "           xticklabels=classes, yticklabels=classes,\n",
        "           title=title,\n",
        "           ylabel='True label',\n",
        "           xlabel='Predicted label')\n",
        "\n",
        "    # Rotate the tick labels and set their alignment.\n",
        "    plt.setp(ax.get_xticklabels(), rotation=45, ha=\"right\",\n",
        "             rotation_mode=\"anchor\")\n",
        "\n",
        "    # Loop over data dimensions and create text annotations.\n",
        "    fmt = '.2f' if normalize else 'd'\n",
        "    thresh = cm.max() / 2.\n",
        "    for i in range(cm.shape[0]):\n",
        "        for j in range(cm.shape[1]):\n",
        "            ax.text(j, i, format(cm[i, j], fmt),\n",
        "                    ha=\"center\", va=\"center\",\n",
        "                    color=\"white\" if cm[i, j] > thresh else \"black\")\n",
        "    fig.tight_layout()\n",
        "    return ax\n",
        "\n",
        "\n",
        "  \n",
        "\n",
        "\n",
        "\n",
        "def remove_special_chars(text):\n",
        "  return re.sub(r'[^a-zA-Z0-9 \\']', '', text)\n",
        "\n",
        "def expand_contractions(text, contraction_mapping=CONTRACTION_MAP):\n",
        "    \n",
        "    contractions_pattern = re.compile('({})'.format('|'.join(contraction_mapping.keys())), \n",
        "                                      flags=re.IGNORECASE|re.DOTALL)\n",
        "    def expand_match(contraction):\n",
        "        match = contraction.group(0)\n",
        "        first_char = match[0]\n",
        "        expanded_contraction = contraction_mapping.get(match)\\\n",
        "                                if contraction_mapping.get(match)\\\n",
        "                                else contraction_mapping.get(match.lower())                       \n",
        "        expanded_contraction = first_char+expanded_contraction[1:]\n",
        "        return expanded_contraction\n",
        "        \n",
        "    expanded_text = contractions_pattern.sub(expand_match, text)\n",
        "    expanded_text = re.sub(\"'\", \"\", expanded_text)\n",
        "    return expanded_text\n",
        "\n",
        "def remove_accented_chars(text):\n",
        "  text = unicodedata.normalize('NFKD', text).encode('ascii', 'ignore').decode('utf-8', 'ignore')\n",
        "  return text\n",
        "\n",
        "def tokenize_text(text):\n",
        "  tokens = nltk.word_tokenize(text)\n",
        "  tokens = [token.strip() for token in tokens]\n",
        "  return tokens\n",
        "\n",
        "def normalize_text(text):\n",
        "  text=remove_special_chars(text)\n",
        "  text=expand_contractions(text)\n",
        "  text=remove_accented_chars(text)\n",
        "  return text\n",
        "\n",
        "def remove_stopwords_nltk(tokens):\n",
        "  filtered_tokens = [token for token in tokens if token not in stop_words]\n",
        "  filtered_text = ' '.join(filtered_tokens)    \n",
        "  return filtered_text\n",
        "\n",
        "\n",
        "def stem_sentences_nltk(sentence):\n",
        "  ps = PorterStemmer()\n",
        "  tokens = sentence.split()\n",
        "  stemmed_tokens = [ps.stem(token) for token in tokens]\n",
        "  return ' '.join(stemmed_tokens)\n",
        "  \n",
        "  \n",
        "def stem_sentences_list(sentence):\n",
        "  ps = PorterStemmer()\n",
        "  tokens = sentence.split()\n",
        "  stemmed_tokens = [ps.stem(token) for token in tokens]\n",
        "  return stemmed_tokens\n",
        "\n",
        " \n",
        "def tfidf_vectorize_get_array(series):\n",
        "  vectorizer = TfidfVectorizer(min_df=1,norm='l2',smooth_idf=True,use_idf=True,ngram_range=(1,1))\n",
        "  return np.array(vectorizer.fit_transform(series).todense(), dtype=np.float16)\n",
        "\n",
        "def tfidf_vectorize(series):\n",
        "  vectorizer = TfidfVectorizer(min_df=1,norm='l2',smooth_idf=True,use_idf=True,ngram_range=(1,1))\n",
        "  return vectorizer.fit_transform(series)\n",
        "\n",
        "\n",
        "def preprocess_text(df,stem=False):\n",
        "  if stem:\n",
        "    df['word_tokens_stemmed']=df['question_text'].apply(normalize_text).apply(tokenize_text).apply(remove_stopwords_nltk).apply(stem_sentences_nltk)\n",
        "  else:\n",
        "    df['word_tokens_preprocessed']=df['question_text'].apply(normalize_text)\n",
        "  return df\n",
        "\n",
        "\n",
        "\n",
        "\n",
        "def split_train_test(df,stem=False):\n",
        "  if stem:\n",
        "    x_train,x_test,y_train,y_test = train_test_split(df['word_tokens_stemmed'],df['target'], random_state=1,stratify=df['target'])\n",
        "  else:\n",
        "    x_train,x_test,y_train,y_test = train_test_split(df['word_tokens_preprocessed'],df['target'], random_state=1,stratify=df['target'])\n",
        "  return x_train,x_test,y_train,y_test\n",
        "\n",
        "def classifier_reports(y_test, y_pred):\n",
        "  print()\n",
        "  class_names = ['class0', 'class1']\n",
        "  print(classification_report(y_test, y_pred, target_names=class_names))\n",
        "  # Plot non-normalized confusion matrix\n",
        "  plot_confusion_matrix(y_test, y_pred, classes=class_names,title='Confusion matrix, without normalization')\n",
        "  # Plot normalized confusion matrix\n",
        "  plot_confusion_matrix(y_test, y_pred, classes=class_names, normalize=True, title='Normalized confusion matrix')\n",
        "  plt.show()\n",
        "  \n",
        "  \n"
      ],
      "execution_count": 0,
      "outputs": [
        {
          "output_type": "stream",
          "text": [
            "Collecting ipython-autotime\n",
            "  Downloading https://files.pythonhosted.org/packages/e6/f9/0626bbdb322e3a078d968e87e3b01341e7890544de891d0cb613641220e6/ipython-autotime-0.1.tar.bz2\n",
            "Building wheels for collected packages: ipython-autotime\n",
            "  Building wheel for ipython-autotime (setup.py) ... \u001b[?25l\u001b[?25hdone\n",
            "  Created wheel for ipython-autotime: filename=ipython_autotime-0.1-cp36-none-any.whl size=1832 sha256=f8a47206ee29176c40e711b9a9e79f0a0acfd7831c63644ff45d43b8ef93e73b\n",
            "  Stored in directory: /root/.cache/pip/wheels/d2/df/81/2db1e54bc91002cec40334629bc39cfa86dff540b304ebcd6e\n",
            "Successfully built ipython-autotime\n",
            "Installing collected packages: ipython-autotime\n",
            "Successfully installed ipython-autotime-0.1\n",
            "[nltk_data] Downloading package punkt to /root/nltk_data...\n",
            "[nltk_data]   Unzipping tokenizers/punkt.zip.\n"
          ],
          "name": "stdout"
        },
        {
          "output_type": "stream",
          "text": [
            "Using TensorFlow backend.\n"
          ],
          "name": "stderr"
        },
        {
          "output_type": "stream",
          "text": [
            "[nltk_data] Downloading package stopwords to /root/nltk_data...\n",
            "[nltk_data]   Unzipping corpora/stopwords.zip.\n"
          ],
          "name": "stdout"
        }
      ]
    },
    {
      "cell_type": "markdown",
      "metadata": {
        "id": "D6Actf6iwNho",
        "colab_type": "text"
      },
      "source": [
        "Mount the Google drive to load the training file later."
      ]
    },
    {
      "cell_type": "code",
      "metadata": {
        "id": "lv4qGBJ5sTTJ",
        "colab_type": "code",
        "outputId": "d63d9c54-1358-4ccc-9886-2b63543e6ae7",
        "colab": {
          "base_uri": "https://localhost:8080/",
          "height": 394
        }
      },
      "source": [
        "\n",
        "  \n",
        "from google.colab import drive\n",
        "drive.mount('/content/gdrive')\n",
        "os.chdir('gdrive/My Drive/kaggle/quora')\n",
        "!ls -ltr  "
      ],
      "execution_count": 0,
      "outputs": [
        {
          "output_type": "stream",
          "text": [
            "Go to this URL in a browser: https://accounts.google.com/o/oauth2/auth?client_id=947318989803-6bn6qk8qdgf4n4g3pfee6491hc0brc4i.apps.googleusercontent.com&redirect_uri=urn%3Aietf%3Awg%3Aoauth%3A2.0%3Aoob&scope=email%20https%3A%2F%2Fwww.googleapis.com%2Fauth%2Fdocs.test%20https%3A%2F%2Fwww.googleapis.com%2Fauth%2Fdrive%20https%3A%2F%2Fwww.googleapis.com%2Fauth%2Fdrive.photos.readonly%20https%3A%2F%2Fwww.googleapis.com%2Fauth%2Fpeopleapi.readonly&response_type=code\n",
            "\n",
            "Enter your authorization code:\n",
            "··········\n",
            "Mounted at /content/gdrive\n",
            "total 12046755\n",
            "-rw------- 1 root root 5646236541 Oct 24  2015 glove.840B.300d.txt\n",
            "-rw------- 1 root root 2259088777 Mar 14  2018 wiki-news-300d-1M.vec\n",
            "-rw------- 1 root root 3644258522 Oct 31  2018 GoogleNews-vectors-negative300.bin\n",
            "drwx------ 2 root root       4096 Aug 25 19:03 paragram_300_sl999\n",
            "-rw------- 1 root root   35011536 Aug 25 19:25 test.csv\n",
            "-rw------- 1 root root  124206772 Aug 25 19:25 train.csv\n",
            "-rw------- 1 root root    8643553 Aug 25 19:26 sample_submission.csv\n",
            "-rw------- 1 root root    6617121 Aug 28 11:36 big.txt\n",
            "drwx------ 2 root root       4096 Sep  2 19:02 catboost_info\n",
            "-rw------- 1 root root    8643553 Sep  7 22:19 submission.csv\n",
            "-rw------- 1 root root  186744887 Sep  8 17:28 quora.csv\n",
            "-rw------- 1 root root  177407020 Sep 21 18:00 quora_preprocessed_stemmed.csv\n",
            "-rw------- 1 root root  119503856 Oct 10 16:24 weights.hdf5\n",
            "-rw------- 1 root root  119503936 Oct 10 17:19 treated_weights.hdf5\n",
            "time: 25.1 s\n"
          ],
          "name": "stdout"
        }
      ]
    },
    {
      "cell_type": "markdown",
      "metadata": {
        "id": "T1RU8-W2wQam",
        "colab_type": "text"
      },
      "source": [
        "Load the training and test file and preprocess it."
      ]
    },
    {
      "cell_type": "code",
      "metadata": {
        "id": "GmrAZbbJtN-h",
        "colab_type": "code",
        "outputId": "132544c3-309b-451a-8233-1b4b87aedff2",
        "colab": {
          "base_uri": "https://localhost:8080/",
          "height": 51
        }
      },
      "source": [
        "train = pd.read_csv(\"train.csv\")\n",
        "test = pd.read_csv(\"test.csv\")\n",
        "df = pd.concat([train ,test])\n",
        "\n",
        "print(\"Number of texts: \", df.shape[0])"
      ],
      "execution_count": 0,
      "outputs": [
        {
          "output_type": "stream",
          "text": [
            "Number of texts:  1681928\n",
            "time: 4.99 s\n"
          ],
          "name": "stdout"
        }
      ]
    },
    {
      "cell_type": "code",
      "metadata": {
        "id": "DvF9Qo8Otdkl",
        "colab_type": "code",
        "outputId": "7e7af180-1c5f-4c5d-f9cf-41c4b1a83c70",
        "colab": {
          "base_uri": "https://localhost:8080/",
          "height": 34
        }
      },
      "source": [
        "def load_embed(file):\n",
        "    def get_coefs(word,*arr): \n",
        "        return word, np.asarray(arr, dtype='float32')\n",
        "    \n",
        "    if file == 'wiki-news-300d-1M.vec':\n",
        "        embeddings_index = dict(get_coefs(*o.split(\" \")) for o in open(file))\n",
        "    else:\n",
        "        embeddings_index = dict(get_coefs(*o.split(\" \")) for o in open(file, encoding='latin'))\n",
        "        \n",
        "    return embeddings_index"
      ],
      "execution_count": 0,
      "outputs": [
        {
          "output_type": "stream",
          "text": [
            "time: 5.85 ms\n"
          ],
          "name": "stdout"
        }
      ]
    },
    {
      "cell_type": "code",
      "metadata": {
        "id": "_s7ESiFI0ROo",
        "colab_type": "code",
        "outputId": "9f079ec1-8c9c-48d9-869e-54d047d014e6",
        "colab": {
          "base_uri": "https://localhost:8080/",
          "height": 68
        }
      },
      "source": [
        "glove = 'glove.840B.300d.txt'\n",
        "wiki_news = 'wiki-news-300d-1M.vec'\n",
        "\n",
        "print(\"Extracting GloVe embedding\")\n",
        "embed_glove = load_embed(glove)\n",
        "\n",
        "print(\"Extracting FastText embedding\")\n",
        "embed_fasttext = load_embed(wiki_news)"
      ],
      "execution_count": 0,
      "outputs": [
        {
          "output_type": "stream",
          "text": [
            "Extracting GloVe embedding\n",
            "Extracting FastText embedding\n",
            "time: 4min 20s\n"
          ],
          "name": "stdout"
        }
      ]
    },
    {
      "cell_type": "markdown",
      "metadata": {
        "id": "r8OFEEMf0xOv",
        "colab_type": "text"
      },
      "source": [
        "Define functions to build vocabulary from the dataset and check coverage of vocabulary in the pretrained embeddings"
      ]
    },
    {
      "cell_type": "code",
      "metadata": {
        "id": "OG1fCbiQ5mQo",
        "colab_type": "code",
        "outputId": "94ddcd79-2dd8-4336-ac26-ce35efff418d",
        "colab": {
          "base_uri": "https://localhost:8080/",
          "height": 34
        }
      },
      "source": [
        "#vocab stores the frequency of each word found\n",
        "\n",
        "def build_vocab(texts):\n",
        "    sentences = texts.apply(lambda x: x.split()).values\n",
        "    vocab = {}\n",
        "    for sentence in sentences:\n",
        "        for word in sentence:\n",
        "            try:\n",
        "                vocab[word] += 1\n",
        "            except KeyError:\n",
        "                vocab[word] = 1\n",
        "    return vocab\n",
        "  \n",
        "def check_coverage(vocab, embeddings_index):\n",
        "    known_words = {}\n",
        "    unknown_words = {}\n",
        "    nb_known_words = 0\n",
        "    nb_unknown_words = 0\n",
        "    for word in vocab.keys():\n",
        "        try:\n",
        "            known_words[word] = embeddings_index[word]\n",
        "            nb_known_words += vocab[word]\n",
        "        except:\n",
        "            unknown_words[word] = vocab[word]\n",
        "            nb_unknown_words += vocab[word]\n",
        "            pass\n",
        "\n",
        "    print('Found embeddings for {:.2%} of vocab'.format(len(known_words) / len(vocab)))\n",
        "    print('Found embeddings for  {:.2%} of all text'.format(nb_known_words / (nb_known_words + nb_unknown_words)))\n",
        "    unknown_words = sorted(unknown_words.items(), key=operator.itemgetter(1))[::-1]\n",
        "\n",
        "    return unknown_words  "
      ],
      "execution_count": 0,
      "outputs": [
        {
          "output_type": "stream",
          "text": [
            "time: 18.2 ms\n"
          ],
          "name": "stdout"
        }
      ]
    },
    {
      "cell_type": "code",
      "metadata": {
        "id": "WKgVCEPU5uB7",
        "colab_type": "code",
        "outputId": "91dd2e37-62b7-4388-bfdc-d4d47c20137f",
        "colab": {
          "base_uri": "https://localhost:8080/",
          "height": 34
        }
      },
      "source": [
        "vocab = build_vocab(df['question_text'])"
      ],
      "execution_count": 0,
      "outputs": [
        {
          "output_type": "stream",
          "text": [
            "time: 12.2 s\n"
          ],
          "name": "stdout"
        }
      ]
    },
    {
      "cell_type": "code",
      "metadata": {
        "id": "TyFDlX0G50Mq",
        "colab_type": "code",
        "outputId": "abe2e01f-21d2-4402-8152-58fcaf841aaa",
        "colab": {
          "base_uri": "https://localhost:8080/",
          "height": 34
        }
      },
      "source": [
        "len(vocab)"
      ],
      "execution_count": 0,
      "outputs": [
        {
          "output_type": "execute_result",
          "data": {
            "text/plain": [
              "597383"
            ]
          },
          "metadata": {
            "tags": []
          },
          "execution_count": 9
        },
        {
          "output_type": "stream",
          "text": [
            "time: 11.1 ms\n"
          ],
          "name": "stdout"
        }
      ]
    },
    {
      "cell_type": "code",
      "metadata": {
        "id": "rdjmlTpI6Ia9",
        "colab_type": "code",
        "outputId": "741450f2-baae-4747-ac01-368ead0cce36",
        "colab": {
          "base_uri": "https://localhost:8080/",
          "height": 136
        }
      },
      "source": [
        "import operator\n",
        "print(\"Glove : \")\n",
        "oov_glove = check_coverage(vocab, embed_glove)\n",
        "\n",
        "print(\"FastText : \")\n",
        "oov_fasttext = check_coverage(vocab, embed_fasttext)"
      ],
      "execution_count": 0,
      "outputs": [
        {
          "output_type": "stream",
          "text": [
            "Glove : \n",
            "Found embeddings for 31.54% of vocab\n",
            "Found embeddings for  88.16% of all text\n",
            "FastText : \n",
            "Found embeddings for 28.40% of vocab\n",
            "Found embeddings for  87.66% of all text\n",
            "time: 1.63 s\n"
          ],
          "name": "stdout"
        }
      ]
    },
    {
      "cell_type": "markdown",
      "metadata": {
        "id": "takPSsd-1PUq",
        "colab_type": "text"
      },
      "source": [
        "If you have a word in embedding but it's small cased version is not in embedding, add an embedding for that small cased version."
      ]
    },
    {
      "cell_type": "code",
      "metadata": {
        "id": "deSuu6nE978a",
        "colab_type": "code",
        "outputId": "ab1971e7-c607-41d7-b9e5-f53a06dbe06d",
        "colab": {
          "base_uri": "https://localhost:8080/",
          "height": 34
        }
      },
      "source": [
        "def add_lower(embedding, vocab):\n",
        "    count = 0\n",
        "    for word in vocab:\n",
        "        if word in embedding and word.lower() not in embedding:  \n",
        "            embedding[word.lower()] = embedding[word]\n",
        "            count += 1\n",
        "    print(f\"Added {count} words to embedding\")"
      ],
      "execution_count": 0,
      "outputs": [
        {
          "output_type": "stream",
          "text": [
            "time: 3.4 ms\n"
          ],
          "name": "stdout"
        }
      ]
    },
    {
      "cell_type": "code",
      "metadata": {
        "id": "I7tCTeWt-B_t",
        "colab_type": "code",
        "outputId": "c395ba5f-d60a-4145-a357-0318b502d640",
        "colab": {
          "base_uri": "https://localhost:8080/",
          "height": 102
        }
      },
      "source": [
        "print(\"Glove : \")\n",
        "add_lower(embed_glove, vocab)\n",
        "\n",
        "print(\"FastText : \")\n",
        "add_lower(embed_fasttext, vocab)"
      ],
      "execution_count": 0,
      "outputs": [
        {
          "output_type": "stream",
          "text": [
            "Glove : \n",
            "Added 17744 words to embedding\n",
            "FastText : \n",
            "Added 31871 words to embedding\n",
            "time: 630 ms\n"
          ],
          "name": "stdout"
        }
      ]
    },
    {
      "cell_type": "markdown",
      "metadata": {
        "id": "siT9e5N41zdD",
        "colab_type": "text"
      },
      "source": [
        "Coverage as shown below is increased slightly."
      ]
    },
    {
      "cell_type": "code",
      "metadata": {
        "id": "NbOnNRhGGQEO",
        "colab_type": "code",
        "outputId": "66106787-6e19-4aa0-d890-06e77ab3859a",
        "colab": {
          "base_uri": "https://localhost:8080/",
          "height": 136
        }
      },
      "source": [
        "print(\"Glove : \")\n",
        "oov_glove = check_coverage(vocab, embed_glove)\n",
        "\n",
        "print(\"FastText : \")\n",
        "oov_fasttext = check_coverage(vocab, embed_fasttext)"
      ],
      "execution_count": 0,
      "outputs": [
        {
          "output_type": "stream",
          "text": [
            "Glove : \n",
            "Found embeddings for 31.82% of vocab\n",
            "Found embeddings for  88.17% of all text\n",
            "FastText : \n",
            "Found embeddings for 29.03% of vocab\n",
            "Found embeddings for  87.70% of all text\n",
            "time: 1.76 s\n"
          ],
          "name": "stdout"
        }
      ]
    },
    {
      "cell_type": "code",
      "metadata": {
        "id": "orrAW3KsGnU5",
        "colab_type": "code",
        "outputId": "379063cf-7a06-47ec-9580-3bcc4fb997e0",
        "colab": {
          "base_uri": "https://localhost:8080/",
          "height": 187
        }
      },
      "source": [
        "oov_glove[:10]"
      ],
      "execution_count": 0,
      "outputs": [
        {
          "output_type": "execute_result",
          "data": {
            "text/plain": [
              "[('India?', 21063),\n",
              " ('it?', 16623),\n",
              " (\"What's\", 16104),\n",
              " ('do?', 11211),\n",
              " ('life?', 9993),\n",
              " ('you?', 8083),\n",
              " ('me?', 7982),\n",
              " ('them?', 7910),\n",
              " ('time?', 7379),\n",
              " ('world?', 6941)]"
            ]
          },
          "metadata": {
            "tags": []
          },
          "execution_count": 14
        },
        {
          "output_type": "stream",
          "text": [
            "time: 4.25 ms\n"
          ],
          "name": "stdout"
        }
      ]
    },
    {
      "cell_type": "markdown",
      "metadata": {
        "id": "GZL2NID43PHj",
        "colab_type": "text"
      },
      "source": [
        "Check how many contractions are available in embeddings "
      ]
    },
    {
      "cell_type": "code",
      "metadata": {
        "id": "tv_zpIyLHCaI",
        "colab_type": "code",
        "outputId": "c809ec2f-50f3-4fc6-ece2-330d68288d1a",
        "colab": {
          "base_uri": "https://localhost:8080/",
          "height": 34
        }
      },
      "source": [
        "contraction_mapping = {\"ain't\": \"is not\", \"aren't\": \"are not\",\"can't\": \"cannot\", \"'cause\": \"because\", \"could've\": \"could have\", \"couldn't\": \"could not\", \"didn't\": \"did not\",  \"doesn't\": \"does not\", \"don't\": \"do not\", \"hadn't\": \"had not\", \"hasn't\": \"has not\", \"haven't\": \"have not\", \"he'd\": \"he would\",\"he'll\": \"he will\", \"he's\": \"he is\", \"how'd\": \"how did\", \"how'd'y\": \"how do you\", \"how'll\": \"how will\", \"how's\": \"how is\",  \"I'd\": \"I would\", \"I'd've\": \"I would have\", \"I'll\": \"I will\", \"I'll've\": \"I will have\",\"I'm\": \"I am\", \"I've\": \"I have\", \"i'd\": \"i would\", \"i'd've\": \"i would have\", \"i'll\": \"i will\",  \"i'll've\": \"i will have\",\"i'm\": \"i am\", \"i've\": \"i have\", \"isn't\": \"is not\", \"it'd\": \"it would\", \"it'd've\": \"it would have\", \"it'll\": \"it will\", \"it'll've\": \"it will have\",\"it's\": \"it is\", \"let's\": \"let us\", \"ma'am\": \"madam\", \"mayn't\": \"may not\", \"might've\": \"might have\",\"mightn't\": \"might not\",\"mightn't've\": \"might not have\", \"must've\": \"must have\", \"mustn't\": \"must not\", \"mustn't've\": \"must not have\", \"needn't\": \"need not\", \"needn't've\": \"need not have\",\"o'clock\": \"of the clock\", \"oughtn't\": \"ought not\", \"oughtn't've\": \"ought not have\", \"shan't\": \"shall not\", \"sha'n't\": \"shall not\", \"shan't've\": \"shall not have\", \"she'd\": \"she would\", \"she'd've\": \"she would have\", \"she'll\": \"she will\", \"she'll've\": \"she will have\", \"she's\": \"she is\", \"should've\": \"should have\", \"shouldn't\": \"should not\", \"shouldn't've\": \"should not have\", \"so've\": \"so have\",\"so's\": \"so as\", \"this's\": \"this is\",\"that'd\": \"that would\", \"that'd've\": \"that would have\", \"that's\": \"that is\", \"there'd\": \"there would\", \"there'd've\": \"there would have\", \"there's\": \"there is\", \"here's\": \"here is\",\"they'd\": \"they would\", \"they'd've\": \"they would have\", \"they'll\": \"they will\", \"they'll've\": \"they will have\", \"they're\": \"they are\", \"they've\": \"they have\", \"to've\": \"to have\", \"wasn't\": \"was not\", \"we'd\": \"we would\", \"we'd've\": \"we would have\", \"we'll\": \"we will\", \"we'll've\": \"we will have\", \"we're\": \"we are\", \"we've\": \"we have\", \"weren't\": \"were not\", \"what'll\": \"what will\", \"what'll've\": \"what will have\", \"what're\": \"what are\",  \"what's\": \"what is\", \"what've\": \"what have\", \"when's\": \"when is\", \"when've\": \"when have\", \"where'd\": \"where did\", \"where's\": \"where is\", \"where've\": \"where have\", \"who'll\": \"who will\", \"who'll've\": \"who will have\", \"who's\": \"who is\", \"who've\": \"who have\", \"why's\": \"why is\", \"why've\": \"why have\", \"will've\": \"will have\", \"won't\": \"will not\", \"won't've\": \"will not have\", \"would've\": \"would have\", \"wouldn't\": \"would not\", \"wouldn't've\": \"would not have\", \"y'all\": \"you all\", \"y'all'd\": \"you all would\",\"y'all'd've\": \"you all would have\",\"y'all're\": \"you all are\",\"y'all've\": \"you all have\",\"you'd\": \"you would\", \"you'd've\": \"you would have\", \"you'll\": \"you will\", \"you'll've\": \"you will have\", \"you're\": \"you are\", \"you've\": \"you have\" }"
      ],
      "execution_count": 0,
      "outputs": [
        {
          "output_type": "stream",
          "text": [
            "time: 7.27 ms\n"
          ],
          "name": "stdout"
        }
      ]
    },
    {
      "cell_type": "code",
      "metadata": {
        "id": "6kBpFVmuHQdS",
        "colab_type": "code",
        "outputId": "fab84d70-d041-41de-c701-5e7c0980e56c",
        "colab": {
          "base_uri": "https://localhost:8080/",
          "height": 34
        }
      },
      "source": [
        "def known_contractions(embed):\n",
        "    known = []\n",
        "    for contract in contraction_mapping:\n",
        "        if contract in embed:\n",
        "            known.append(contract)\n",
        "    return known"
      ],
      "execution_count": 0,
      "outputs": [
        {
          "output_type": "stream",
          "text": [
            "time: 6.43 ms\n"
          ],
          "name": "stdout"
        }
      ]
    },
    {
      "cell_type": "markdown",
      "metadata": {
        "id": "YKMGrcKL3V-E",
        "colab_type": "text"
      },
      "source": [
        "As shown below, there are a few known contractions found in Glove but none in FastText."
      ]
    },
    {
      "cell_type": "code",
      "metadata": {
        "id": "MOd3U1UVHVwO",
        "colab_type": "code",
        "outputId": "815b7ec6-fd31-4c64-8dd7-a3d0e6aa6749",
        "colab": {
          "base_uri": "https://localhost:8080/",
          "height": 139
        }
      },
      "source": [
        "print(\"- Known Contractions -\")\n",
        "print(\"   Glove :\")\n",
        "print(known_contractions(embed_glove))\n",
        "\n",
        "print(\"   FastText :\")\n",
        "print(known_contractions(embed_fasttext))"
      ],
      "execution_count": 0,
      "outputs": [
        {
          "output_type": "stream",
          "text": [
            "- Known Contractions -\n",
            "   Glove :\n",
            "[\"can't\", \"'cause\", \"didn't\", \"doesn't\", \"don't\", \"I'd\", \"I'll\", \"I'm\", \"I've\", \"i'd\", \"i'll\", \"i'm\", \"i've\", \"it's\", \"ma'am\", \"o'clock\", \"that's\", \"you'll\", \"you're\"]\n",
            "   FastText :\n",
            "[]\n",
            "time: 6.1 ms\n"
          ],
          "name": "stdout"
        }
      ]
    },
    {
      "cell_type": "markdown",
      "metadata": {
        "id": "wA8ARFfR3tFo",
        "colab_type": "text"
      },
      "source": [
        "Contractions could be formed using different apostrophe characters. Make it uniform in the data set so you can find their embedddings."
      ]
    },
    {
      "cell_type": "code",
      "metadata": {
        "id": "ispo_M-VIdIx",
        "colab_type": "code",
        "outputId": "0754f3ee-838a-4816-eb37-2c5f12745e37",
        "colab": {
          "base_uri": "https://localhost:8080/",
          "height": 34
        }
      },
      "source": [
        "def clean_contractions(text, mapping):\n",
        "    specials = [\"’\", \"‘\", \"´\", \"`\"]\n",
        "    for s in specials:\n",
        "        text = text.replace(s, \"'\")\n",
        "    text = ' '.join([mapping[t] if t in mapping else t for t in text.split(\" \")])\n",
        "    return text"
      ],
      "execution_count": 0,
      "outputs": [
        {
          "output_type": "stream",
          "text": [
            "time: 4.18 ms\n"
          ],
          "name": "stdout"
        }
      ]
    },
    {
      "cell_type": "code",
      "metadata": {
        "id": "r5wVxkbpIgC9",
        "colab_type": "code",
        "outputId": "406636e6-f832-4bdd-988f-af7d2a19287d",
        "colab": {
          "base_uri": "https://localhost:8080/",
          "height": 34
        }
      },
      "source": [
        "df['treated_question'] = df['question_text'].apply(lambda x: clean_contractions(x, contraction_mapping))"
      ],
      "execution_count": 0,
      "outputs": [
        {
          "output_type": "stream",
          "text": [
            "time: 5.91 s\n"
          ],
          "name": "stdout"
        }
      ]
    },
    {
      "cell_type": "code",
      "metadata": {
        "id": "W2zl2HuyI5Lx",
        "colab_type": "code",
        "outputId": "c9e5fe97-a21d-41d5-c21f-845bb831c341",
        "colab": {
          "base_uri": "https://localhost:8080/",
          "height": 136
        }
      },
      "source": [
        "vocab = build_vocab(df['treated_question'])\n",
        "print(\"Glove : \")\n",
        "oov_glove = check_coverage(vocab, embed_glove)\n",
        "\n",
        "print(\"FastText : \")\n",
        "oov_fasttext = check_coverage(vocab, embed_fasttext)"
      ],
      "execution_count": 0,
      "outputs": [
        {
          "output_type": "stream",
          "text": [
            "Glove : \n",
            "Found embeddings for 31.96% of vocab\n",
            "Found embeddings for  88.41% of all text\n",
            "FastText : \n",
            "Found embeddings for 29.16% of vocab\n",
            "Found embeddings for  88.27% of all text\n",
            "time: 14.7 s\n"
          ],
          "name": "stdout"
        }
      ]
    },
    {
      "cell_type": "markdown",
      "metadata": {
        "id": "Oix-D0AW38lI",
        "colab_type": "text"
      },
      "source": [
        "As shown above, coverage increased slightly after making the apostrophes uniform across the dataset."
      ]
    },
    {
      "cell_type": "markdown",
      "metadata": {
        "id": "b6kyRysM4izZ",
        "colab_type": "text"
      },
      "source": [
        "Check if there any unique punctuations not found in embeddings"
      ]
    },
    {
      "cell_type": "code",
      "metadata": {
        "id": "UbCPH9MKJZZq",
        "colab_type": "code",
        "outputId": "37e85c57-1f96-4a53-fe3e-28c62370b68c",
        "colab": {
          "base_uri": "https://localhost:8080/",
          "height": 34
        }
      },
      "source": [
        "punct = \"/-'?!.,#$%\\'()*+-/:;<=>@[\\\\]^_`{|}~\" + '\"\"“”’' + '∞θ÷α•à−β∅³π‘₹´°£€\\×™√²—–&'\n",
        "\n",
        "def unknown_punct(embed, punct):\n",
        "    unknown = ''\n",
        "    for p in punct:\n",
        "        if p not in embed:\n",
        "            unknown += p\n",
        "            unknown += ' '\n",
        "    return unknown"
      ],
      "execution_count": 0,
      "outputs": [
        {
          "output_type": "stream",
          "text": [
            "time: 3.98 ms\n"
          ],
          "name": "stdout"
        }
      ]
    },
    {
      "cell_type": "code",
      "metadata": {
        "id": "_BbdDV4GKZXE",
        "colab_type": "code",
        "outputId": "3ed3e0eb-dfde-494f-cdef-b202a27a96a4",
        "colab": {
          "base_uri": "https://localhost:8080/",
          "height": 102
        }
      },
      "source": [
        "print(\"Glove :\")\n",
        "print(unknown_punct(embed_glove, punct))\n",
        "\n",
        "print(\"FastText :\")\n",
        "print(unknown_punct(embed_fasttext, punct))"
      ],
      "execution_count": 0,
      "outputs": [
        {
          "output_type": "stream",
          "text": [
            "Glove :\n",
            "“ ” ’ ∞ θ ÷ α • à − β ∅ ³ π ‘ ₹ ´ ° £ € × ™ √ ² — – \n",
            "FastText :\n",
            "_ ` \n",
            "time: 4.22 ms\n"
          ],
          "name": "stdout"
        }
      ]
    },
    {
      "cell_type": "markdown",
      "metadata": {
        "id": "CKNxi3as5bbO",
        "colab_type": "text"
      },
      "source": [
        "Replace special characters with more generic ones or their word meanings."
      ]
    },
    {
      "cell_type": "code",
      "metadata": {
        "id": "9m-4ft2_MiWq",
        "colab_type": "code",
        "colab": {}
      },
      "source": [
        "punct_mapping = {\"‘\": \"'\", \"₹\": \"e\", \"´\": \"'\", \"°\": \"\", \"€\": \"e\", \"™\": \"tm\", \"√\": \" sqrt \", \"×\": \"x\", \"²\": \"2\", \"—\": \"-\", \"–\": \"-\", \"’\": \"'\", \"_\": \"-\", \"`\": \"'\", '“': '\"', '”': '\"', '“': '\"', \"£\": \"e\", '∞': 'infinity', 'θ': 'theta', '÷': '/', 'α': 'alpha', '•': '.', 'à': 'a', '−': '-', 'β': 'beta', '∅': '', '³': '3', 'π': 'pi', }\n",
        "\n",
        "def clean_special_chars(text, punct, mapping):\n",
        "    for p in mapping:\n",
        "        text = text.replace(p, mapping[p])\n",
        "    \n",
        "    for p in punct:\n",
        "        text = text.replace(p, f' {p} ')\n",
        "    \n",
        "    specials = {'\\u200b': ' ', '…': ' ... ', '\\ufeff': '', 'करना': '', 'है': ''}  \n",
        "    for s in specials:\n",
        "        text = text.replace(s, specials[s])\n",
        "    \n",
        "    return text"
      ],
      "execution_count": 0,
      "outputs": []
    },
    {
      "cell_type": "code",
      "metadata": {
        "id": "gzLDnp0eN-r9",
        "colab_type": "code",
        "outputId": "c1c399a7-db84-4d54-9623-fb5678b1b3ac",
        "colab": {
          "base_uri": "https://localhost:8080/",
          "height": 34
        }
      },
      "source": [
        "df['treated_question'] = df['treated_question'].apply(lambda x: clean_special_chars(x, punct, punct_mapping))"
      ],
      "execution_count": 0,
      "outputs": [
        {
          "output_type": "stream",
          "text": [
            "time: 36.7 s\n"
          ],
          "name": "stdout"
        }
      ]
    },
    {
      "cell_type": "code",
      "metadata": {
        "id": "CKixkQb2OE6O",
        "colab_type": "code",
        "outputId": "68f51f2d-26a2-40cd-da6c-f200a196987e",
        "colab": {
          "base_uri": "https://localhost:8080/",
          "height": 136
        }
      },
      "source": [
        "vocab = build_vocab(df['treated_question'])\n",
        "print(\"Glove : \")\n",
        "oov_glove = check_coverage(vocab, embed_glove)\n",
        "\n",
        "print(\"FastText : \")\n",
        "oov_fasttext = check_coverage(vocab, embed_fasttext)"
      ],
      "execution_count": 0,
      "outputs": [
        {
          "output_type": "stream",
          "text": [
            "Glove : \n",
            "Found embeddings for 73.14% of vocab\n",
            "Found embeddings for  99.59% of all text\n",
            "FastText : \n",
            "Found embeddings for 66.40% of vocab\n",
            "Found embeddings for  99.48% of all text\n",
            "time: 13.9 s\n"
          ],
          "name": "stdout"
        }
      ]
    },
    {
      "cell_type": "markdown",
      "metadata": {
        "id": "deUuDTbF5_kC",
        "colab_type": "text"
      },
      "source": [
        "As shown above, coverage increased by around 10% with the above pre processing step."
      ]
    },
    {
      "cell_type": "code",
      "metadata": {
        "id": "Zdz5YQglN1Fh",
        "colab_type": "code",
        "outputId": "85b0e605-41d9-4374-fc71-e04366f136ce",
        "colab": {
          "base_uri": "https://localhost:8080/",
          "height": 1000
        }
      },
      "source": [
        "oov_fasttext[:100]"
      ],
      "execution_count": 0,
      "outputs": [
        {
          "output_type": "execute_result",
          "data": {
            "text/plain": [
              "[('Quorans', 1061),\n",
              " ('BITSAT', 712),\n",
              " ('COMEDK', 437),\n",
              " ('KVPY', 432),\n",
              " ('Quoran', 412),\n",
              " ('WBJEE', 300),\n",
              " ('articleship', 246),\n",
              " ('VITEEE', 232),\n",
              " ('UPES', 199),\n",
              " ('marksheet', 182),\n",
              " ('Fortnite', 168),\n",
              " ('AFCAT', 160),\n",
              " ('UCEED', 152),\n",
              " ('dropshipping', 149),\n",
              " ('UPSEE', 139),\n",
              " ('Machedo', 128),\n",
              " ('BNBR', 125),\n",
              " ('AMCAT', 121),\n",
              " ('IITian', 115),\n",
              " ('IITJEE', 112),\n",
              " ('JIIT', 95),\n",
              " ('Qoura', 95),\n",
              " ('ICOs', 94),\n",
              " ('NMAT', 93),\n",
              " ('LNMIIT', 90),\n",
              " ('MAINS', 87),\n",
              " ('hairfall', 86),\n",
              " ('bhakts', 82),\n",
              " ('NICMAR', 82),\n",
              " ('INFJs', 81),\n",
              " ('Kavalireddi', 81),\n",
              " ('Zerodha', 80),\n",
              " ('Vajiram', 79),\n",
              " ('WooCommerce', 75),\n",
              " ('Doklam', 73),\n",
              " ('Unacademy', 72),\n",
              " ('AlShamsi', 72),\n",
              " ('MUOET', 70),\n",
              " ('chsl', 69),\n",
              " ('HackerRank', 66),\n",
              " ('Gixxer', 65),\n",
              " ('Awdhesh', 65),\n",
              " ('Modiji', 64),\n",
              " ('Bhakts', 62),\n",
              " ('PUBG', 61),\n",
              " ('eLitmus', 60),\n",
              " ('SIBM', 58),\n",
              " ('MNIT', 57),\n",
              " ('AIQ', 57),\n",
              " ('MeToo', 56),\n",
              " ('CHSL', 53),\n",
              " ('SRMJEE', 52),\n",
              " ('Binance', 49),\n",
              " ('Skripal', 49),\n",
              " ('BMSCE', 47),\n",
              " ('Whatare', 46),\n",
              " ('Alshamsi', 46),\n",
              " ('SGSITS', 46),\n",
              " ('youtu', 45),\n",
              " ('PDPU', 45),\n",
              " ('Howdo', 45),\n",
              " ('BIPC', 45),\n",
              " ('josaa', 43),\n",
              " ('Golang', 43),\n",
              " ('tanx', 43),\n",
              " ('JBIMS', 42),\n",
              " ('Dushka', 42),\n",
              " ('unacademy', 40),\n",
              " ('playstore', 40),\n",
              " ('SRMJEEE', 40),\n",
              " ('Koinex', 39),\n",
              " ('Zebpay', 39),\n",
              " ('MHCET', 38),\n",
              " ('metoo', 38),\n",
              " ('mastrubation', 37),\n",
              " ('ReactJS', 37),\n",
              " ('LBSNAA', 36),\n",
              " ('sin2x', 36),\n",
              " ('CodeChef', 36),\n",
              " ('JOSAA', 36),\n",
              " ('adhaar', 36),\n",
              " ('INFPs', 35),\n",
              " ('USICT', 35),\n",
              " ('Byju', 35),\n",
              " ('DAIICT', 35),\n",
              " ('Fiitjee', 35),\n",
              " ('SPJIMR', 35),\n",
              " ('tatkal', 35),\n",
              " ('demonitisation', 35),\n",
              " ('NCHMCT', 34),\n",
              " ('fortnite', 34),\n",
              " ('CDSE', 34),\n",
              " ('PESSAT', 34),\n",
              " ('Trumpcare', 34),\n",
              " ('IISERs', 34),\n",
              " ('JoSAA', 33),\n",
              " ('passouts', 33),\n",
              " ('Aliexpress', 33),\n",
              " ('SVNIT', 33),\n",
              " ('Adhaar', 33)]"
            ]
          },
          "metadata": {
            "tags": []
          },
          "execution_count": 26
        },
        {
          "output_type": "stream",
          "text": [
            "time: 6.8 ms\n"
          ],
          "name": "stdout"
        }
      ]
    },
    {
      "cell_type": "code",
      "metadata": {
        "id": "z7wjeNs7OfjG",
        "colab_type": "code",
        "outputId": "7d24c420-0cb8-47c2-92af-ec9fec6d3144",
        "colab": {
          "base_uri": "https://localhost:8080/",
          "height": 34
        }
      },
      "source": [
        "mispell_dict = {'colour': 'color', 'centre': 'center', 'favourite': 'favorite', 'travelling': 'traveling', 'counselling': 'counseling', 'theatre': 'theater', 'cancelled': 'canceled', 'labour': 'labor', 'organisation': 'organization', 'wwii': 'world war 2', 'citicise': 'criticize', 'youtu ': 'youtube ', 'Qoura': 'Quora', 'sallary': 'salary', 'Whta': 'What', 'narcisist': 'narcissist', 'howdo': 'how do', 'whatare': 'what are', 'howcan': 'how can', 'howmuch': 'how much', 'howmany': 'how many', 'whydo': 'why do', 'doI': 'do I', 'theBest': 'the best', 'howdoes': 'how does', 'mastrubation': 'masturbation', 'mastrubate': 'masturbate', \"mastrubating\": 'masturbating', 'pennis': 'penis', 'Etherium': 'Ethereum', 'narcissit': 'narcissist', 'bigdata': 'big data', '2k17': '2017', '2k18': '2018', 'qouta': 'quota', 'exboyfriend': 'ex boyfriend', 'airhostess': 'air hostess', \"whst\": 'what', 'watsapp': 'whatsapp', 'demonitisation': 'demonetization', 'demonitization': 'demonetization', 'demonetisation': 'demonetization'}\n",
        "\n",
        "def correct_spelling(x, dic):\n",
        "    for word in dic.keys():\n",
        "        x = x.replace(word, dic[word])\n",
        "    return x"
      ],
      "execution_count": 0,
      "outputs": [
        {
          "output_type": "stream",
          "text": [
            "time: 5.91 ms\n"
          ],
          "name": "stdout"
        }
      ]
    },
    {
      "cell_type": "code",
      "metadata": {
        "id": "Ra3HRrBXOk3n",
        "colab_type": "code",
        "outputId": "9c8fcc2a-f32e-425d-863b-d8c266f6d614",
        "colab": {
          "base_uri": "https://localhost:8080/",
          "height": 34
        }
      },
      "source": [
        "df['treated_question'] = df['treated_question'].apply(lambda x: correct_spelling(x, mispell_dict))"
      ],
      "execution_count": 0,
      "outputs": [
        {
          "output_type": "stream",
          "text": [
            "time: 18.6 s\n"
          ],
          "name": "stdout"
        }
      ]
    },
    {
      "cell_type": "code",
      "metadata": {
        "id": "KYrPRCt2OsID",
        "colab_type": "code",
        "outputId": "253db4ce-b571-4aa1-de9e-25d0db8f58a0",
        "colab": {
          "base_uri": "https://localhost:8080/",
          "height": 136
        }
      },
      "source": [
        "vocab = build_vocab(df['treated_question'])\n",
        "print(\"Glove : \")\n",
        "oov_glove = check_coverage(vocab, embed_glove)\n",
        "\n",
        "print(\"FastText : \")\n",
        "oov_fasttext = check_coverage(vocab, embed_fasttext)"
      ],
      "execution_count": 0,
      "outputs": [
        {
          "output_type": "stream",
          "text": [
            "Glove : \n",
            "Found embeddings for 73.14% of vocab\n",
            "Found embeddings for  99.59% of all text\n",
            "FastText : \n",
            "Found embeddings for 66.41% of vocab\n",
            "Found embeddings for  99.48% of all text\n",
            "time: 14.8 s\n"
          ],
          "name": "stdout"
        }
      ]
    },
    {
      "cell_type": "code",
      "metadata": {
        "id": "-cg_XKnFPDSG",
        "colab_type": "code",
        "outputId": "bde9520e-c709-4053-d61b-bcad3a1fe270",
        "colab": {
          "base_uri": "https://localhost:8080/",
          "height": 221
        }
      },
      "source": [
        "df.head()"
      ],
      "execution_count": 0,
      "outputs": [
        {
          "output_type": "execute_result",
          "data": {
            "text/html": [
              "<div>\n",
              "<style scoped>\n",
              "    .dataframe tbody tr th:only-of-type {\n",
              "        vertical-align: middle;\n",
              "    }\n",
              "\n",
              "    .dataframe tbody tr th {\n",
              "        vertical-align: top;\n",
              "    }\n",
              "\n",
              "    .dataframe thead th {\n",
              "        text-align: right;\n",
              "    }\n",
              "</style>\n",
              "<table border=\"1\" class=\"dataframe\">\n",
              "  <thead>\n",
              "    <tr style=\"text-align: right;\">\n",
              "      <th></th>\n",
              "      <th>qid</th>\n",
              "      <th>question_text</th>\n",
              "      <th>target</th>\n",
              "      <th>treated_question</th>\n",
              "    </tr>\n",
              "  </thead>\n",
              "  <tbody>\n",
              "    <tr>\n",
              "      <th>0</th>\n",
              "      <td>00002165364db923c7e6</td>\n",
              "      <td>How did Quebec nationalists see their province...</td>\n",
              "      <td>0.0</td>\n",
              "      <td>How did Quebec nationalists see their province...</td>\n",
              "    </tr>\n",
              "    <tr>\n",
              "      <th>1</th>\n",
              "      <td>000032939017120e6e44</td>\n",
              "      <td>Do you have an adopted dog, how would you enco...</td>\n",
              "      <td>0.0</td>\n",
              "      <td>Do you have an adopted dog ,  how would you en...</td>\n",
              "    </tr>\n",
              "    <tr>\n",
              "      <th>2</th>\n",
              "      <td>0000412ca6e4628ce2cf</td>\n",
              "      <td>Why does velocity affect time? Does velocity a...</td>\n",
              "      <td>0.0</td>\n",
              "      <td>Why does velocity affect time ?  Does velocity...</td>\n",
              "    </tr>\n",
              "    <tr>\n",
              "      <th>3</th>\n",
              "      <td>000042bf85aa498cd78e</td>\n",
              "      <td>How did Otto von Guericke used the Magdeburg h...</td>\n",
              "      <td>0.0</td>\n",
              "      <td>How did Otto von Guericke used the Magdeburg h...</td>\n",
              "    </tr>\n",
              "    <tr>\n",
              "      <th>4</th>\n",
              "      <td>0000455dfa3e01eae3af</td>\n",
              "      <td>Can I convert montra helicon D to a mountain b...</td>\n",
              "      <td>0.0</td>\n",
              "      <td>Can I convert montra helicon D to a mountain b...</td>\n",
              "    </tr>\n",
              "  </tbody>\n",
              "</table>\n",
              "</div>"
            ],
            "text/plain": [
              "                    qid  ...                                   treated_question\n",
              "0  00002165364db923c7e6  ...  How did Quebec nationalists see their province...\n",
              "1  000032939017120e6e44  ...  Do you have an adopted dog ,  how would you en...\n",
              "2  0000412ca6e4628ce2cf  ...  Why does velocity affect time ?  Does velocity...\n",
              "3  000042bf85aa498cd78e  ...  How did Otto von Guericke used the Magdeburg h...\n",
              "4  0000455dfa3e01eae3af  ...  Can I convert montra helicon D to a mountain b...\n",
              "\n",
              "[5 rows x 4 columns]"
            ]
          },
          "metadata": {
            "tags": []
          },
          "execution_count": 30
        },
        {
          "output_type": "stream",
          "text": [
            "time: 37.8 ms\n"
          ],
          "name": "stdout"
        }
      ]
    },
    {
      "cell_type": "markdown",
      "metadata": {
        "id": "PoqctreiRFMu",
        "colab_type": "text"
      },
      "source": [
        "# Above pre processing was to increase coverage of the tokens in embeddings. \n"
      ]
    },
    {
      "cell_type": "markdown",
      "metadata": {
        "id": "IRTj4t7466ID",
        "colab_type": "text"
      },
      "source": [
        "Apply the preprocessing steps defined above to the training dataset."
      ]
    },
    {
      "cell_type": "code",
      "metadata": {
        "id": "Sik4iN61RDbv",
        "colab_type": "code",
        "outputId": "749c771d-a187-40b3-96ae-7eeb0e602ecc",
        "colab": {
          "base_uri": "https://localhost:8080/",
          "height": 34
        }
      },
      "source": [
        "# Lowering\n",
        "train['treated_question'] = train['question_text'].apply(lambda x: x.lower())\n",
        "# Contractions\n",
        "train['treated_question'] = train['treated_question'].apply(lambda x: clean_contractions(x, contraction_mapping))\n",
        "# Special characters\n",
        "train['treated_question'] = train['treated_question'].apply(lambda x: clean_special_chars(x, punct, punct_mapping))\n",
        "# Spelling mistakes\n",
        "train['treated_question'] = train['treated_question'].apply(lambda x: correct_spelling(x, mispell_dict))"
      ],
      "execution_count": 0,
      "outputs": [
        {
          "output_type": "stream",
          "text": [
            "time: 48.6 s\n"
          ],
          "name": "stdout"
        }
      ]
    },
    {
      "cell_type": "code",
      "metadata": {
        "id": "Urk4guIJV_VS",
        "colab_type": "code",
        "outputId": "4c95f25d-f22d-4d12-9636-295b60569232",
        "colab": {
          "base_uri": "https://localhost:8080/",
          "height": 221
        }
      },
      "source": [
        "import gc\n",
        "gc.collect()\n",
        "train.head()"
      ],
      "execution_count": 0,
      "outputs": [
        {
          "output_type": "execute_result",
          "data": {
            "text/html": [
              "<div>\n",
              "<style scoped>\n",
              "    .dataframe tbody tr th:only-of-type {\n",
              "        vertical-align: middle;\n",
              "    }\n",
              "\n",
              "    .dataframe tbody tr th {\n",
              "        vertical-align: top;\n",
              "    }\n",
              "\n",
              "    .dataframe thead th {\n",
              "        text-align: right;\n",
              "    }\n",
              "</style>\n",
              "<table border=\"1\" class=\"dataframe\">\n",
              "  <thead>\n",
              "    <tr style=\"text-align: right;\">\n",
              "      <th></th>\n",
              "      <th>qid</th>\n",
              "      <th>question_text</th>\n",
              "      <th>target</th>\n",
              "      <th>treated_question</th>\n",
              "    </tr>\n",
              "  </thead>\n",
              "  <tbody>\n",
              "    <tr>\n",
              "      <th>0</th>\n",
              "      <td>00002165364db923c7e6</td>\n",
              "      <td>How did Quebec nationalists see their province...</td>\n",
              "      <td>0</td>\n",
              "      <td>how did quebec nationalists see their province...</td>\n",
              "    </tr>\n",
              "    <tr>\n",
              "      <th>1</th>\n",
              "      <td>000032939017120e6e44</td>\n",
              "      <td>Do you have an adopted dog, how would you enco...</td>\n",
              "      <td>0</td>\n",
              "      <td>do you have an adopted dog ,  how would you en...</td>\n",
              "    </tr>\n",
              "    <tr>\n",
              "      <th>2</th>\n",
              "      <td>0000412ca6e4628ce2cf</td>\n",
              "      <td>Why does velocity affect time? Does velocity a...</td>\n",
              "      <td>0</td>\n",
              "      <td>why does velocity affect time ?  does velocity...</td>\n",
              "    </tr>\n",
              "    <tr>\n",
              "      <th>3</th>\n",
              "      <td>000042bf85aa498cd78e</td>\n",
              "      <td>How did Otto von Guericke used the Magdeburg h...</td>\n",
              "      <td>0</td>\n",
              "      <td>how did otto von guericke used the magdeburg h...</td>\n",
              "    </tr>\n",
              "    <tr>\n",
              "      <th>4</th>\n",
              "      <td>0000455dfa3e01eae3af</td>\n",
              "      <td>Can I convert montra helicon D to a mountain b...</td>\n",
              "      <td>0</td>\n",
              "      <td>can i convert montra helicon d to a mountain b...</td>\n",
              "    </tr>\n",
              "  </tbody>\n",
              "</table>\n",
              "</div>"
            ],
            "text/plain": [
              "                    qid  ...                                   treated_question\n",
              "0  00002165364db923c7e6  ...  how did quebec nationalists see their province...\n",
              "1  000032939017120e6e44  ...  do you have an adopted dog ,  how would you en...\n",
              "2  0000412ca6e4628ce2cf  ...  why does velocity affect time ?  does velocity...\n",
              "3  000042bf85aa498cd78e  ...  how did otto von guericke used the magdeburg h...\n",
              "4  0000455dfa3e01eae3af  ...  can i convert montra helicon d to a mountain b...\n",
              "\n",
              "[5 rows x 4 columns]"
            ]
          },
          "metadata": {
            "tags": []
          },
          "execution_count": 32
        },
        {
          "output_type": "stream",
          "text": [
            "time: 176 ms\n"
          ],
          "name": "stdout"
        }
      ]
    },
    {
      "cell_type": "markdown",
      "metadata": {
        "id": "swAlxxVcYjOs",
        "colab_type": "text"
      },
      "source": [
        "Instantiate Tokenizer and fit it on preprocessed text."
      ]
    },
    {
      "cell_type": "code",
      "metadata": {
        "id": "S8ainG6-XmHw",
        "colab_type": "code",
        "outputId": "715440d2-3632-4262-9b30-a54674dd8757",
        "colab": {
          "base_uri": "https://localhost:8080/",
          "height": 51
        }
      },
      "source": [
        "tokenizer = Tokenizer(num_words = 38987)\n",
        "tokenizer.fit_on_texts(train['treated_question'])\n",
        "print('Found %d unique words.' % len(tokenizer.word_index))"
      ],
      "execution_count": 0,
      "outputs": [
        {
          "output_type": "stream",
          "text": [
            "Found 195936 unique words.\n",
            "time: 28.9 s\n"
          ],
          "name": "stdout"
        }
      ]
    },
    {
      "cell_type": "markdown",
      "metadata": {
        "id": "xotOxcVuZFCp",
        "colab_type": "text"
      },
      "source": [
        "Translate the raw as well as preprocessed data into encodings."
      ]
    },
    {
      "cell_type": "code",
      "metadata": {
        "id": "F9KolSxNY09w",
        "colab_type": "code",
        "outputId": "4a1cee52-10ad-4332-9d6c-33c3bc1b5798",
        "colab": {
          "base_uri": "https://localhost:8080/",
          "height": 34
        }
      },
      "source": [
        "len_voc = 95000\n",
        "max_len = 60\n",
        "from keras.preprocessing.text import Tokenizer\n",
        "from keras.preprocessing.sequence import pad_sequences\n",
        "\n",
        "def make_data(X):\n",
        "    t = Tokenizer(num_words=len_voc)\n",
        "    t.fit_on_texts(X)\n",
        "    X = t.texts_to_sequences(X)\n",
        "    X = pad_sequences(X, maxlen=max_len)\n",
        "    return X, t.word_index"
      ],
      "execution_count": 0,
      "outputs": [
        {
          "output_type": "stream",
          "text": [
            "time: 3.41 ms\n"
          ],
          "name": "stdout"
        }
      ]
    },
    {
      "cell_type": "code",
      "metadata": {
        "id": "hhqfMrTBZkQv",
        "colab_type": "code",
        "outputId": "29de5034-0f7e-4436-d9cd-10e123998b7d",
        "colab": {
          "base_uri": "https://localhost:8080/",
          "height": 34
        }
      },
      "source": [
        "X, word_index = make_data(train['question_text'])"
      ],
      "execution_count": 0,
      "outputs": [
        {
          "output_type": "stream",
          "text": [
            "time: 1min\n"
          ],
          "name": "stdout"
        }
      ]
    },
    {
      "cell_type": "code",
      "metadata": {
        "id": "PeONwZixaA8p",
        "colab_type": "code",
        "outputId": "878c4720-1b7a-401b-c4ea-a3df4a8b9a21",
        "colab": {
          "base_uri": "https://localhost:8080/",
          "height": 34
        }
      },
      "source": [
        "X_treated, word_index_treated = make_data(train['treated_question'])"
      ],
      "execution_count": 0,
      "outputs": [
        {
          "output_type": "stream",
          "text": [
            "time: 59.6 s\n"
          ],
          "name": "stdout"
        }
      ]
    },
    {
      "cell_type": "markdown",
      "metadata": {
        "id": "Pgt-7eAIaKhI",
        "colab_type": "text"
      },
      "source": [
        "Split raw and preprocessed data into train and validation set."
      ]
    },
    {
      "cell_type": "code",
      "metadata": {
        "id": "u-iJQ7HMaDjl",
        "colab_type": "code",
        "outputId": "a2ff4459-654a-4c85-db56-5b681b54f246",
        "colab": {
          "base_uri": "https://localhost:8080/",
          "height": 34
        }
      },
      "source": [
        "from sklearn.model_selection import train_test_split\n",
        "y = train['target'].values\n",
        "\n",
        "X_train, X_val, y_train, y_val = train_test_split(X, y, test_size=0.1, random_state=420,stratify=y)\n",
        "\n",
        "X_t_train, X_t_val, _, _ = train_test_split(X_treated, y, test_size=0.1, random_state=420,stratify=y)\n"
      ],
      "execution_count": 0,
      "outputs": [
        {
          "output_type": "stream",
          "text": [
            "time: 1.95 s\n"
          ],
          "name": "stdout"
        }
      ]
    },
    {
      "cell_type": "code",
      "metadata": {
        "id": "zEYJAFb2bMBM",
        "colab_type": "code",
        "outputId": "9c8522e6-340c-4161-ae2d-df6cd90bbe98",
        "colab": {
          "base_uri": "https://localhost:8080/",
          "height": 51
        }
      },
      "source": [
        "print(f\"Training on {X_train.shape[0]} texts\")"
      ],
      "execution_count": 0,
      "outputs": [
        {
          "output_type": "stream",
          "text": [
            "Training on 1175509 texts\n",
            "time: 1.61 ms\n"
          ],
          "name": "stdout"
        }
      ]
    },
    {
      "cell_type": "markdown",
      "metadata": {
        "id": "eD76rfcFbi-s",
        "colab_type": "text"
      },
      "source": [
        "Define a function to create embedding matrices for our vocabulary ( unique words in the dataset) in raw and preprocessed data using pre trained word embeddings."
      ]
    },
    {
      "cell_type": "code",
      "metadata": {
        "id": "8N1JaDhObNU9",
        "colab_type": "code",
        "outputId": "b988c9c1-7a70-430a-aa94-ef74fe8b521c",
        "colab": {
          "base_uri": "https://localhost:8080/",
          "height": 34
        }
      },
      "source": [
        "def make_embed_matrix(embeddings_index, word_index, len_voc):\n",
        "    all_embs = np.stack(embeddings_index.values())\n",
        "    emb_mean,emb_std = all_embs.mean(), all_embs.std()\n",
        "    embed_size = all_embs.shape[1]\n",
        "    word_index = word_index\n",
        "    embedding_matrix = np.random.normal(emb_mean, emb_std, (len_voc, embed_size))\n",
        "    \n",
        "    for word, i in word_index.items():\n",
        "        if i >= len_voc:\n",
        "            continue\n",
        "        embedding_vector = embeddings_index.get(word)\n",
        "        if embedding_vector is not None: \n",
        "            embedding_matrix[i] = embedding_vector\n",
        "    \n",
        "    return embedding_matrix"
      ],
      "execution_count": 0,
      "outputs": [
        {
          "output_type": "stream",
          "text": [
            "time: 8.06 ms\n"
          ],
          "name": "stdout"
        }
      ]
    },
    {
      "cell_type": "code",
      "metadata": {
        "id": "lrNOV1RLdYKz",
        "colab_type": "code",
        "outputId": "bedb3336-7d16-4d04-f847-a689621ecbf6",
        "colab": {
          "base_uri": "https://localhost:8080/",
          "height": 34
        }
      },
      "source": [
        "embedding = make_embed_matrix(embed_glove, word_index, len_voc)\n",
        "\n",
        "del word_index\n",
        "gc.collect()\n",
        "\n",
        "embedding_treated = make_embed_matrix(embed_glove, word_index_treated, len_voc)\n",
        "del word_index_treated\n",
        "gc.collect()\n",
        "\n",
        "  "
      ],
      "execution_count": 0,
      "outputs": [
        {
          "output_type": "execute_result",
          "data": {
            "text/plain": [
              "0"
            ]
          },
          "metadata": {
            "tags": []
          },
          "execution_count": 41
        },
        {
          "output_type": "stream",
          "text": [
            "time: 20.5 s\n"
          ],
          "name": "stdout"
        }
      ]
    },
    {
      "cell_type": "markdown",
      "metadata": {
        "id": "QR9ICV8Xn08a",
        "colab_type": "text"
      },
      "source": [
        "Define a Keras backend function for calculating F1\n"
      ]
    },
    {
      "cell_type": "code",
      "metadata": {
        "id": "BUHaEjkyagHM",
        "colab_type": "code",
        "outputId": "d23a71c2-2ed8-4f07-cbbc-12c426a833b0",
        "colab": {
          "base_uri": "https://localhost:8080/",
          "height": 34
        }
      },
      "source": [
        "from keras import backend as K\n",
        "\n",
        "def f1(y_true, y_pred):\n",
        "    def recall(y_true, y_pred):\n",
        "        true_positives = K.sum(K.round(K.clip(y_true * y_pred, 0, 1)))\n",
        "        possible_positives = K.sum(K.round(K.clip(y_true, 0, 1)))\n",
        "        recall = true_positives / (possible_positives + K.epsilon())\n",
        "        return recall\n",
        "\n",
        "    def precision(y_true, y_pred):\n",
        "        true_positives = K.sum(K.round(K.clip(y_true * y_pred, 0, 1)))\n",
        "        predicted_positives = K.sum(K.round(K.clip(y_pred, 0, 1)))\n",
        "        precision = true_positives / (predicted_positives + K.epsilon())\n",
        "        return precision\n",
        "    \n",
        "    precision = precision(y_true, y_pred)\n",
        "    recall = recall(y_true, y_pred)\n",
        "    return 2*((precision*recall)/(precision+recall+K.epsilon()))"
      ],
      "execution_count": 0,
      "outputs": [
        {
          "output_type": "stream",
          "text": [
            "time: 8.51 ms\n"
          ],
          "name": "stdout"
        }
      ]
    },
    {
      "cell_type": "code",
      "metadata": {
        "id": "0AsoN6pUbUJw",
        "colab_type": "code",
        "outputId": "4c833721-fd43-4851-e92a-4e558d1e212c",
        "colab": {
          "base_uri": "https://localhost:8080/",
          "height": 34
        }
      },
      "source": [
        "from keras.models import Model\n",
        "from keras.layers import Dense, Embedding, Bidirectional, CuDNNGRU, GlobalAveragePooling1D, GlobalMaxPooling1D, concatenate, Input, Dropout\n",
        "from keras.optimizers import Adam"
      ],
      "execution_count": 0,
      "outputs": [
        {
          "output_type": "stream",
          "text": [
            "time: 5.47 ms\n"
          ],
          "name": "stdout"
        }
      ]
    },
    {
      "cell_type": "code",
      "metadata": {
        "id": "0H7o-vkZhM8m",
        "colab_type": "code",
        "outputId": "e4bfd873-f64c-4e44-8cf8-14fcfa8df085",
        "colab": {
          "base_uri": "https://localhost:8080/",
          "height": 34
        }
      },
      "source": [
        "from keras.layers import LSTM\n",
        "\n",
        "def make_model(embedding_matrix, embed_size=300, loss='binary_crossentropy'):\n",
        "    inp    = Input(shape=(max_len,))\n",
        "    x      = Embedding(len_voc, embed_size, weights=[embedding_matrix], trainable=False)(inp)\n",
        "    x      = LSTM(128, dropout=0.2, recurrent_dropout=0.2)(x)    \n",
        "      \n",
        "    dense  = Dense(64, activation=\"relu\")(x)\n",
        "    drop   = Dropout(0.1)(x)\n",
        "    output = Dense(1, activation=\"sigmoid\")(x)\n",
        "    \n",
        "    model  = Model(inputs=inp, outputs=output)\n",
        "    model.compile(loss=loss, optimizer=Adam(lr=0.0001), metrics=['accuracy', f1])\n",
        "    return model"
      ],
      "execution_count": 0,
      "outputs": [
        {
          "output_type": "stream",
          "text": [
            "time: 8.06 ms\n"
          ],
          "name": "stdout"
        }
      ]
    },
    {
      "cell_type": "code",
      "metadata": {
        "id": "G0Au_kvAbc7e",
        "colab_type": "code",
        "outputId": "6bb0c9a3-978f-4d12-ae2a-80596b6aa007",
        "colab": {
          "base_uri": "https://localhost:8080/",
          "height": 836
        }
      },
      "source": [
        "model = make_model(embedding)\n",
        "model.summary()"
      ],
      "execution_count": 0,
      "outputs": [
        {
          "output_type": "stream",
          "text": [
            "WARNING:tensorflow:From /usr/local/lib/python3.6/dist-packages/keras/backend/tensorflow_backend.py:66: The name tf.get_default_graph is deprecated. Please use tf.compat.v1.get_default_graph instead.\n",
            "\n",
            "WARNING:tensorflow:From /usr/local/lib/python3.6/dist-packages/keras/backend/tensorflow_backend.py:541: The name tf.placeholder is deprecated. Please use tf.compat.v1.placeholder instead.\n",
            "\n",
            "WARNING:tensorflow:From /usr/local/lib/python3.6/dist-packages/keras/backend/tensorflow_backend.py:4432: The name tf.random_uniform is deprecated. Please use tf.random.uniform instead.\n",
            "\n",
            "WARNING:tensorflow:From /usr/local/lib/python3.6/dist-packages/keras/backend/tensorflow_backend.py:190: The name tf.get_default_session is deprecated. Please use tf.compat.v1.get_default_session instead.\n",
            "\n",
            "WARNING:tensorflow:From /usr/local/lib/python3.6/dist-packages/keras/backend/tensorflow_backend.py:197: The name tf.ConfigProto is deprecated. Please use tf.compat.v1.ConfigProto instead.\n",
            "\n",
            "WARNING:tensorflow:From /usr/local/lib/python3.6/dist-packages/keras/backend/tensorflow_backend.py:203: The name tf.Session is deprecated. Please use tf.compat.v1.Session instead.\n",
            "\n",
            "WARNING:tensorflow:From /usr/local/lib/python3.6/dist-packages/keras/backend/tensorflow_backend.py:207: The name tf.global_variables is deprecated. Please use tf.compat.v1.global_variables instead.\n",
            "\n",
            "WARNING:tensorflow:From /usr/local/lib/python3.6/dist-packages/keras/backend/tensorflow_backend.py:216: The name tf.is_variable_initialized is deprecated. Please use tf.compat.v1.is_variable_initialized instead.\n",
            "\n",
            "WARNING:tensorflow:From /usr/local/lib/python3.6/dist-packages/keras/backend/tensorflow_backend.py:223: The name tf.variables_initializer is deprecated. Please use tf.compat.v1.variables_initializer instead.\n",
            "\n",
            "WARNING:tensorflow:From /usr/local/lib/python3.6/dist-packages/keras/backend/tensorflow_backend.py:148: The name tf.placeholder_with_default is deprecated. Please use tf.compat.v1.placeholder_with_default instead.\n",
            "\n",
            "WARNING:tensorflow:From /usr/local/lib/python3.6/dist-packages/keras/backend/tensorflow_backend.py:3733: calling dropout (from tensorflow.python.ops.nn_ops) with keep_prob is deprecated and will be removed in a future version.\n",
            "Instructions for updating:\n",
            "Please use `rate` instead of `keep_prob`. Rate should be set to `rate = 1 - keep_prob`.\n",
            "WARNING:tensorflow:From /usr/local/lib/python3.6/dist-packages/keras/optimizers.py:793: The name tf.train.Optimizer is deprecated. Please use tf.compat.v1.train.Optimizer instead.\n",
            "\n",
            "WARNING:tensorflow:From /usr/local/lib/python3.6/dist-packages/keras/backend/tensorflow_backend.py:3657: The name tf.log is deprecated. Please use tf.math.log instead.\n",
            "\n",
            "WARNING:tensorflow:From /usr/local/lib/python3.6/dist-packages/tensorflow_core/python/ops/nn_impl.py:183: where (from tensorflow.python.ops.array_ops) is deprecated and will be removed in a future version.\n",
            "Instructions for updating:\n",
            "Use tf.where in 2.0, which has the same broadcast rule as np.where\n",
            "Model: \"model_1\"\n",
            "_________________________________________________________________\n",
            "Layer (type)                 Output Shape              Param #   \n",
            "=================================================================\n",
            "input_1 (InputLayer)         (None, 60)                0         \n",
            "_________________________________________________________________\n",
            "embedding_1 (Embedding)      (None, 60, 300)           28500000  \n",
            "_________________________________________________________________\n",
            "lstm_1 (LSTM)                (None, 128)               219648    \n",
            "_________________________________________________________________\n",
            "dense_2 (Dense)              (None, 1)                 129       \n",
            "=================================================================\n",
            "Total params: 28,719,777\n",
            "Trainable params: 219,777\n",
            "Non-trainable params: 28,500,000\n",
            "_________________________________________________________________\n",
            "time: 5.52 s\n"
          ],
          "name": "stdout"
        }
      ]
    },
    {
      "cell_type": "code",
      "metadata": {
        "id": "fL_U98-gbfzu",
        "colab_type": "code",
        "outputId": "32df1941-4bac-447f-baf0-ee3ba5e09f9e",
        "colab": {
          "base_uri": "https://localhost:8080/",
          "height": 34
        }
      },
      "source": [
        "model_treated = make_model(embedding_treated)"
      ],
      "execution_count": 0,
      "outputs": [
        {
          "output_type": "stream",
          "text": [
            "time: 720 ms\n"
          ],
          "name": "stdout"
        }
      ]
    },
    {
      "cell_type": "code",
      "metadata": {
        "id": "M2EN2aGbbozU",
        "colab_type": "code",
        "outputId": "97e2a414-6fb2-42b5-ebe4-07ce0c2ee356",
        "colab": {
          "base_uri": "https://localhost:8080/",
          "height": 34
        }
      },
      "source": [
        "from keras.callbacks import ModelCheckpoint, ReduceLROnPlateau\n",
        "\n",
        "checkpoints = ModelCheckpoint('weights.hdf5', monitor=\"val_f1\", mode=\"max\", verbose=True, save_best_only=True)\n",
        "reduce_lr = ReduceLROnPlateau(monitor='val_f1', factor=0.1, patience=2, verbose=1, min_lr=0.000001)\n",
        "\n",
        "checkpoints_treated = ModelCheckpoint('treated_weights.hdf5', monitor=\"val_f1\", mode=\"max\", verbose=True, save_best_only=True)\n",
        "reduce_lr_treated = ReduceLROnPlateau(monitor='val_f1', factor=0.1, patience=2, verbose=1, min_lr=0.000001)"
      ],
      "execution_count": 0,
      "outputs": [
        {
          "output_type": "stream",
          "text": [
            "time: 5.36 ms\n"
          ],
          "name": "stdout"
        }
      ]
    },
    {
      "cell_type": "markdown",
      "metadata": {
        "id": "8LsYVTTUqmeF",
        "colab_type": "text"
      },
      "source": [
        "Fit the model on raw data"
      ]
    },
    {
      "cell_type": "code",
      "metadata": {
        "id": "ZbDSFaYqhb-V",
        "colab_type": "code",
        "outputId": "5fcb27af-c4c0-417b-a4c1-055b35c7a3fb",
        "colab": {
          "base_uri": "https://localhost:8080/",
          "height": 1000
        }
      },
      "source": [
        "epochs = 8\n",
        "batch_size = 512\n",
        "\n",
        "history = model.fit(X_train, y_train, batch_size=batch_size, epochs=epochs, \n",
        "                    validation_data=[X_val, y_val], callbacks=[checkpoints, reduce_lr])\n",
        "\n",
        "plt.figure(figsize=(12,8))\n",
        "plt.plot(history.history['acc'], label='Train Accuracy')\n",
        "plt.plot(history.history['val_acc'], label='Test Accuracy')\n",
        "plt.show()\n",
        "\n"
      ],
      "execution_count": 0,
      "outputs": [
        {
          "output_type": "stream",
          "text": [
            "WARNING:tensorflow:From /usr/local/lib/python3.6/dist-packages/keras/backend/tensorflow_backend.py:1033: The name tf.assign_add is deprecated. Please use tf.compat.v1.assign_add instead.\n",
            "\n",
            "WARNING:tensorflow:From /usr/local/lib/python3.6/dist-packages/keras/backend/tensorflow_backend.py:1020: The name tf.assign is deprecated. Please use tf.compat.v1.assign instead.\n",
            "\n",
            "Train on 1175509 samples, validate on 130613 samples\n",
            "Epoch 1/8\n",
            "1175509/1175509 [==============================] - 331s 281us/step - loss: 0.1439 - acc: 0.9466 - f1: 0.4168 - val_loss: 0.1217 - val_acc: 0.9514 - val_f1: 0.5303\n",
            "\n",
            "Epoch 00001: val_f1 improved from -inf to 0.53025, saving model to weights.hdf5\n",
            "Epoch 2/8\n",
            "1175509/1175509 [==============================] - 330s 281us/step - loss: 0.1242 - acc: 0.9513 - f1: 0.5204 - val_loss: 0.1178 - val_acc: 0.9533 - val_f1: 0.5378\n",
            "\n",
            "Epoch 00002: val_f1 improved from 0.53025 to 0.53781, saving model to weights.hdf5\n",
            "Epoch 3/8\n",
            "1175509/1175509 [==============================] - 332s 282us/step - loss: 0.1196 - acc: 0.9529 - f1: 0.5424 - val_loss: 0.1141 - val_acc: 0.9548 - val_f1: 0.5625\n",
            "\n",
            "Epoch 00003: val_f1 improved from 0.53781 to 0.56251, saving model to weights.hdf5\n",
            "\n",
            "Epoch 00003: ReduceLROnPlateau reducing learning rate to 9.999999747378752e-06.\n",
            "Epoch 4/8\n",
            "1175509/1175509 [==============================] - 333s 283us/step - loss: 0.1168 - acc: 0.9538 - f1: 0.5563 - val_loss: 0.1135 - val_acc: 0.9549 - val_f1: 0.5741\n",
            "\n",
            "Epoch 00004: val_f1 improved from 0.56251 to 0.57405, saving model to weights.hdf5\n",
            "Epoch 5/8\n",
            "1175509/1175509 [==============================] - 332s 283us/step - loss: 0.1164 - acc: 0.9540 - f1: 0.5578 - val_loss: 0.1132 - val_acc: 0.9551 - val_f1: 0.5699\n",
            "\n",
            "Epoch 00005: val_f1 did not improve from 0.57405\n",
            "\n",
            "Epoch 00005: ReduceLROnPlateau reducing learning rate to 1e-06.\n",
            "Epoch 6/8\n",
            "1175509/1175509 [==============================] - 333s 283us/step - loss: 0.1162 - acc: 0.9541 - f1: 0.5584 - val_loss: 0.1131 - val_acc: 0.9550 - val_f1: 0.5722\n",
            "\n",
            "Epoch 00006: val_f1 did not improve from 0.57405\n",
            "Epoch 7/8\n",
            "1175509/1175509 [==============================] - 334s 284us/step - loss: 0.1160 - acc: 0.9541 - f1: 0.5592 - val_loss: 0.1130 - val_acc: 0.9551 - val_f1: 0.5755\n",
            "\n",
            "Epoch 00007: val_f1 improved from 0.57405 to 0.57549, saving model to weights.hdf5\n",
            "Epoch 8/8\n",
            "1175509/1175509 [==============================] - 331s 282us/step - loss: 0.1163 - acc: 0.9542 - f1: 0.5601 - val_loss: 0.1130 - val_acc: 0.9550 - val_f1: 0.5739\n",
            "\n",
            "Epoch 00008: val_f1 did not improve from 0.57549\n"
          ],
          "name": "stdout"
        },
        {
          "output_type": "display_data",
          "data": {
            "image/png": "[encoded data removed]",
            "text/plain": [
              "<Figure size 864x576 with 1 Axes>"
            ]
          },
          "metadata": {
            "tags": []
          }
        },
        {
          "output_type": "stream",
          "text": [
            "time: 44min 22s\n"
          ],
          "name": "stdout"
        }
      ]
    },
    {
      "cell_type": "markdown",
      "metadata": {
        "id": "wImh4cKhqr7k",
        "colab_type": "text"
      },
      "source": [
        "Fit the model on processed data"
      ]
    },
    {
      "cell_type": "code",
      "metadata": {
        "id": "-EZyUOZ_hmJy",
        "colab_type": "code",
        "outputId": "2ef5f2de-a88f-4f25-be9f-6708f6305703",
        "colab": {
          "base_uri": "https://localhost:8080/",
          "height": 1000
        }
      },
      "source": [
        "history = model_treated.fit(X_t_train, y_train, batch_size=batch_size, epochs=epochs, \n",
        "                            validation_data=[X_t_val, y_val], callbacks=[checkpoints_treated, reduce_lr_treated])\n",
        "                                                                         \n",
        "plt.figure(figsize=(12,8))\n",
        "plt.plot(history.history['acc'], label='Train Accuracy')\n",
        "plt.plot(history.history['val_acc'], label='Test Accuracy')\n",
        "plt.show()\n",
        "                                                                         \n",
        "                                                                         "
      ],
      "execution_count": 0,
      "outputs": [
        {
          "output_type": "stream",
          "text": [
            "Train on 1175509 samples, validate on 130613 samples\n",
            "Epoch 1/8\n",
            "1175509/1175509 [==============================] - 334s 284us/step - loss: 0.1458 - acc: 0.9456 - f1: 0.4104 - val_loss: 0.1226 - val_acc: 0.9515 - val_f1: 0.5017\n",
            "\n",
            "Epoch 00001: val_f1 improved from -inf to 0.50170, saving model to treated_weights.hdf5\n",
            "Epoch 2/8\n",
            "1175509/1175509 [==============================] - 333s 284us/step - loss: 0.1238 - acc: 0.9514 - f1: 0.5219 - val_loss: 0.1168 - val_acc: 0.9531 - val_f1: 0.5553\n",
            "\n",
            "Epoch 00002: val_f1 improved from 0.50170 to 0.55527, saving model to treated_weights.hdf5\n",
            "Epoch 3/8\n",
            "1175509/1175509 [==============================] - 334s 284us/step - loss: 0.1191 - acc: 0.9530 - f1: 0.5439 - val_loss: 0.1137 - val_acc: 0.9545 - val_f1: 0.5712\n",
            "\n",
            "Epoch 00003: val_f1 improved from 0.55527 to 0.57120, saving model to treated_weights.hdf5\n",
            "\n",
            "Epoch 00003: ReduceLROnPlateau reducing learning rate to 9.999999747378752e-06.\n",
            "Epoch 4/8\n",
            "1175509/1175509 [==============================] - 333s 284us/step - loss: 0.1165 - acc: 0.9538 - f1: 0.5551 - val_loss: 0.1133 - val_acc: 0.9548 - val_f1: 0.5737\n",
            "\n",
            "Epoch 00004: val_f1 improved from 0.57120 to 0.57371, saving model to treated_weights.hdf5\n",
            "Epoch 5/8\n",
            "1175509/1175509 [==============================] - 332s 283us/step - loss: 0.1161 - acc: 0.9540 - f1: 0.5580 - val_loss: 0.1130 - val_acc: 0.9550 - val_f1: 0.5831\n",
            "\n",
            "Epoch 00005: val_f1 improved from 0.57371 to 0.58311, saving model to treated_weights.hdf5\n",
            "\n",
            "Epoch 00005: ReduceLROnPlateau reducing learning rate to 1e-06.\n",
            "Epoch 6/8\n",
            "1175509/1175509 [==============================] - 331s 282us/step - loss: 0.1159 - acc: 0.9539 - f1: 0.5594 - val_loss: 0.1130 - val_acc: 0.9550 - val_f1: 0.5780\n",
            "\n",
            "Epoch 00006: val_f1 did not improve from 0.58311\n",
            "Epoch 7/8\n",
            "1175509/1175509 [==============================] - 331s 281us/step - loss: 0.1158 - acc: 0.9541 - f1: 0.5605 - val_loss: 0.1129 - val_acc: 0.9549 - val_f1: 0.5757\n",
            "\n",
            "Epoch 00007: val_f1 did not improve from 0.58311\n",
            "Epoch 8/8\n",
            "1175509/1175509 [==============================] - 332s 283us/step - loss: 0.1157 - acc: 0.9541 - f1: 0.5596 - val_loss: 0.1129 - val_acc: 0.9549 - val_f1: 0.5761\n",
            "\n",
            "Epoch 00008: val_f1 did not improve from 0.58311\n"
          ],
          "name": "stdout"
        },
        {
          "output_type": "display_data",
          "data": {
            "image/png": "[encoded data removed]",
            "text/plain": [
              "<Figure size 864x576 with 1 Axes>"
            ]
          },
          "metadata": {
            "tags": []
          }
        },
        {
          "output_type": "stream",
          "text": [
            "time: 44min 28s\n"
          ],
          "name": "stdout"
        }
      ]
    },
    {
      "cell_type": "markdown",
      "metadata": {
        "id": "CDzwlFFcqz96",
        "colab_type": "text"
      },
      "source": [
        "Load the best models created using raw and processed data and perform predictions using both of them."
      ]
    },
    {
      "cell_type": "code",
      "metadata": {
        "id": "rZ-rmENJho7E",
        "colab_type": "code",
        "outputId": "9cbd67b7-45bc-4060-c0c9-eb26c7d30f2f",
        "colab": {
          "base_uri": "https://localhost:8080/",
          "height": 68
        }
      },
      "source": [
        "model.load_weights('weights.hdf5')\n",
        "model_treated.load_weights('treated_weights.hdf5')\n",
        "\n",
        "pred_val = model.predict(X_val, batch_size=512, verbose=1)\n",
        "pred_t_val = model_treated.predict(X_t_val, batch_size=512, verbose=1)"
      ],
      "execution_count": 0,
      "outputs": [
        {
          "output_type": "stream",
          "text": [
            "130613/130613 [==============================] - 15s 118us/step\n",
            "130613/130613 [==============================] - 15s 116us/step\n",
            "time: 32.1 s\n"
          ],
          "name": "stdout"
        }
      ]
    },
    {
      "cell_type": "markdown",
      "metadata": {
        "id": "yH3hYl6ZrHfD",
        "colab_type": "text"
      },
      "source": [
        "Define a function to find the threshold with best F1 score."
      ]
    },
    {
      "cell_type": "code",
      "metadata": {
        "id": "LEqmW_4mrLsx",
        "colab_type": "code",
        "outputId": "17f1cd89-13c7-4466-fe38-31bdda65974f",
        "colab": {
          "base_uri": "https://localhost:8080/",
          "height": 34
        }
      },
      "source": [
        "from sklearn.metrics import f1_score\n",
        "\n",
        "def tweak_threshold(pred, truth):\n",
        "    thresholds = []\n",
        "    scores = []\n",
        "    for thresh in np.arange(0.1, 0.501, 0.01):\n",
        "        thresh = np.round(thresh, 2)\n",
        "        thresholds.append(thresh)\n",
        "        score = f1_score(truth, (pred>thresh).astype(int))\n",
        "        scores.append(score)\n",
        "    return np.max(scores), thresholds[np.argmax(scores)]"
      ],
      "execution_count": 0,
      "outputs": [
        {
          "output_type": "stream",
          "text": [
            "time: 7.2 ms\n"
          ],
          "name": "stdout"
        }
      ]
    },
    {
      "cell_type": "code",
      "metadata": {
        "id": "UQcH1Ybds0hJ",
        "colab_type": "code",
        "outputId": "c5d0ce80-6ca6-4320-8cb9-d8bcc423955b",
        "colab": {
          "base_uri": "https://localhost:8080/",
          "height": 68
        }
      },
      "source": [
        "score_val, threshold_val = tweak_threshold(pred_val, y_val)\n",
        "\n",
        "print(f\"Scored {round(score_val, 4)} for threshold {threshold_val} with untreated texts on validation data\")\n",
        "\n",
        "\n",
        "score_t_val, threshold_t_val = tweak_threshold(pred_t_val, y_val)\n",
        "\n",
        "print(f\"Scored {round(score_t_val, 4)} for threshold {threshold_t_val} with treated texts on validation data\")"
      ],
      "execution_count": 0,
      "outputs": [
        {
          "output_type": "stream",
          "text": [
            "Scored 0.6282 for threshold 0.31 with untreated texts on validation data\n",
            "Scored 0.6276 for threshold 0.3 with treated texts on validation data\n",
            "time: 2.94 s\n"
          ],
          "name": "stdout"
        }
      ]
    },
    {
      "cell_type": "markdown",
      "metadata": {
        "id": "r395M0nDrQtQ",
        "colab_type": "text"
      },
      "source": [
        "Get the metrics of prediction using raw data."
      ]
    },
    {
      "cell_type": "code",
      "metadata": {
        "id": "dpiZPihItfni",
        "colab_type": "code",
        "outputId": "071d2148-a924-44c5-b8b7-197d8ddcf1b6",
        "colab": {
          "base_uri": "https://localhost:8080/",
          "height": 866
        }
      },
      "source": [
        "classifier_reports(y_val, (pred_val>0.30).astype(int))"
      ],
      "execution_count": 0,
      "outputs": [
        {
          "output_type": "stream",
          "text": [
            "\n",
            "              precision    recall  f1-score   support\n",
            "\n",
            "      class0       0.98      0.97      0.97    122532\n",
            "      class1       0.58      0.69      0.63      8081\n",
            "\n",
            "    accuracy                           0.95    130613\n",
            "   macro avg       0.78      0.83      0.80    130613\n",
            "weighted avg       0.95      0.95      0.95    130613\n",
            "\n",
            "Confusion matrix, without normalization\n",
            "[[118467   4065]\n",
            " [  2521   5560]]\n",
            "Normalized confusion matrix\n",
            "[[0.96682499 0.03317501]\n",
            " [0.31196634 0.68803366]]\n"
          ],
          "name": "stdout"
        },
        {
          "output_type": "display_data",
          "data": {
            "image/png": "[encoded data removed]",
            "text/plain": [
              "<Figure size 432x288 with 2 Axes>"
            ]
          },
          "metadata": {
            "tags": []
          }
        },
        {
          "output_type": "display_data",
          "data": {
            "image/png": "[encoded data removed]",
            "text/plain": [
              "<Figure size 432x288 with 2 Axes>"
            ]
          },
          "metadata": {
            "tags": []
          }
        },
        {
          "output_type": "stream",
          "text": [
            "time: 893 ms\n"
          ],
          "name": "stdout"
        }
      ]
    },
    {
      "cell_type": "markdown",
      "metadata": {
        "id": "mDFB57jGrYmK",
        "colab_type": "text"
      },
      "source": [
        "Get the metrics for prediction using processed data."
      ]
    },
    {
      "cell_type": "code",
      "metadata": {
        "id": "Qg8DXQ-7tjFw",
        "colab_type": "code",
        "outputId": "33ba0156-5a85-4f6f-ab2e-66b7b2cdc437",
        "colab": {
          "base_uri": "https://localhost:8080/",
          "height": 866
        }
      },
      "source": [
        "classifier_reports(y_val, (pred_t_val>0.30).astype(int))"
      ],
      "execution_count": 0,
      "outputs": [
        {
          "output_type": "stream",
          "text": [
            "\n",
            "              precision    recall  f1-score   support\n",
            "\n",
            "      class0       0.98      0.96      0.97    122532\n",
            "      class1       0.57      0.70      0.63      8081\n",
            "\n",
            "    accuracy                           0.95    130613\n",
            "   macro avg       0.77      0.83      0.80    130613\n",
            "weighted avg       0.95      0.95      0.95    130613\n",
            "\n",
            "Confusion matrix, without normalization\n",
            "[[118210   4322]\n",
            " [  2409   5672]]\n",
            "Normalized confusion matrix\n",
            "[[0.96472758 0.03527242]\n",
            " [0.29810667 0.70189333]]\n"
          ],
          "name": "stdout"
        },
        {
          "output_type": "display_data",
          "data": {
            "image/png": "[encoded data removed]",
            "text/plain": [
              "<Figure size 432x288 with 2 Axes>"
            ]
          },
          "metadata": {
            "tags": []
          }
        },
        {
          "output_type": "display_data",
          "data": {
            "image/png": "[encoded data removed]",
            "text/plain": [
              "<Figure size 432x288 with 2 Axes>"
            ]
          },
          "metadata": {
            "tags": []
          }
        },
        {
          "output_type": "stream",
          "text": [
            "time: 1.18 s\n"
          ],
          "name": "stdout"
        }
      ]
    },
    {
      "cell_type": "markdown",
      "metadata": {
        "id": "2adxQ-uDoV-_",
        "colab_type": "text"
      },
      "source": [
        "As seen above, there is a very minor improvement in recall of minority class by preprocessing the data."
      ]
    },
    {
      "cell_type": "markdown",
      "metadata": {
        "id": "ipqSmDLArnoq",
        "colab_type": "text"
      },
      "source": [
        "Also, as seen in the preceding and following cells, comparing the thresholds of 0.3 and 0.5, it is evident that a threshold of 0.3 gives us the best possible metrics wrt classifying insincere questions. \n"
      ]
    },
    {
      "cell_type": "code",
      "metadata": {
        "id": "VlKhrbEL5Hdh",
        "colab_type": "code",
        "outputId": "1edece95-4094-492f-dc99-d33b5e60f731",
        "colab": {
          "base_uri": "https://localhost:8080/",
          "height": 866
        }
      },
      "source": [
        "classifier_reports(y_val, (pred_t_val>0.50).astype(int))"
      ],
      "execution_count": 0,
      "outputs": [
        {
          "output_type": "stream",
          "text": [
            "\n",
            "              precision    recall  f1-score   support\n",
            "\n",
            "      class0       0.97      0.98      0.98    122532\n",
            "      class1       0.68      0.52      0.59      8081\n",
            "\n",
            "    accuracy                           0.95    130613\n",
            "   macro avg       0.82      0.75      0.78    130613\n",
            "weighted avg       0.95      0.95      0.95    130613\n",
            "\n",
            "Confusion matrix, without normalization\n",
            "[[120543   1989]\n",
            " [  3894   4187]]\n",
            "Normalized confusion matrix\n",
            "[[0.98376751 0.01623249]\n",
            " [0.48187106 0.51812894]]\n"
          ],
          "name": "stdout"
        },
        {
          "output_type": "display_data",
          "data": {
            "image/png": "[encoded data removed]",
            "text/plain": [
              "<Figure size 432x288 with 2 Axes>"
            ]
          },
          "metadata": {
            "tags": []
          }
        },
        {
          "output_type": "display_data",
          "data": {
            "image/png": "[encoded data removed]",
            "text/plain": [
              "<Figure size 432x288 with 2 Axes>"
            ]
          },
          "metadata": {
            "tags": []
          }
        },
        {
          "output_type": "stream",
          "text": [
            "time: 964 ms\n"
          ],
          "name": "stdout"
        }
      ]
    }
  ]
}