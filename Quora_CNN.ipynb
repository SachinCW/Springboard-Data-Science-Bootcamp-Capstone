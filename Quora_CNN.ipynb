{
  "nbformat": 4,
  "nbformat_minor": 0,
  "metadata": {
    "colab": {
      "name": "Quora CNN.ipynb",
      "provenance": [],
      "collapsed_sections": [],
      "machine_shape": "hm",
      "include_colab_link": true
    },
    "kernelspec": {
      "name": "python3",
      "display_name": "Python 3"
    },
    "accelerator": "GPU"
  },
  "cells": [
    {
      "cell_type": "markdown",
      "metadata": {
        "id": "view-in-github",
        "colab_type": "text"
      },
      "source": [
        "<a href=\"https://colab.research.google.com/github/sachin-cw/Springboard-Capstone/blob/master/Quora_CNN.ipynb\" target=\"_parent\"><img src=\"https://colab.research.google.com/assets/colab-badge.svg\" alt=\"Open In Colab\"/></a>"
      ]
    },
    {
      "cell_type": "markdown",
      "metadata": {
        "id": "Rb7jvfDjjM1e",
        "colab_type": "text"
      },
      "source": [
        "# Experiment using Convolutional Neural Network on Quora Sincere-Insincere Questions Classification."
      ]
    },
    {
      "cell_type": "markdown",
      "metadata": {
        "id": "rlO2EKu_jd0X",
        "colab_type": "text"
      },
      "source": [
        "Load all the dependencies, create a dictionary for expanding Contractions and have all the functions created.\n"
      ]
    },
    {
      "cell_type": "code",
      "metadata": {
        "id": "IAFenG63z9vC",
        "colab_type": "code",
        "outputId": "1345cf7a-3336-4eed-fd28-bf5db43f8627",
        "colab": {
          "base_uri": "https://localhost:8080/",
          "height": 153
        }
      },
      "source": [
        "!pip install ipython-autotime\n",
        "%load_ext autotime\n",
        "# above lines get us the cell execution time.\n",
        "\n",
        "%tensorflow_version 1.x \n",
        "\n",
        "def warn(*args, **kwargs):\n",
        "    pass\n",
        "import warnings\n",
        "warnings.warn = warn\n",
        "#above lines help me avoid warnings thrown by sklearn\n",
        "\n",
        "\n",
        "import re\n",
        "import os\n",
        "\n",
        "import unicodedata\n",
        "\n",
        "import nltk\n",
        "nltk.download('punkt')\n",
        "from nltk.stem import PorterStemmer\n",
        "from nltk.corpus import stopwords\n",
        "\n",
        "\n",
        "import matplotlib.pyplot as plt\n",
        "from mpl_toolkits.mplot3d import Axes3D\n",
        "import seaborn as sns\n",
        "%matplotlib inline\n",
        "import numpy as np\n",
        "import pandas as pd\n",
        "\n",
        "from datetime import datetime\n",
        "from pytz import timezone\n",
        "import time\n",
        "\n",
        "from sklearn.model_selection import train_test_split\n",
        "\n",
        "\n",
        "import keras\n",
        "from keras.preprocessing.text import Tokenizer\n",
        "from keras.utils import to_categorical\n",
        "from keras.preprocessing.sequence import pad_sequences\n",
        "from keras.layers import Activation, Conv2D, Input, Embedding, Reshape, MaxPool2D, Concatenate, Flatten, Dropout, Dense, Conv1D\n",
        "from keras.layers import MaxPool1D\n",
        "from keras.models import Model\n",
        "from keras.callbacks import ModelCheckpoint\n",
        "from keras.optimizers import Adam\n",
        "import sys, os, re, csv, codecs\n",
        "from keras.preprocessing.text import Tokenizer\n",
        "from keras.preprocessing.sequence import pad_sequences\n",
        "from keras.layers import Dense, Input, LSTM, Embedding, Dropout, Activation\n",
        "from keras.layers import Bidirectional, GlobalMaxPool1D,Bidirectional\n",
        "from keras.models import Model\n",
        "from keras import initializers, regularizers, constraints, optimizers, layers\n",
        "import gensim.models.keyedvectors as word2vec\n",
        "import gc\n",
        "\n",
        "from sklearn import metrics\n",
        "from sklearn.metrics import classification_report,confusion_matrix,roc_curve,auc,precision_recall_curve,roc_curve,precision_recall_fscore_support\n",
        "  \n",
        "from google.colab import drive\n",
        "\n",
        "nltk.download('stopwords')\n",
        "stop_words = stopwords.words('english')\n",
        "stop_words.remove('no')\n",
        "stop_words.remove('not')\n",
        "\n",
        "\n",
        "\n",
        "\n",
        "CONTRACTION_MAP = {\n",
        "\"ain't\": \"is not\",\n",
        "\"aren't\": \"are not\",\n",
        "\"can't\": \"cannot\",\n",
        "\"can't've\": \"cannot have\",\n",
        "\"'cause\": \"because\",\n",
        "\"could've\": \"could have\",\n",
        "\"couldn't\": \"could not\",\n",
        "\"couldn't've\": \"could not have\",\n",
        "\"didn't\": \"did not\",\n",
        "\"doesn't\": \"does not\",\n",
        "\"don't\": \"do not\",\n",
        "\"hadn't\": \"had not\",\n",
        "\"hadn't've\": \"had not have\",\n",
        "\"hasn't\": \"has not\",\n",
        "\"haven't\": \"have not\",\n",
        "\"he'd\": \"he would\",\n",
        "\"he'd've\": \"he would have\",\n",
        "\"he'll\": \"he will\",\n",
        "\"he'll've\": \"he he will have\",\n",
        "\"he's\": \"he is\",\n",
        "\"how'd\": \"how did\",\n",
        "\"how'd'y\": \"how do you\",\n",
        "\"how'll\": \"how will\",\n",
        "\"how's\": \"how is\",\n",
        "\"I'd\": \"I would\",\n",
        "\"I'd've\": \"I would have\",\n",
        "\"I'll\": \"I will\",\n",
        "\"I'll've\": \"I will have\",\n",
        "\"I'm\": \"I am\",\n",
        "\"I've\": \"I have\",\n",
        "\"i'd\": \"i would\",\n",
        "\"i'd've\": \"i would have\",\n",
        "\"i'll\": \"i will\",\n",
        "\"i'll've\": \"i will have\",\n",
        "\"i'm\": \"i am\",\n",
        "\"i've\": \"i have\",\n",
        "\"isn't\": \"is not\",\n",
        "\"it'd\": \"it would\",\n",
        "\"it'd've\": \"it would have\",\n",
        "\"it'll\": \"it will\",\n",
        "\"it'll've\": \"it will have\",\n",
        "\"it's\": \"it is\",\n",
        "\"let's\": \"let us\",\n",
        "\"ma'am\": \"madam\",\n",
        "\"mayn't\": \"may not\",\n",
        "\"might've\": \"might have\",\n",
        "\"mightn't\": \"might not\",\n",
        "\"mightn't've\": \"might not have\",\n",
        "\"must've\": \"must have\",\n",
        "\"mustn't\": \"must not\",\n",
        "\"mustn't've\": \"must not have\",\n",
        "\"needn't\": \"need not\",\n",
        "\"needn't've\": \"need not have\",\n",
        "\"o'clock\": \"of the clock\",\n",
        "\"oughtn't\": \"ought not\",\n",
        "\"oughtn't've\": \"ought not have\",\n",
        "\"shan't\": \"shall not\",\n",
        "\"sha'n't\": \"shall not\",\n",
        "\"shan't've\": \"shall not have\",\n",
        "\"she'd\": \"she would\",\n",
        "\"she'd've\": \"she would have\",\n",
        "\"she'll\": \"she will\",\n",
        "\"she'll've\": \"she will have\",\n",
        "\"she's\": \"she is\",\n",
        "\"should've\": \"should have\",\n",
        "\"shouldn't\": \"should not\",\n",
        "\"shouldn't've\": \"should not have\",\n",
        "\"so've\": \"so have\",\n",
        "\"so's\": \"so as\",\n",
        "\"that'd\": \"that would\",\n",
        "\"that'd've\": \"that would have\",\n",
        "\"that's\": \"that is\",\n",
        "\"there'd\": \"there would\",\n",
        "\"there'd've\": \"there would have\",\n",
        "\"there's\": \"there is\",\n",
        "\"they'd\": \"they would\",\n",
        "\"they'd've\": \"they would have\",\n",
        "\"they'll\": \"they will\",\n",
        "\"they'll've\": \"they will have\",\n",
        "\"they're\": \"they are\",\n",
        "\"they've\": \"they have\",\n",
        "\"to've\": \"to have\",\n",
        "\"wasn't\": \"was not\",\n",
        "\"we'd\": \"we would\",\n",
        "\"we'd've\": \"we would have\",\n",
        "\"we'll\": \"we will\",\n",
        "\"we'll've\": \"we will have\",\n",
        "\"we're\": \"we are\",\n",
        "\"we've\": \"we have\",\n",
        "\"weren't\": \"were not\",\n",
        "\"what'll\": \"what will\",\n",
        "\"what'll've\": \"what will have\",\n",
        "\"what're\": \"what are\",\n",
        "\"what's\": \"what is\",\n",
        "\"what've\": \"what have\",\n",
        "\"when's\": \"when is\",\n",
        "\"when've\": \"when have\",\n",
        "\"where'd\": \"where did\",\n",
        "\"where's\": \"where is\",\n",
        "\"where've\": \"where have\",\n",
        "\"who'll\": \"who will\",\n",
        "\"who'll've\": \"who will have\",\n",
        "\"who's\": \"who is\",\n",
        "\"who've\": \"who have\",\n",
        "\"why's\": \"why is\",\n",
        "\"why've\": \"why have\",\n",
        "\"will've\": \"will have\",\n",
        "\"won't\": \"will not\",\n",
        "\"won't've\": \"will not have\",\n",
        "\"would've\": \"would have\",\n",
        "\"wouldn't\": \"would not\",\n",
        "\"wouldn't've\": \"would not have\",\n",
        "\"y'all\": \"you all\",\n",
        "\"y'all'd\": \"you all would\",\n",
        "\"y'all'd've\": \"you all would have\",\n",
        "\"y'all're\": \"you all are\",\n",
        "\"y'all've\": \"you all have\",\n",
        "\"you'd\": \"you would\",\n",
        "\"you'd've\": \"you would have\",\n",
        "\"you'll\": \"you will\",\n",
        "\"you'll've\": \"you will have\",\n",
        "\"you're\": \"you are\",\n",
        "\"you've\": \"you have\"\n",
        "}\n",
        "\n",
        "\n",
        "\n",
        "\n",
        "\n",
        "\n",
        "from sklearn.utils.multiclass import unique_labels\n",
        "def plot_confusion_matrix(y_true, y_pred, classes,\n",
        "                          normalize=False,\n",
        "                          title=None,\n",
        "                          cmap=plt.cm.Blues):\n",
        "    \"\"\"\n",
        "    This function prints and plots the confusion matrix.\n",
        "    Normalization can be applied by setting `normalize=True`.\n",
        "    \"\"\"\n",
        "    if not title:\n",
        "        if normalize:\n",
        "            title = 'Normalized confusion matrix'\n",
        "        else:\n",
        "            title = 'Confusion matrix, without normalization'\n",
        "\n",
        "\n",
        "    cm = confusion_matrix(y_true, y_pred)\n",
        "\n",
        "    if normalize:\n",
        "        cm = cm.astype('float') / cm.sum(axis=1)[:, np.newaxis]\n",
        "        print(\"Normalized confusion matrix\")\n",
        "    else:\n",
        "        print('Confusion matrix, without normalization')\n",
        "\n",
        "    print(cm)\n",
        "\n",
        "    fig, ax = plt.subplots()\n",
        "    im = ax.imshow(cm, interpolation='nearest', cmap=cmap)\n",
        "    ax.figure.colorbar(im, ax=ax)\n",
        "    # We want to show all ticks...\n",
        "    ax.set(xticks=np.arange(cm.shape[1]),\n",
        "           yticks=np.arange(cm.shape[0]),\n",
        "           # ... and label them with the respective list entries\n",
        "           xticklabels=classes, yticklabels=classes,\n",
        "           title=title,\n",
        "           ylabel='True label',\n",
        "           xlabel='Predicted label')\n",
        "\n",
        "    # Rotate the tick labels and set their alignment.\n",
        "    plt.setp(ax.get_xticklabels(), rotation=45, ha=\"right\",\n",
        "             rotation_mode=\"anchor\")\n",
        "\n",
        "    # Loop over data dimensions and create text annotations.\n",
        "    fmt = '.2f' if normalize else 'd'\n",
        "    thresh = cm.max() / 2.\n",
        "    for i in range(cm.shape[0]):\n",
        "        for j in range(cm.shape[1]):\n",
        "            ax.text(j, i, format(cm[i, j], fmt),\n",
        "                    ha=\"center\", va=\"center\",\n",
        "                    color=\"white\" if cm[i, j] > thresh else \"black\")\n",
        "    fig.tight_layout()\n",
        "    return ax\n",
        "\n",
        "\n",
        "\n",
        "\n",
        "\n",
        "def remove_special_chars(text):\n",
        "  return re.sub(r'[^a-zA-Z0-9 \\']', '', text)\n",
        "\n",
        "def expand_contractions(text, contraction_mapping=CONTRACTION_MAP):\n",
        "    \n",
        "    contractions_pattern = re.compile('({})'.format('|'.join(contraction_mapping.keys())), \n",
        "                                      flags=re.IGNORECASE|re.DOTALL)\n",
        "    def expand_match(contraction):\n",
        "        match = contraction.group(0)\n",
        "        first_char = match[0]\n",
        "        expanded_contraction = contraction_mapping.get(match)\\\n",
        "                                if contraction_mapping.get(match)\\\n",
        "                                else contraction_mapping.get(match.lower())                       \n",
        "        expanded_contraction = first_char+expanded_contraction[1:]\n",
        "        return expanded_contraction\n",
        "        \n",
        "    expanded_text = contractions_pattern.sub(expand_match, text)\n",
        "    expanded_text = re.sub(\"'\", \"\", expanded_text)\n",
        "    return expanded_text\n",
        "\n",
        "def remove_accented_chars(text):\n",
        "  text = unicodedata.normalize('NFKD', text).encode('ascii', 'ignore').decode('utf-8', 'ignore')\n",
        "  return text\n",
        "\n",
        "def tokenize_text(text):\n",
        "  tokens = nltk.word_tokenize(text)\n",
        "  tokens = [token.strip() for token in tokens]\n",
        "  return tokens\n",
        "\n",
        "def normalize_text(text):\n",
        "  text=remove_special_chars(text)\n",
        "  text=expand_contractions(text)\n",
        "  #text=text.lower()                       ## tried this for CNN based on Kaggle first place solution; makes sense because words such as How, Why,etc would typically begin in a sentence and will be camcelcased\n",
        "  text=remove_accented_chars(text)\n",
        "  #text=tokenize_text(text)\n",
        "  return text\n",
        "\n",
        "def remove_stopwords_nltk(tokens):\n",
        "  filtered_tokens = [token for token in tokens if token not in stop_words]\n",
        "  filtered_text = ' '.join(filtered_tokens)    \n",
        "  return filtered_text\n",
        "\n",
        "\n",
        "\n",
        "\n",
        "def stem_sentences_nltk(sentence):\n",
        "  ps = PorterStemmer()\n",
        "  tokens = sentence.split()\n",
        "  stemmed_tokens = [ps.stem(token) for token in tokens]\n",
        "  return ' '.join(stemmed_tokens)\n",
        "\n",
        "\n",
        "  \n",
        "  \n",
        "def stem_sentences_list(sentence):\n",
        "  ps = PorterStemmer()\n",
        "  tokens = sentence.split()\n",
        "  stemmed_tokens = [ps.stem(token) for token in tokens]\n",
        "  return stemmed_tokens\n",
        "\n",
        " \n",
        "def tfidf_vectorize_get_array(series):\n",
        "  vectorizer = TfidfVectorizer(min_df=1,norm='l2',smooth_idf=True,use_idf=True,ngram_range=(1,1))\n",
        "  return np.array(vectorizer.fit_transform(series).todense(), dtype=np.float16)\n",
        "\n",
        "def tfidf_vectorize(series):\n",
        "  vectorizer = TfidfVectorizer(min_df=1,norm='l2',smooth_idf=True,use_idf=True,ngram_range=(1,1))\n",
        "  return vectorizer.fit_transform(series)\n",
        "\n",
        "# gonna try without removal of stop words first, might try with removal of stop words later\n",
        "\n",
        "def preprocess_text(df,stem=False):\n",
        "  if stem:\n",
        "    df['word_tokens_stemmed']=df['question_text'].apply(normalize_text).apply(tokenize_text).apply(remove_stopwords_nltk).apply(stem_sentences_nltk)\n",
        "  else:\n",
        "    #df['word_tokens_preprocessed']=df['question_text'].apply(normalize_text).apply(tokenize_text).apply(remove_stopwords_nltk)\n",
        "    df['word_tokens_preprocessed']=df['question_text'].apply(normalize_text)\n",
        "  return df\n",
        "\n",
        "\n",
        "\n",
        "\n",
        "def split_train_test(df,stem=False):\n",
        "  if stem:\n",
        "    x_train,x_test,y_train,y_test = train_test_split(df['word_tokens_stemmed'],df['target'], random_state=1,stratify=df['target'])\n",
        "  else:\n",
        "    x_train,x_test,y_train,y_test = train_test_split(df['word_tokens_preprocessed'],df['target'], random_state=1,stratify=df['target'])\n",
        "  return x_train,x_test,y_train,y_test\n",
        "\n",
        "def classifier_reports(y_test, y_pred):\n",
        "  print()\n",
        "  class_names = ['class0', 'class1']\n",
        "  print(classification_report(y_test, y_pred, target_names=class_names))\n",
        "  # Plot non-normalized confusion matrix\n",
        "  plot_confusion_matrix(y_test, y_pred, classes=class_names,title='Confusion matrix, without normalization')\n",
        "  # Plot normalized confusion matrix\n",
        "  plot_confusion_matrix(y_test, y_pred, classes=class_names, normalize=True, title='Normalized confusion matrix')\n",
        "  plt.show()\n",
        "  \n",
        "  \n"
      ],
      "execution_count": 0,
      "outputs": [
        {
          "output_type": "stream",
          "text": [
            "Requirement already satisfied: ipython-autotime in /usr/local/lib/python3.6/dist-packages (0.1)\n",
            "The autotime extension is already loaded. To reload it, use:\n",
            "  %reload_ext autotime\n",
            "[nltk_data] Downloading package punkt to /root/nltk_data...\n",
            "[nltk_data]   Package punkt is already up-to-date!\n",
            "[nltk_data] Downloading package stopwords to /root/nltk_data...\n",
            "[nltk_data]   Package stopwords is already up-to-date!\n",
            "time: 3.35 s\n"
          ],
          "name": "stdout"
        }
      ]
    },
    {
      "cell_type": "markdown",
      "metadata": {
        "id": "PlIa6uXpkImG",
        "colab_type": "text"
      },
      "source": [
        "Mount the Google drive to load the training file later."
      ]
    },
    {
      "cell_type": "code",
      "metadata": {
        "id": "Y0Ds222Tfsgf",
        "colab_type": "code",
        "outputId": "cec5b9ce-1abd-4627-bd68-10ebcca72c7a",
        "colab": {
          "base_uri": "https://localhost:8080/",
          "height": 428
        }
      },
      "source": [
        "drive.mount('/content/gdrive')\n",
        "os.chdir('gdrive/My Drive/kaggle/quora')\n",
        "!ls -ltr  "
      ],
      "execution_count": 0,
      "outputs": [
        {
          "output_type": "stream",
          "text": [
            "Go to this URL in a browser: https://accounts.google.com/o/oauth2/auth?client_id=947318989803-6bn6qk8qdgf4n4g3pfee6491hc0brc4i.apps.googleusercontent.com&redirect_uri=urn%3aietf%3awg%3aoauth%3a2.0%3aoob&response_type=code&scope=email%20https%3a%2f%2fwww.googleapis.com%2fauth%2fdocs.test%20https%3a%2f%2fwww.googleapis.com%2fauth%2fdrive%20https%3a%2f%2fwww.googleapis.com%2fauth%2fdrive.photos.readonly%20https%3a%2f%2fwww.googleapis.com%2fauth%2fpeopleapi.readonly\n",
            "\n",
            "Enter your authorization code:\n",
            "··········\n",
            "Mounted at /content/gdrive\n",
            "total 12052983\n",
            "-rw------- 1 root root 5646236541 Oct 24  2015 glove.840B.300d.txt\n",
            "-rw------- 1 root root 2259088777 Mar 14  2018 wiki-news-300d-1M.vec\n",
            "-rw------- 1 root root 3644258522 Oct 31  2018 GoogleNews-vectors-negative300.bin\n",
            "drwx------ 2 root root       4096 Aug 25 19:03 paragram_300_sl999\n",
            "-rw------- 1 root root   35011536 Aug 25 19:25 test.csv\n",
            "-rw------- 1 root root  124206772 Aug 25 19:25 train.csv\n",
            "-rw------- 1 root root    8643553 Aug 25 19:26 sample_submission.csv\n",
            "-rw------- 1 root root    6617121 Aug 28 11:36 big.txt\n",
            "drwx------ 2 root root       4096 Sep  2 19:02 catboost_info\n",
            "-rw------- 1 root root    8643553 Sep  7 22:19 submission.csv\n",
            "-rw------- 1 root root  186744887 Sep  8 17:28 quora.csv\n",
            "-rw------- 1 root root  177407020 Sep 21 18:00 quora_preprocessed_stemmed.csv\n",
            "-rw------- 1 root root  116664448 Oct 10 19:29 weights.hdf5\n",
            "-rw------- 1 root root  116664480 Oct 10 20:02 treated_weights.hdf5\n",
            "drwx------ 2 root root       4096 Oct 10 21:03 models\n",
            "-rw------- 1 root root   12051265 Oct 23 22:28 quora_classification_model.sav\n",
            "time: 27.6 s\n"
          ],
          "name": "stdout"
        }
      ]
    },
    {
      "cell_type": "markdown",
      "metadata": {
        "id": "lTKdjzcPkM-W",
        "colab_type": "text"
      },
      "source": [
        "Load the training file and preprocess it."
      ]
    },
    {
      "cell_type": "code",
      "metadata": {
        "id": "RkSo6yWe2Qg1",
        "colab_type": "code",
        "outputId": "d5285e25-9c8b-4a00-88e9-0d94c15bbb55",
        "colab": {
          "base_uri": "https://localhost:8080/",
          "height": 272
        }
      },
      "source": [
        "df=pd.read_csv('train.csv')\n",
        "\n",
        "pd.options.display.max_colwidth = 500\n",
        "print('Number rows and columns:',df.shape)\n",
        "\n",
        "df=preprocess_text(df,stem=False)  \n",
        "df.head()"
      ],
      "execution_count": 0,
      "outputs": [
        {
          "output_type": "stream",
          "text": [
            "Number rows and columns: (1306122, 3)\n"
          ],
          "name": "stdout"
        },
        {
          "output_type": "execute_result",
          "data": {
            "text/html": [
              "<div>\n",
              "<style scoped>\n",
              "    .dataframe tbody tr th:only-of-type {\n",
              "        vertical-align: middle;\n",
              "    }\n",
              "\n",
              "    .dataframe tbody tr th {\n",
              "        vertical-align: top;\n",
              "    }\n",
              "\n",
              "    .dataframe thead th {\n",
              "        text-align: right;\n",
              "    }\n",
              "</style>\n",
              "<table border=\"1\" class=\"dataframe\">\n",
              "  <thead>\n",
              "    <tr style=\"text-align: right;\">\n",
              "      <th></th>\n",
              "      <th>qid</th>\n",
              "      <th>question_text</th>\n",
              "      <th>target</th>\n",
              "      <th>word_tokens_preprocessed</th>\n",
              "    </tr>\n",
              "  </thead>\n",
              "  <tbody>\n",
              "    <tr>\n",
              "      <th>0</th>\n",
              "      <td>00002165364db923c7e6</td>\n",
              "      <td>How did Quebec nationalists see their province as a nation in the 1960s?</td>\n",
              "      <td>0</td>\n",
              "      <td>How did Quebec nationalists see their province as a nation in the 1960s</td>\n",
              "    </tr>\n",
              "    <tr>\n",
              "      <th>1</th>\n",
              "      <td>000032939017120e6e44</td>\n",
              "      <td>Do you have an adopted dog, how would you encourage people to adopt and not shop?</td>\n",
              "      <td>0</td>\n",
              "      <td>Do you have an adopted dog how would you encourage people to adopt and not shop</td>\n",
              "    </tr>\n",
              "    <tr>\n",
              "      <th>2</th>\n",
              "      <td>0000412ca6e4628ce2cf</td>\n",
              "      <td>Why does velocity affect time? Does velocity affect space geometry?</td>\n",
              "      <td>0</td>\n",
              "      <td>Why does velocity affect time Does velocity affect space geometry</td>\n",
              "    </tr>\n",
              "    <tr>\n",
              "      <th>3</th>\n",
              "      <td>000042bf85aa498cd78e</td>\n",
              "      <td>How did Otto von Guericke used the Magdeburg hemispheres?</td>\n",
              "      <td>0</td>\n",
              "      <td>How did Otto von Guericke used the Magdeburg hemispheres</td>\n",
              "    </tr>\n",
              "    <tr>\n",
              "      <th>4</th>\n",
              "      <td>0000455dfa3e01eae3af</td>\n",
              "      <td>Can I convert montra helicon D to a mountain bike by just changing the tyres?</td>\n",
              "      <td>0</td>\n",
              "      <td>Can I convert montra helicon D to a mountain bike by just changing the tyres</td>\n",
              "    </tr>\n",
              "  </tbody>\n",
              "</table>\n",
              "</div>"
            ],
            "text/plain": [
              "                    qid  ...                                                         word_tokens_preprocessed\n",
              "0  00002165364db923c7e6  ...          How did Quebec nationalists see their province as a nation in the 1960s\n",
              "1  000032939017120e6e44  ...  Do you have an adopted dog how would you encourage people to adopt and not shop\n",
              "2  0000412ca6e4628ce2cf  ...                Why does velocity affect time Does velocity affect space geometry\n",
              "3  000042bf85aa498cd78e  ...                         How did Otto von Guericke used the Magdeburg hemispheres\n",
              "4  0000455dfa3e01eae3af  ...     Can I convert montra helicon D to a mountain bike by just changing the tyres\n",
              "\n",
              "[5 rows x 4 columns]"
            ]
          },
          "metadata": {
            "tags": []
          },
          "execution_count": 5
        },
        {
          "output_type": "stream",
          "text": [
            "time: 3min 4s\n"
          ],
          "name": "stdout"
        }
      ]
    },
    {
      "cell_type": "markdown",
      "metadata": {
        "id": "r48BF77okcQZ",
        "colab_type": "text"
      },
      "source": [
        "Below code is just a short demo on Tokenizer."
      ]
    },
    {
      "cell_type": "code",
      "metadata": {
        "id": "vfqx_4heJE3c",
        "colab_type": "code",
        "outputId": "d5434ea8-510a-4164-b11f-c4a2fe99935f",
        "colab": {
          "base_uri": "https://localhost:8080/",
          "height": 136
        }
      },
      "source": [
        "\n",
        "# define 5 documents\n",
        "docs = ['Well done!',\n",
        "\t\t'Good work',\n",
        "\t\t'Great effort',\n",
        "\t\t'nice work',\n",
        "\t\t'Excellent!']\n",
        "# create the tokenizer\n",
        "t = Tokenizer()\n",
        "# fit the tokenizer on the documents\n",
        "t.fit_on_texts(docs)\n",
        "\n",
        "# summarize what was learned\n",
        "print('word counts:',t.word_counts)\n",
        "print('Doc count:',t.document_count)\n",
        "print('Word Index',t.word_index)\n",
        "print()\n",
        "print(t.word_index.items())\n",
        "print(t.word_docs)"
      ],
      "execution_count": 0,
      "outputs": [
        {
          "output_type": "stream",
          "text": [
            "word counts: OrderedDict([('well', 1), ('done', 1), ('good', 1), ('work', 2), ('great', 1), ('effort', 1), ('nice', 1), ('excellent', 1)])\n",
            "Doc count: 5\n",
            "Word Index {'work': 1, 'well': 2, 'done': 3, 'good': 4, 'great': 5, 'effort': 6, 'nice': 7, 'excellent': 8}\n",
            "\n",
            "dict_items([('work', 1), ('well', 2), ('done', 3), ('good', 4), ('great', 5), ('effort', 6), ('nice', 7), ('excellent', 8)])\n",
            "defaultdict(<class 'int'>, {'well': 1, 'done': 1, 'work': 2, 'good': 1, 'great': 1, 'effort': 1, 'nice': 1, 'excellent': 1})\n",
            "time: 9.34 ms\n"
          ],
          "name": "stdout"
        }
      ]
    },
    {
      "cell_type": "markdown",
      "metadata": {
        "id": "D1_SWo8pkhxG",
        "colab_type": "text"
      },
      "source": [
        "Instantiate Tokenizer and fit it on preprocessed text."
      ]
    },
    {
      "cell_type": "code",
      "metadata": {
        "id": "w2brT5Db-RsG",
        "colab_type": "code",
        "outputId": "b97d28ae-5183-4719-9ffa-c4a109b4fb48",
        "colab": {
          "base_uri": "https://localhost:8080/",
          "height": 51
        }
      },
      "source": [
        "tokenizer = Tokenizer(num_words = 38987)\n",
        "tokenizer.fit_on_texts(df['word_tokens_preprocessed'])\n",
        "print('Found %d unique words.' % len(tokenizer.word_index))"
      ],
      "execution_count": 0,
      "outputs": [
        {
          "output_type": "stream",
          "text": [
            "Found 247150 unique words.\n",
            "time: 26.6 s\n"
          ],
          "name": "stdout"
        }
      ]
    },
    {
      "cell_type": "code",
      "metadata": {
        "id": "mFB1M6P7FKVd",
        "colab_type": "code",
        "outputId": "2b5dd0de-5af9-4b40-95ff-71c29c50de6a",
        "colab": {
          "base_uri": "https://localhost:8080/",
          "height": 34
        }
      },
      "source": [
        "max_features = 247150 \n",
        "tokenizer = Tokenizer(num_words=max_features)\n",
        "tokenizer.fit_on_texts(list(df['word_tokens_preprocessed']))\n",
        "encoded_docs = tokenizer.texts_to_sequences(df['word_tokens_preprocessed'])\n"
      ],
      "execution_count": 0,
      "outputs": [
        {
          "output_type": "stream",
          "text": [
            "time: 48.5 s\n"
          ],
          "name": "stdout"
        }
      ]
    },
    {
      "cell_type": "markdown",
      "metadata": {
        "id": "W9VHutD5kpHV",
        "colab_type": "text"
      },
      "source": [
        "Make sure the encodings are there"
      ]
    },
    {
      "cell_type": "code",
      "metadata": {
        "id": "-IcceIpUIrVI",
        "colab_type": "code",
        "outputId": "cdeaed5a-09fb-41c9-9c78-791f54479d09",
        "colab": {
          "base_uri": "https://localhost:8080/",
          "height": 34
        }
      },
      "source": [
        "encoded_docs[3]"
      ],
      "execution_count": 0,
      "outputs": [
        {
          "output_type": "execute_result",
          "data": {
            "text/plain": [
              "[9, 46, 12957, 8315, 60372, 114, 1, 40009, 27169]"
            ]
          },
          "metadata": {
            "tags": []
          },
          "execution_count": 8
        },
        {
          "output_type": "stream",
          "text": [
            "time: 3.42 ms\n"
          ],
          "name": "stdout"
        }
      ]
    },
    {
      "cell_type": "markdown",
      "metadata": {
        "id": "WKyzbGrqkxXe",
        "colab_type": "text"
      },
      "source": [
        "Make sure all the questions/samples are encoded."
      ]
    },
    {
      "cell_type": "code",
      "metadata": {
        "id": "QIq9hFobSeBg",
        "colab_type": "code",
        "outputId": "7b0e1a17-020c-4620-f478-9b7fc3a40d35",
        "colab": {
          "base_uri": "https://localhost:8080/",
          "height": 34
        }
      },
      "source": [
        "len(encoded_docs)"
      ],
      "execution_count": 0,
      "outputs": [
        {
          "output_type": "execute_result",
          "data": {
            "text/plain": [
              "1306122"
            ]
          },
          "metadata": {
            "tags": []
          },
          "execution_count": 9
        },
        {
          "output_type": "stream",
          "text": [
            "time: 3.96 ms\n"
          ],
          "name": "stdout"
        }
      ]
    },
    {
      "cell_type": "markdown",
      "metadata": {
        "id": "mEfY-fMtk7xd",
        "colab_type": "text"
      },
      "source": [
        "Find the length of each question and plot a histogram of the lengths. This will help in padding later"
      ]
    },
    {
      "cell_type": "code",
      "metadata": {
        "id": "eKSL0XjZL5gn",
        "colab_type": "code",
        "outputId": "5964db5d-fbc4-41c7-bc6f-81bf6379c34f",
        "colab": {
          "base_uri": "https://localhost:8080/",
          "height": 282
        }
      },
      "source": [
        "totalNumWords = [len(question) for question in encoded_docs]\n",
        "\n",
        "plt.hist(totalNumWords,bins = np.arange(0,100,10))#[0,50,100,150,200,250,300,350,400])#,450,500,550,600,650,700,750,800,850,900])\n",
        "plt.show()"
      ],
      "execution_count": 0,
      "outputs": [
        {
          "output_type": "display_data",
          "data": {
            "image/png": "[encoded data removed]",
            "text/plain": [
              "<Figure size 432x288 with 1 Axes>"
            ]
          },
          "metadata": {
            "tags": []
          }
        },
        {
          "output_type": "stream",
          "text": [
            "time: 568 ms\n"
          ],
          "name": "stdout"
        }
      ]
    },
    {
      "cell_type": "markdown",
      "metadata": {
        "id": "8nra-oSQlQdL",
        "colab_type": "text"
      },
      "source": [
        "Pad the documents/samples/questions so that the length of samples is uniform."
      ]
    },
    {
      "cell_type": "code",
      "metadata": {
        "id": "x23Oe6q5MZGi",
        "colab_type": "code",
        "outputId": "74d7be30-2cc1-46ac-dec2-f59454fd68a8",
        "colab": {
          "base_uri": "https://localhost:8080/",
          "height": 34
        }
      },
      "source": [
        "maxlen = 50\n",
        "X = pad_sequences(encoded_docs, maxlen=maxlen, padding='post')"
      ],
      "execution_count": 0,
      "outputs": [
        {
          "output_type": "stream",
          "text": [
            "time: 6.3 s\n"
          ],
          "name": "stdout"
        }
      ]
    },
    {
      "cell_type": "markdown",
      "metadata": {
        "id": "hmBNTjYZSTFi",
        "colab_type": "text"
      },
      "source": [
        "Define a function to create embedding matrix for our vocabulary ( unique words in the dataset) using pre trained word embeddings."
      ]
    },
    {
      "cell_type": "code",
      "metadata": {
        "id": "c22OXouZMveS",
        "colab_type": "code",
        "outputId": "829cdc0e-c315-4cb4-838e-83f0a2286c10",
        "colab": {
          "base_uri": "https://localhost:8080/",
          "height": 34
        }
      },
      "source": [
        "def loadEmbeddingMatrix(typeToLoad):\n",
        "        \n",
        "        if(typeToLoad==\"glove\"):\n",
        "            EMBEDDING_FILE='glove.840B.300d.txt' #Common Crawl Data\n",
        "            embed_size = 300\n",
        "        elif(typeToLoad==\"word2vec\"):\n",
        "            word2vecDict = word2vec.KeyedVectors.load_word2vec_format(\"GoogleNews-vectors-negative300.bin\", binary=True)\n",
        "            embed_size = 300\n",
        "        elif(typeToLoad==\"fasttext\"):\n",
        "            EMBEDDING_FILE='wiki-news-300d-1M.vec'\n",
        "            embed_size = 300\n",
        "\n",
        "        if(typeToLoad==\"glove\" or typeToLoad==\"fasttext\" ):\n",
        "            embeddings_index = dict()\n",
        "            #Transfer the embedding weights into a dictionary by iterating through every line of the file.\n",
        "            f = open(EMBEDDING_FILE)\n",
        "            for line in f:\n",
        "                #split up line into an indexed array\n",
        "                values = line.split()\n",
        "                #first index is word\n",
        "                word = values[0]\n",
        "                #store the rest of the values in the array as a new array\n",
        "                coefs = np.asarray(values[1:], dtype='float32')\n",
        "                embeddings_index[word] = coefs \n",
        "            f.close()\n",
        "            print('Loaded %s word vectors.' % len(embeddings_index))\n",
        "        else:\n",
        "            embeddings_index = dict()\n",
        "            for word in word2vecDict.wv.vocab:\n",
        "                embeddings_index[word] = word2vecDict.word_vec(word)\n",
        "            print('Loaded %s word vectors.' % len(embeddings_index))\n",
        "            \n",
        "        gc.collect()\n",
        "        #We get the mean and standard deviation of the embedding weights so that we could maintain the \n",
        "        #same statistics for the rest of our own random generated weights. \n",
        "        all_embs = np.stack(list(embeddings_index.values()))\n",
        "        emb_mean,emb_std = all_embs.mean(), all_embs.std()\n",
        "        \n",
        "        nb_words = len(tokenizer.word_index)\n",
        "        #We are going to set the embedding size to the pretrained dimension as we are replicating it.\n",
        "        #the size will be Number of Words in Vocab X Embedding Size\n",
        "        embedding_matrix = np.random.normal(emb_mean, emb_std, (nb_words, embed_size))\n",
        "        gc.collect()\n",
        "\n",
        "        #With the newly created embedding matrix, we'll fill it up with the words that we have in both \n",
        "        #our own dictionary and loaded pretrained embedding. \n",
        "        embeddedCount = 0\n",
        "        for word, i in tokenizer.word_index.items():\n",
        "            i-=1\n",
        "            #then we see if this word is in glove's dictionary, if yes, get the corresponding weights\n",
        "            embedding_vector = embeddings_index.get(word)\n",
        "            #and store inside the embedding matrix that we will train later on.\n",
        "            if embedding_vector is not None: \n",
        "                embedding_matrix[i] = embedding_vector\n",
        "                embeddedCount+=1\n",
        "        print('total embedded:',embeddedCount,'common words')\n",
        "        \n",
        "        del(embeddings_index)\n",
        "        gc.collect()\n",
        "        \n",
        "        #finally, return the embedding matrix\n",
        "        return embedding_matrix,embeddedCount"
      ],
      "execution_count": 0,
      "outputs": [
        {
          "output_type": "stream",
          "text": [
            "time: 44.1 ms\n"
          ],
          "name": "stdout"
        }
      ]
    },
    {
      "cell_type": "markdown",
      "metadata": {
        "id": "--aHoYGISicS",
        "colab_type": "text"
      },
      "source": [
        "Check how many words from our dataset could be found in the pre trained embeddings and find if the embedding matrix has embeddings for all words."
      ]
    },
    {
      "cell_type": "code",
      "metadata": {
        "id": "3qTcRH1484Gs",
        "colab_type": "code",
        "outputId": "9c39fd4b-978f-4868-83ae-2dcd7af42872",
        "colab": {
          "base_uri": "https://localhost:8080/",
          "height": 102
        }
      },
      "source": [
        "embedding_matrix,embeddedCount = loadEmbeddingMatrix('word2vec') # takes 1 min 23 secs on 25 gig ram and a GPU for Word2Vec, is able to find only 35% of words\n",
        "print(embeddedCount / max_features *100)\n",
        "print(embedding_matrix.shape)"
      ],
      "execution_count": 0,
      "outputs": [
        {
          "output_type": "stream",
          "text": [
            "Loaded 3000000 word vectors.\n",
            "total embedded: 77874 common words\n",
            "31.508800323690068\n",
            "(247150, 300)\n",
            "time: 1min 2s\n"
          ],
          "name": "stdout"
        }
      ]
    },
    {
      "cell_type": "markdown",
      "metadata": {
        "id": "iwmsdU_XTMdB",
        "colab_type": "text"
      },
      "source": [
        "y_2d = to_categorical(np.asarray(df['target'])) # needs to be used when you use conv2d\n",
        "\n",
        "print('Shape of data tensor:', X.shape)\n",
        "print('Shape of label tensor:', y_2d.shape)\n",
        "print(y_2d)"
      ]
    },
    {
      "cell_type": "markdown",
      "metadata": {
        "id": "B3_BvgYLTc69",
        "colab_type": "text"
      },
      "source": [
        "Create the neural net architecture "
      ]
    },
    {
      "cell_type": "code",
      "metadata": {
        "id": "r_C74mAXDLGk",
        "colab_type": "code",
        "outputId": "adf45e5f-379e-4520-bdcf-2be9ca30dc7f",
        "colab": {
          "base_uri": "https://localhost:8080/",
          "height": 785
        }
      },
      "source": [
        "word_index=(tokenizer.word_index)\n",
        "len(word_index)\n",
        "\n",
        "# the dimension of vectors to be used\n",
        "EMBEDDING_DIM = embedding_matrix.shape[1] #300\n",
        "# filter sizes of the different conv layers \n",
        "filter_sizes = [3,4,5]\n",
        "num_filters = 512\n",
        "\n",
        "# dropout probability\n",
        "drop = 0.5\n",
        "batch_size = 30\n",
        "epochs = 2\n",
        "vocab_size=len(word_index) # 247150 ; length of unique words\n",
        "\n",
        "from keras.models import Sequential\n",
        "from keras.layers import Embedding\n",
        "\n",
        "model = Sequential()\n",
        "model.add(layers.Embedding(vocab_size, EMBEDDING_DIM, input_length=maxlen,weights=[embedding_matrix],trainable=False))\n",
        "model.add(layers.Conv1D(filters=512, kernel_size=3, activation='relu',))\n",
        "model.add(layers.GlobalMaxPooling1D())\n",
        "model.add(layers.Dense(64, activation='relu'))\n",
        "model.add(layers.Dense(1, activation='sigmoid'))\n",
        "model.compile(optimizer='adam',\n",
        "              loss='binary_crossentropy',\n",
        "              metrics=['accuracy'])\n",
        "model.summary()"
      ],
      "execution_count": 0,
      "outputs": [
        {
          "output_type": "stream",
          "text": [
            "WARNING:tensorflow:From /usr/local/lib/python3.6/dist-packages/keras/backend/tensorflow_backend.py:66: The name tf.get_default_graph is deprecated. Please use tf.compat.v1.get_default_graph instead.\n",
            "\n",
            "WARNING:tensorflow:From /usr/local/lib/python3.6/dist-packages/keras/backend/tensorflow_backend.py:541: The name tf.placeholder is deprecated. Please use tf.compat.v1.placeholder instead.\n",
            "\n",
            "WARNING:tensorflow:From /usr/local/lib/python3.6/dist-packages/keras/backend/tensorflow_backend.py:4432: The name tf.random_uniform is deprecated. Please use tf.random.uniform instead.\n",
            "\n",
            "WARNING:tensorflow:From /usr/local/lib/python3.6/dist-packages/keras/backend/tensorflow_backend.py:190: The name tf.get_default_session is deprecated. Please use tf.compat.v1.get_default_session instead.\n",
            "\n",
            "WARNING:tensorflow:From /usr/local/lib/python3.6/dist-packages/keras/backend/tensorflow_backend.py:197: The name tf.ConfigProto is deprecated. Please use tf.compat.v1.ConfigProto instead.\n",
            "\n",
            "WARNING:tensorflow:From /usr/local/lib/python3.6/dist-packages/keras/backend/tensorflow_backend.py:203: The name tf.Session is deprecated. Please use tf.compat.v1.Session instead.\n",
            "\n",
            "WARNING:tensorflow:From /usr/local/lib/python3.6/dist-packages/keras/backend/tensorflow_backend.py:207: The name tf.global_variables is deprecated. Please use tf.compat.v1.global_variables instead.\n",
            "\n",
            "WARNING:tensorflow:From /usr/local/lib/python3.6/dist-packages/keras/backend/tensorflow_backend.py:216: The name tf.is_variable_initialized is deprecated. Please use tf.compat.v1.is_variable_initialized instead.\n",
            "\n",
            "WARNING:tensorflow:From /usr/local/lib/python3.6/dist-packages/keras/backend/tensorflow_backend.py:223: The name tf.variables_initializer is deprecated. Please use tf.compat.v1.variables_initializer instead.\n",
            "\n",
            "WARNING:tensorflow:From /usr/local/lib/python3.6/dist-packages/keras/optimizers.py:793: The name tf.train.Optimizer is deprecated. Please use tf.compat.v1.train.Optimizer instead.\n",
            "\n",
            "WARNING:tensorflow:From /usr/local/lib/python3.6/dist-packages/keras/backend/tensorflow_backend.py:3657: The name tf.log is deprecated. Please use tf.math.log instead.\n",
            "\n",
            "WARNING:tensorflow:From /usr/local/lib/python3.6/dist-packages/tensorflow_core/python/ops/nn_impl.py:183: where (from tensorflow.python.ops.array_ops) is deprecated and will be removed in a future version.\n",
            "Instructions for updating:\n",
            "Use tf.where in 2.0, which has the same broadcast rule as np.where\n",
            "Model: \"sequential_1\"\n",
            "_________________________________________________________________\n",
            "Layer (type)                 Output Shape              Param #   \n",
            "=================================================================\n",
            "embedding_1 (Embedding)      (None, 50, 300)           74145000  \n",
            "_________________________________________________________________\n",
            "conv1d_1 (Conv1D)            (None, 48, 512)           461312    \n",
            "_________________________________________________________________\n",
            "global_max_pooling1d_1 (Glob (None, 512)               0         \n",
            "_________________________________________________________________\n",
            "dense_1 (Dense)              (None, 64)                32832     \n",
            "_________________________________________________________________\n",
            "dense_2 (Dense)              (None, 1)                 65        \n",
            "=================================================================\n",
            "Total params: 74,639,209\n",
            "Trainable params: 494,209\n",
            "Non-trainable params: 74,145,000\n",
            "_________________________________________________________________\n",
            "time: 5.11 s\n"
          ],
          "name": "stdout"
        }
      ]
    },
    {
      "cell_type": "code",
      "metadata": {
        "id": "WSoMJhnobpV6",
        "colab_type": "code",
        "outputId": "e0c6dd93-2793-4c86-e7f6-f9ddb0353484",
        "colab": {
          "base_uri": "https://localhost:8080/",
          "height": 34
        }
      },
      "source": [
        "y=df['target']"
      ],
      "execution_count": 0,
      "outputs": [
        {
          "output_type": "stream",
          "text": [
            "time: 1.48 ms\n"
          ],
          "name": "stdout"
        }
      ]
    },
    {
      "cell_type": "markdown",
      "metadata": {
        "id": "nlPNLkUXT0B0",
        "colab_type": "text"
      },
      "source": [
        "Define a function to plot training history - "
      ]
    },
    {
      "cell_type": "code",
      "metadata": {
        "id": "8ysWHtCxeL19",
        "colab_type": "code",
        "outputId": "79449be9-a7de-4f59-8852-44939540333c",
        "colab": {
          "base_uri": "https://localhost:8080/",
          "height": 34
        }
      },
      "source": [
        "import matplotlib.pyplot as plt\n",
        "plt.style.use('ggplot')\n",
        "\n",
        "def plot_history(history):\n",
        "    acc = history.history['acc']\n",
        "    val_acc = history.history['val_acc']\n",
        "    loss = history.history['loss']\n",
        "    val_loss = history.history['val_loss']\n",
        "    x = range(1, len(acc) + 1)\n",
        "\n",
        "    plt.figure(figsize=(12, 5))\n",
        "    plt.subplot(1, 2, 1)\n",
        "    plt.plot(x, acc, 'b', label='Training acc')\n",
        "    plt.plot(x, val_acc, 'r', label='Validation acc')\n",
        "    plt.title('Training and validation accuracy')\n",
        "    plt.legend()\n",
        "    plt.subplot(1, 2, 2)\n",
        "    plt.plot(x, loss, 'b', label='Training loss')\n",
        "    plt.plot(x, val_loss, 'r', label='Validation loss')\n",
        "    plt.title('Training and validation loss')\n",
        "    plt.legend()"
      ],
      "execution_count": 0,
      "outputs": [
        {
          "output_type": "stream",
          "text": [
            "time: 9.76 ms\n"
          ],
          "name": "stdout"
        }
      ]
    },
    {
      "cell_type": "code",
      "metadata": {
        "id": "-qmEYtc35QBU",
        "colab_type": "code",
        "outputId": "0ad11fdb-a13b-41cb-e0ec-03c4d80b82ea",
        "colab": {
          "base_uri": "https://localhost:8080/",
          "height": 377
        }
      },
      "source": [
        "from keras.callbacks import ModelCheckpoint, ReduceLROnPlateau\n",
        "\n",
        "checkpoints = ModelCheckpoint('weights.hdf5', monitor=\"val_f1\", mode=\"max\", verbose=True, save_best_only=True)\n",
        "#reduce_lr = ReduceLROnPlateau(monitor='val_f1', factor=0.1, patience=2, verbose=1, min_lr=0.000001)\n",
        "from keras.callbacks import EarlyStopping\n",
        "\n",
        "es = EarlyStopping(monitor='val_loss', mode='min', verbose=1)\n",
        "\n",
        "x_train,x_test,y_train,y_test = train_test_split(X,y, random_state=42,stratify=y)\n",
        "x_train.shape, y_train.shape, x_test.shape, y_test.shape\n",
        "\n",
        "\n",
        "from sklearn.utils import class_weight\n",
        "\n",
        "class_weights = class_weight.compute_class_weight('balanced',\n",
        "                                                 np.unique(y_train),\n",
        "                                                 y_train)\n",
        "\n",
        "\n",
        "batch_size = 32\n",
        "epochs = 7\n",
        "history = model.fit(x_train,y_train, batch_size=batch_size, epochs=epochs, validation_split=0.2,class_weight=class_weights, callbacks=[checkpoints, es])\n"
      ],
      "execution_count": 0,
      "outputs": [
        {
          "output_type": "stream",
          "text": [
            "WARNING:tensorflow:From /usr/local/lib/python3.6/dist-packages/keras/backend/tensorflow_backend.py:1033: The name tf.assign_add is deprecated. Please use tf.compat.v1.assign_add instead.\n",
            "\n",
            "WARNING:tensorflow:From /usr/local/lib/python3.6/dist-packages/keras/backend/tensorflow_backend.py:1020: The name tf.assign is deprecated. Please use tf.compat.v1.assign instead.\n",
            "\n",
            "Train on 783672 samples, validate on 195919 samples\n",
            "Epoch 1/7\n",
            "783672/783672 [==============================] - 128s 164us/step - loss: 0.1385 - acc: 0.9490 - val_loss: 0.1301 - val_acc: 0.9508\n",
            "Epoch 2/7\n",
            "783672/783672 [==============================] - 124s 159us/step - loss: 0.1137 - acc: 0.9560 - val_loss: 0.1379 - val_acc: 0.9509\n",
            "Epoch 3/7\n",
            "783672/783672 [==============================] - 123s 157us/step - loss: 0.0956 - acc: 0.9619 - val_loss: 0.1294 - val_acc: 0.9526\n",
            "Epoch 4/7\n",
            "783672/783672 [==============================] - 124s 158us/step - loss: 0.0787 - acc: 0.9685 - val_loss: 0.1376 - val_acc: 0.9514\n",
            "Epoch 5/7\n",
            "783672/783672 [==============================] - 123s 157us/step - loss: 0.0646 - acc: 0.9741 - val_loss: 0.1521 - val_acc: 0.9488\n",
            "Epoch 6/7\n",
            "783672/783672 [==============================] - 122s 156us/step - loss: 0.0536 - acc: 0.9785 - val_loss: 0.1819 - val_acc: 0.9491\n",
            "Epoch 7/7\n",
            "783672/783672 [==============================] - 123s 156us/step - loss: 0.0456 - acc: 0.9816 - val_loss: 0.2153 - val_acc: 0.9485\n",
            "time: 14min 28s\n"
          ],
          "name": "stdout"
        }
      ]
    },
    {
      "cell_type": "code",
      "metadata": {
        "id": "VAXsSGiOBKAX",
        "colab_type": "code",
        "outputId": "d49b5e37-634a-4a02-d3c2-3d17406d057b",
        "colab": {
          "base_uri": "https://localhost:8080/",
          "height": 388
        }
      },
      "source": [
        "\n",
        "loss, acc = model.evaluate(x_train, y_train, verbose=False)\n",
        "print(\"Training Accuracy: {:.4f}\".format(acc))\n",
        "loss, acc = model.evaluate(x_test, y_test, verbose=False)\n",
        "print(\"Testing Accuracy:  {:.4f}\".format(acc))\n",
        "plot_history(history)"
      ],
      "execution_count": 0,
      "outputs": [
        {
          "output_type": "stream",
          "text": [
            "Training Accuracy: 0.9774\n",
            "Testing Accuracy:  0.9488\n"
          ],
          "name": "stdout"
        },
        {
          "output_type": "display_data",
          "data": {
            "image/png": "[encoded data removed]",
            "text/plain": [
              "<Figure size 864x360 with 2 Axes>"
            ]
          },
          "metadata": {
            "tags": []
          }
        },
        {
          "output_type": "stream",
          "text": [
            "time: 52.9 s\n"
          ],
          "name": "stdout"
        }
      ]
    },
    {
      "cell_type": "markdown",
      "metadata": {
        "id": "MPxhxSSfjCQg",
        "colab_type": "text"
      },
      "source": [
        "Early Stopping is tried below-"
      ]
    },
    {
      "cell_type": "code",
      "metadata": {
        "id": "ds_QVFTDg-7o",
        "colab_type": "code",
        "outputId": "5b76e364-d4ab-4651-b534-1d0a37c7ec65",
        "colab": {
          "base_uri": "https://localhost:8080/",
          "height": 136
        }
      },
      "source": [
        "from keras.callbacks import ModelCheckpoint, ReduceLROnPlateau\n",
        "\n",
        "checkpoints = ModelCheckpoint('weights.hdf5', monitor=\"val_f1\", mode=\"max\", verbose=True, save_best_only=True)\n",
        "\n",
        "from keras.callbacks import EarlyStopping\n",
        "\n",
        "es = EarlyStopping(monitor='val_loss', mode='min', verbose=1)\n",
        "\n",
        "x_train,x_test,y_train,y_test = train_test_split(X,y, random_state=42,stratify=y)\n",
        "x_train.shape, y_train.shape, x_test.shape, y_test.shape\n",
        "\n",
        "\n",
        "from sklearn.utils import class_weight\n",
        "\n",
        "class_weights = class_weight.compute_class_weight('balanced',\n",
        "                                                 np.unique(y_train),\n",
        "                                                 y_train)\n",
        "\n",
        "\n",
        "batch_size = 32\n",
        "epochs = 7\n",
        "history = model.fit(x_train,y_train, batch_size=batch_size, epochs=epochs, validation_split=0.2,class_weight=class_weights, callbacks=[checkpoints, es])\n"
      ],
      "execution_count": 0,
      "outputs": [
        {
          "output_type": "stream",
          "text": [
            "Train on 783672 samples, validate on 195919 samples\n",
            "Epoch 1/7\n",
            "783672/783672 [==============================] - 123s 157us/step - loss: 0.0394 - acc: 0.9841 - val_loss: 0.2152 - val_acc: 0.9468\n",
            "Epoch 2/7\n",
            "783672/783672 [==============================] - 124s 158us/step - loss: 0.0343 - acc: 0.9862 - val_loss: 0.2402 - val_acc: 0.9424\n",
            "Epoch 00002: early stopping\n",
            "time: 4min 8s\n"
          ],
          "name": "stdout"
        }
      ]
    },
    {
      "cell_type": "code",
      "metadata": {
        "id": "ahraFCRXiUsQ",
        "colab_type": "code",
        "outputId": "e1f27dac-f7bf-4775-ae39-168f3cf18f03",
        "colab": {
          "base_uri": "https://localhost:8080/",
          "height": 388
        }
      },
      "source": [
        "\n",
        "loss, acc = model.evaluate(x_train, y_train, verbose=False)\n",
        "print(\"Training Accuracy: {:.4f}\".format(acc))\n",
        "loss, acc = model.evaluate(x_test, y_test, verbose=False)\n",
        "print(\"Testing Accuracy:  {:.4f}\".format(acc))\n",
        "plot_history(history)"
      ],
      "execution_count": 0,
      "outputs": [
        {
          "output_type": "stream",
          "text": [
            "Training Accuracy: 0.9805\n",
            "Testing Accuracy:  0.9424\n"
          ],
          "name": "stdout"
        },
        {
          "output_type": "display_data",
          "data": {
            "image/png": "[encoded data removed]",
            "text/plain": [
              "<Figure size 864x360 with 2 Axes>"
            ]
          },
          "metadata": {
            "tags": []
          }
        },
        {
          "output_type": "stream",
          "text": [
            "time: 52.5 s\n"
          ],
          "name": "stdout"
        }
      ]
    },
    {
      "cell_type": "code",
      "metadata": {
        "id": "1p7xRk5Ie_2S",
        "colab_type": "code",
        "outputId": "0f151827-ab66-4378-b6bf-27125d1d99c1",
        "colab": {
          "base_uri": "https://localhost:8080/",
          "height": 866
        }
      },
      "source": [
        "y_pred=model.predict_classes(x_test)\n",
        "y_pred\n",
        "classifier_reports(y_test, y_pred)"
      ],
      "execution_count": 0,
      "outputs": [
        {
          "output_type": "stream",
          "text": [
            "\n",
            "              precision    recall  f1-score   support\n",
            "\n",
            "      class0       0.96      0.98      0.97    306328\n",
            "      class1       0.62      0.45      0.52     20203\n",
            "\n",
            "    accuracy                           0.95    326531\n",
            "   macro avg       0.79      0.72      0.75    326531\n",
            "weighted avg       0.94      0.95      0.94    326531\n",
            "\n",
            "Confusion matrix, without normalization\n",
            "[[300662   5666]\n",
            " [ 11117   9086]]\n",
            "Normalized confusion matrix\n",
            "[[0.98150349 0.01849651]\n",
            " [0.55026481 0.44973519]]\n"
          ],
          "name": "stdout"
        },
        {
          "output_type": "display_data",
          "data": {
            "image/png": "[encoded data removed]",
            "text/plain": [
              "<Figure size 432x288 with 2 Axes>"
            ]
          },
          "metadata": {
            "tags": []
          }
        },
        {
          "output_type": "display_data",
          "data": {
            "image/png": "[encoded data removed]",
            "text/plain": [
              "<Figure size 432x288 with 2 Axes>"
            ]
          },
          "metadata": {
            "tags": []
          }
        },
        {
          "output_type": "stream",
          "text": [
            "time: 23.4 s\n"
          ],
          "name": "stdout"
        }
      ]
    },
    {
      "cell_type": "code",
      "metadata": {
        "id": "XRxG-6FO4AOT",
        "colab_type": "code",
        "outputId": "913e72dc-5615-4fb5-a48c-21eb25c4db18",
        "colab": {
          "base_uri": "https://localhost:8080/",
          "height": 866
        }
      },
      "source": [
        "y_pred=model.predict(x_test)\n",
        "y_pred\n",
        "classifier_reports(y_test, (y_pred>0.3).astype(int))"
      ],
      "execution_count": 0,
      "outputs": [
        {
          "output_type": "stream",
          "text": [
            "\n",
            "              precision    recall  f1-score   support\n",
            "\n",
            "      class0       0.97      0.97      0.97    306328\n",
            "      class1       0.56      0.55      0.56     20203\n",
            "\n",
            "    accuracy                           0.95    326531\n",
            "   macro avg       0.77      0.76      0.76    326531\n",
            "weighted avg       0.95      0.95      0.95    326531\n",
            "\n",
            "Confusion matrix, without normalization\n",
            "[[297621   8707]\n",
            " [  9046  11157]]\n",
            "Normalized confusion matrix\n",
            "[[0.97157622 0.02842378]\n",
            " [0.44775528 0.55224472]]\n"
          ],
          "name": "stdout"
        },
        {
          "output_type": "display_data",
          "data": {
            "image/png": "[encoded data removed]",
            "text/plain": [
              "<Figure size 432x288 with 2 Axes>"
            ]
          },
          "metadata": {
            "tags": []
          }
        },
        {
          "output_type": "display_data",
          "data": {
            "image/png": "[encoded data removed]",
            "text/plain": [
              "<Figure size 432x288 with 2 Axes>"
            ]
          },
          "metadata": {
            "tags": []
          }
        },
        {
          "output_type": "stream",
          "text": [
            "time: 22.7 s\n"
          ],
          "name": "stdout"
        }
      ]
    }
  ]
}